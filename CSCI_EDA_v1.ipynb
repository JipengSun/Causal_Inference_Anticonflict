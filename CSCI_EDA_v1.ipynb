{
 "cells": [
  {
   "cell_type": "code",
   "execution_count": 1,
   "id": "3db604c3-620a-46c0-acd4-d8083211212e",
   "metadata": {},
   "outputs": [
    {
     "name": "stderr",
     "output_type": "stream",
     "text": [
      "/Users/tylermaule/opt/miniconda3/envs/csci_project/lib/python3.9/site-packages/statsmodels/compat/pandas.py:61: FutureWarning: pandas.Int64Index is deprecated and will be removed from pandas in a future version. Use pandas.Index with the appropriate dtype instead.\n",
      "  from pandas import Int64Index as NumericIndex\n"
     ]
    }
   ],
   "source": [
    "import pandas as pd\n",
    "import numpy as np\n",
    "import seaborn as sns\n",
    "import matplotlib.pyplot as plt\n",
    "import statsmodels.imputation.mice as mic\n",
    "import statsmodels.formula.api as smf\n",
    "import statsmodels.discrete.discrete_model as smf_discrete\n",
    "import patsy\n",
    "\n",
    "sns.set()"
   ]
  },
  {
   "cell_type": "code",
   "execution_count": 2,
   "id": "17fefe23-506c-4ae4-be38-5fbb34dc142c",
   "metadata": {},
   "outputs": [
    {
     "data": {
      "text/plain": [
       "(24471, 500)"
      ]
     },
     "execution_count": 2,
     "metadata": {},
     "output_type": "execute_result"
    }
   ],
   "source": [
    "study_df = pd.read_csv(\"data/anticonflict_study_dataframe.csv\",low_memory=False)\n",
    "study_df.shape"
   ]
  },
  {
   "cell_type": "code",
   "execution_count": 3,
   "id": "97cbe2b6-9a30-4aca-9707-4d5044348281",
   "metadata": {},
   "outputs": [
    {
     "data": {
      "text/plain": [
       "Index(['HOBGW2', 'STFRW2', 'IPHNW2', 'SMPHW2', 'PHNIW2', 'CMPW2', 'ACTSSW2',\n",
       "       'ACTSOW2', 'ACTTW2', 'ACTMW2',\n",
       "       ...\n",
       "       'MYHEW2', 'MYGSW2', 'SPRTW2', 'HOBGW2', 'STFRW2', 'CN1W2', 'CN2W2',\n",
       "       'CN3W2', 'CN4W2', 'CN5W2'],\n",
       "      dtype='object', length=369)"
      ]
     },
     "execution_count": 3,
     "metadata": {},
     "output_type": "execute_result"
    }
   ],
   "source": [
    "relevant_vars = pd.read_csv(\"data/VariableInclusion250.txt\",header=None)[0].unique()\n",
    "addtl_vars = relevant_vars[-1].split(\"\\t\")\n",
    "relevant_vars2 = np.concatenate([relevant_vars[:-1],addtl_vars])\n",
    "relevant_vars3 = [col.translate({ord(\"(\"):\"\",ord(\")\"):\"\"}).upper() for col in relevant_vars2]\n",
    "\n",
    "study_df = study_df[relevant_vars3]\n",
    "study_df.columns"
   ]
  },
  {
   "cell_type": "code",
   "execution_count": 4,
   "id": "4d625516-363d-47e8-b9e6-2a730ad560bf",
   "metadata": {},
   "outputs": [
    {
     "data": {
      "text/plain": [
       "(24471, 348)"
      ]
     },
     "execution_count": 4,
     "metadata": {},
     "output_type": "execute_result"
    }
   ],
   "source": [
    "#coercing values which indicate errors or missingness to NaN\n",
    "study_df = pd.DataFrame(study_df.apply(lambda x: np.where(x.isin([\n",
    "    \"-99              \", \"-77              \",\"\",\"-98              \",\"-97              \",\n",
    "    \"-55              \",\"-88              \",\"-66              \",\"[MASKED BY ICPSR]\"]),np.nan,x)))\n",
    "\n",
    "#dropping columns where over 50% of values are NaN and rows where all values are NaN\n",
    "study_df.drop(columns=study_df.columns[(study_df.isna()).mean()>0.5].values, inplace=True)\n",
    "#study_df.drop(columns=study_df.columns[(study_df.isna()).all(0)].values, inplace=True)\n",
    "study_df = study_df[~(study_df.isna()).all(1)]\n",
    "\n",
    "study_df.shape"
   ]
  },
  {
   "cell_type": "code",
   "execution_count": 5,
   "id": "69fd65c8-c6bd-4b88-b84e-572be2e898a1",
   "metadata": {},
   "outputs": [
    {
     "data": {
      "text/plain": [
       "(1224, 336)"
      ]
     },
     "execution_count": 5,
     "metadata": {},
     "output_type": "execute_result"
    }
   ],
   "source": [
    "mtest_df = study_df.sample(frac=0.05).reset_index(drop=True)\n",
    "mtest_ids = mtest_df[[\"UID\",\"SCHID\"]]\n",
    "mtest_df.drop(columns=[\"UID\",\"SCHID\",\"SCHOOL_ID\",\"ID2W2\",\"SCHIDW2\",\"IDN\",\"BLOCKNUMBER\",\"BLOCKVAR\",\"SCHTREAT\",\"TREAT\",\"SCHRB\",\"STRB\"],inplace=True)\n",
    "mtest_noms = [col for col in mtest_df.columns if (\"ST\" in col) & (\"CN\" in col)]\n",
    "mtest_df.drop(columns=mtest_noms,inplace=True)\n",
    "mtest_df.shape"
   ]
  },
  {
   "cell_type": "code",
   "execution_count": 6,
   "id": "21052583-c948-4740-a170-d3b5697e6999",
   "metadata": {},
   "outputs": [
    {
     "data": {
      "text/plain": [
       "DN2W2       0.100490\n",
       "FLIHCW2     0.104575\n",
       "CILW2       0.104575\n",
       "CFLW2       0.104575\n",
       "CSCAW2      0.104575\n",
       "              ...   \n",
       "DNCL11W2    0.431373\n",
       "DNCL12W2    0.431373\n",
       "DNCL14W2    0.431373\n",
       "DNCL4W2     0.431373\n",
       "DNCL9W2     0.431373\n",
       "Length: 129, dtype: float64"
      ]
     },
     "execution_count": 6,
     "metadata": {},
     "output_type": "execute_result"
    }
   ],
   "source": [
    "response_var_list = pd.read_csv(\"data/Response_VariableInclusion250.txt\",header=None)[0]\n",
    "response_var_names = [str(col).translate({ord(\"(\"):\"\",ord(\")\"):\"\"}).upper() for col in response_var_list]\n",
    "\n",
    "mtest_response = mtest_df[response_var_names]\n",
    "mtest_response.isna().mean().sort_values()"
   ]
  },
  {
   "cell_type": "code",
   "execution_count": 7,
   "id": "2b86d08e-8b52-42e8-9b46-e6a4a8f7d592",
   "metadata": {},
   "outputs": [
    {
     "data": {
      "text/html": [
       "<div>\n",
       "<style scoped>\n",
       "    .dataframe tbody tr th:only-of-type {\n",
       "        vertical-align: middle;\n",
       "    }\n",
       "\n",
       "    .dataframe tbody tr th {\n",
       "        vertical-align: top;\n",
       "    }\n",
       "\n",
       "    .dataframe thead th {\n",
       "        text-align: right;\n",
       "    }\n",
       "</style>\n",
       "<table border=\"1\" class=\"dataframe\">\n",
       "  <thead>\n",
       "    <tr style=\"text-align: right;\">\n",
       "      <th></th>\n",
       "      <th>DN1W2</th>\n",
       "      <th>DN2W2</th>\n",
       "      <th>DN3W2</th>\n",
       "      <th>DN4W2</th>\n",
       "      <th>DN5W2</th>\n",
       "      <th>DN6W2</th>\n",
       "      <th>DN7W2</th>\n",
       "      <th>DN8W2</th>\n",
       "      <th>DN9W2</th>\n",
       "      <th>DN10W2</th>\n",
       "      <th>...</th>\n",
       "      <th>DE43</th>\n",
       "      <th>DE44</th>\n",
       "      <th>DE45</th>\n",
       "      <th>DE46</th>\n",
       "      <th>DE47</th>\n",
       "      <th>DE48</th>\n",
       "      <th>DE49</th>\n",
       "      <th>DE50</th>\n",
       "      <th>DE51</th>\n",
       "      <th>DE98</th>\n",
       "    </tr>\n",
       "  </thead>\n",
       "  <tbody>\n",
       "    <tr>\n",
       "      <th>0</th>\n",
       "      <td>(0) Never</td>\n",
       "      <td>(3) 2-3 times/week</td>\n",
       "      <td>(4) Every day</td>\n",
       "      <td>(3) 2-3 times/week</td>\n",
       "      <td>(4) Every day</td>\n",
       "      <td>(4) Every day</td>\n",
       "      <td>(0) Never</td>\n",
       "      <td>(4) Every day</td>\n",
       "      <td>(0) Never</td>\n",
       "      <td>(4) Every day</td>\n",
       "      <td>...</td>\n",
       "      <td>0</td>\n",
       "      <td>0</td>\n",
       "      <td>0</td>\n",
       "      <td>0</td>\n",
       "      <td>0</td>\n",
       "      <td>0</td>\n",
       "      <td>0</td>\n",
       "      <td>0</td>\n",
       "      <td>0</td>\n",
       "      <td>0</td>\n",
       "    </tr>\n",
       "    <tr>\n",
       "      <th>1</th>\n",
       "      <td>(1) 1-2 times/month</td>\n",
       "      <td>(1) 1-2 times/month</td>\n",
       "      <td>(3) 2-3 times/week</td>\n",
       "      <td>(0) Never</td>\n",
       "      <td>(0) Never</td>\n",
       "      <td>(0) Never</td>\n",
       "      <td>(0) Never</td>\n",
       "      <td>(1) 1-2 times/month</td>\n",
       "      <td>(1) 1-2 times/month</td>\n",
       "      <td>(0) Never</td>\n",
       "      <td>...</td>\n",
       "      <td>0</td>\n",
       "      <td>0</td>\n",
       "      <td>0</td>\n",
       "      <td>0</td>\n",
       "      <td>0</td>\n",
       "      <td>0</td>\n",
       "      <td>0</td>\n",
       "      <td>0</td>\n",
       "      <td>0</td>\n",
       "      <td>0</td>\n",
       "    </tr>\n",
       "    <tr>\n",
       "      <th>2</th>\n",
       "      <td>(4) Every day</td>\n",
       "      <td>(4) Every day</td>\n",
       "      <td>(4) Every day</td>\n",
       "      <td>(4) Every day</td>\n",
       "      <td>(3) 2-3 times/week</td>\n",
       "      <td>(4) Every day</td>\n",
       "      <td>(3) 2-3 times/week</td>\n",
       "      <td>(4) Every day</td>\n",
       "      <td>(1) 1-2 times/month</td>\n",
       "      <td>(2) About 1 time/week</td>\n",
       "      <td>...</td>\n",
       "      <td>0</td>\n",
       "      <td>0</td>\n",
       "      <td>0</td>\n",
       "      <td>0</td>\n",
       "      <td>0</td>\n",
       "      <td>0</td>\n",
       "      <td>0</td>\n",
       "      <td>0</td>\n",
       "      <td>0</td>\n",
       "      <td>0</td>\n",
       "    </tr>\n",
       "  </tbody>\n",
       "</table>\n",
       "<p>3 rows × 129 columns</p>\n",
       "</div>"
      ],
      "text/plain": [
       "                 DN1W2                DN2W2               DN3W2  \\\n",
       "0            (0) Never   (3) 2-3 times/week       (4) Every day   \n",
       "1  (1) 1-2 times/month  (1) 1-2 times/month  (3) 2-3 times/week   \n",
       "2        (4) Every day        (4) Every day       (4) Every day   \n",
       "\n",
       "                DN4W2               DN5W2          DN6W2               DN7W2  \\\n",
       "0  (3) 2-3 times/week       (4) Every day  (4) Every day           (0) Never   \n",
       "1           (0) Never           (0) Never      (0) Never           (0) Never   \n",
       "2       (4) Every day  (3) 2-3 times/week  (4) Every day  (3) 2-3 times/week   \n",
       "\n",
       "                 DN8W2                DN9W2                 DN10W2  ... DE43  \\\n",
       "0        (4) Every day            (0) Never          (4) Every day  ...    0   \n",
       "1  (1) 1-2 times/month  (1) 1-2 times/month              (0) Never  ...    0   \n",
       "2        (4) Every day  (1) 1-2 times/month  (2) About 1 time/week  ...    0   \n",
       "\n",
       "  DE44 DE45 DE46 DE47 DE48 DE49 DE50 DE51 DE98  \n",
       "0    0    0    0    0    0    0    0    0    0  \n",
       "1    0    0    0    0    0    0    0    0    0  \n",
       "2    0    0    0    0    0    0    0    0    0  \n",
       "\n",
       "[3 rows x 129 columns]"
      ]
     },
     "execution_count": 7,
     "metadata": {},
     "output_type": "execute_result"
    }
   ],
   "source": [
    "de_var_names = [col for col in mtest_response.columns if \"DE\" in col]\n",
    "de_imputed = mtest_response.loc[:,de_var_names].apply(lambda x: np.where(x.isna(),0,x.fillna(0).astype(int)))\n",
    "mtest_response = pd.concat([mtest_response.drop(columns=de_var_names),de_imputed],axis=1)\n",
    "mtest_response.head(3)"
   ]
  },
  {
   "cell_type": "code",
   "execution_count": 8,
   "id": "bb7a2046-e8ed-43bd-9b6b-c55340de93ac",
   "metadata": {},
   "outputs": [
    {
     "data": {
      "text/html": [
       "<div>\n",
       "<style scoped>\n",
       "    .dataframe tbody tr th:only-of-type {\n",
       "        vertical-align: middle;\n",
       "    }\n",
       "\n",
       "    .dataframe tbody tr th {\n",
       "        vertical-align: top;\n",
       "    }\n",
       "\n",
       "    .dataframe thead th {\n",
       "        text-align: right;\n",
       "    }\n",
       "</style>\n",
       "<table border=\"1\" class=\"dataframe\">\n",
       "  <thead>\n",
       "    <tr style=\"text-align: right;\">\n",
       "      <th></th>\n",
       "      <th>c1_DE2</th>\n",
       "      <th>c22_DE23</th>\n",
       "      <th>c24_DE25</th>\n",
       "      <th>c25_DE26</th>\n",
       "      <th>c29_DE30</th>\n",
       "      <th>c30_DE31</th>\n",
       "      <th>c31_DE32</th>\n",
       "      <th>c33_DE34</th>\n",
       "      <th>c40_DE41</th>\n",
       "      <th>c44_DE45</th>\n",
       "      <th>...</th>\n",
       "      <th>c212_TOMELNW2_DUMMY1</th>\n",
       "      <th>c213_TOMERGW2_DUMMY1</th>\n",
       "      <th>c214_TOMERBW2_DUMMY1</th>\n",
       "      <th>c215_TOMEMFW2_DUMMY1</th>\n",
       "      <th>c216_TOMEPMW2_DUMMY1</th>\n",
       "      <th>c217_TOMETHPW2_DUMMY1</th>\n",
       "      <th>c218_TOMEREW2_DUMMY1</th>\n",
       "      <th>c219_TOMESGW2_DUMMY1</th>\n",
       "      <th>c220_TOMESUW2_DUMMY1</th>\n",
       "      <th>c221_TOMEHDW2_DUMMY1</th>\n",
       "    </tr>\n",
       "  </thead>\n",
       "  <tbody>\n",
       "    <tr>\n",
       "      <th>0</th>\n",
       "      <td>0</td>\n",
       "      <td>0</td>\n",
       "      <td>0</td>\n",
       "      <td>0</td>\n",
       "      <td>0</td>\n",
       "      <td>0</td>\n",
       "      <td>0</td>\n",
       "      <td>0</td>\n",
       "      <td>0</td>\n",
       "      <td>0</td>\n",
       "      <td>...</td>\n",
       "      <td>1</td>\n",
       "      <td>0</td>\n",
       "      <td>0</td>\n",
       "      <td>0</td>\n",
       "      <td>0</td>\n",
       "      <td>1</td>\n",
       "      <td>0</td>\n",
       "      <td>0</td>\n",
       "      <td>0</td>\n",
       "      <td>1</td>\n",
       "    </tr>\n",
       "    <tr>\n",
       "      <th>1</th>\n",
       "      <td>0</td>\n",
       "      <td>0</td>\n",
       "      <td>0</td>\n",
       "      <td>0</td>\n",
       "      <td>0</td>\n",
       "      <td>0</td>\n",
       "      <td>0</td>\n",
       "      <td>0</td>\n",
       "      <td>0</td>\n",
       "      <td>0</td>\n",
       "      <td>...</td>\n",
       "      <td>1</td>\n",
       "      <td>1</td>\n",
       "      <td>0</td>\n",
       "      <td>0</td>\n",
       "      <td>1</td>\n",
       "      <td>0</td>\n",
       "      <td>0</td>\n",
       "      <td>0</td>\n",
       "      <td>0</td>\n",
       "      <td>1</td>\n",
       "    </tr>\n",
       "    <tr>\n",
       "      <th>2</th>\n",
       "      <td>0</td>\n",
       "      <td>0</td>\n",
       "      <td>0</td>\n",
       "      <td>0</td>\n",
       "      <td>0</td>\n",
       "      <td>0</td>\n",
       "      <td>0</td>\n",
       "      <td>0</td>\n",
       "      <td>0</td>\n",
       "      <td>0</td>\n",
       "      <td>...</td>\n",
       "      <td>1</td>\n",
       "      <td>1</td>\n",
       "      <td>1</td>\n",
       "      <td>1</td>\n",
       "      <td>1</td>\n",
       "      <td>1</td>\n",
       "      <td>1</td>\n",
       "      <td>1</td>\n",
       "      <td>0</td>\n",
       "      <td>1</td>\n",
       "    </tr>\n",
       "  </tbody>\n",
       "</table>\n",
       "<p>3 rows × 177 columns</p>\n",
       "</div>"
      ],
      "text/plain": [
       "   c1_DE2  c22_DE23  c24_DE25  c25_DE26  c29_DE30  c30_DE31  c31_DE32  \\\n",
       "0       0         0         0         0         0         0         0   \n",
       "1       0         0         0         0         0         0         0   \n",
       "2       0         0         0         0         0         0         0   \n",
       "\n",
       "   c33_DE34  c40_DE41  c44_DE45  ...  c212_TOMELNW2_DUMMY1  \\\n",
       "0         0         0         0  ...                     1   \n",
       "1         0         0         0  ...                     1   \n",
       "2         0         0         0  ...                     1   \n",
       "\n",
       "   c213_TOMERGW2_DUMMY1  c214_TOMERBW2_DUMMY1  c215_TOMEMFW2_DUMMY1  \\\n",
       "0                     0                     0                     0   \n",
       "1                     1                     0                     0   \n",
       "2                     1                     1                     1   \n",
       "\n",
       "   c216_TOMEPMW2_DUMMY1  c217_TOMETHPW2_DUMMY1  c218_TOMEREW2_DUMMY1  \\\n",
       "0                     0                      1                     0   \n",
       "1                     1                      0                     0   \n",
       "2                     1                      1                     1   \n",
       "\n",
       "   c219_TOMESGW2_DUMMY1  c220_TOMESUW2_DUMMY1  c221_TOMEHDW2_DUMMY1  \n",
       "0                     0                     0                     1  \n",
       "1                     0                     0                     1  \n",
       "2                     1                     0                     1  \n",
       "\n",
       "[3 rows x 177 columns]"
      ]
     },
     "execution_count": 8,
     "metadata": {},
     "output_type": "execute_result"
    }
   ],
   "source": [
    "r_dummy_df = pd.get_dummies(mtest_response,drop_first=True,prefix_sep='_DUMMY')\n",
    "r_dummy_df.columns = [\"c\"+str(i)+\"_\"+(col.split()[0]).translate({ord(\"(\"):\"\",ord(\")\"):\"\",ord(\"[\"):\"\",ord(\"]\"):\"\"})\\\n",
    "                    for i, col in zip(range(r_dummy_df.shape[1]),r_dummy_df.columns)]\n",
    "r_dummy_df = r_dummy_df.loc[:,~(r_dummy_df.var()<0.05).values]\n",
    "r_dummy_df.head(3)"
   ]
  },
  {
   "cell_type": "code",
   "execution_count": 9,
   "id": "424da3c0-fba6-47cd-be0b-23b36dfcbd1b",
   "metadata": {},
   "outputs": [
    {
     "data": {
      "text/plain": [
       "<statsmodels.imputation.mice.MICEData at 0x7ff528c03340>"
      ]
     },
     "execution_count": 9,
     "metadata": {},
     "output_type": "execute_result"
    }
   ],
   "source": [
    "imputed_df = mic.MICEData(r_dummy_df)\n",
    "mice_col = \"c190_CILW2_DUMMY1\"\n",
    "mice_formula = \"\" + mice_col + \" ~ \" + (\"+\").join([(str(col)) for col in r_dummy_df.columns\\\n",
    "                                            if (col != mice_col)])\n",
    "imputed_df"
   ]
  },
  {
   "cell_type": "code",
   "execution_count": 10,
   "id": "d836be6b-87a3-4ea9-953a-43a519148f97",
   "metadata": {},
   "outputs": [],
   "source": [
    "#patsy.dmatrices(mice_formula, r_dummy_df)"
   ]
  },
  {
   "cell_type": "code",
   "execution_count": 11,
   "id": "f8811746-6b73-4826-888c-1500abc57d9f",
   "metadata": {},
   "outputs": [
    {
     "name": "stdout",
     "output_type": "stream",
     "text": [
      "Optimization terminated successfully.\n",
      "         Current function value: 0.294111\n",
      "         Iterations 8\n",
      "Optimization terminated successfully.\n",
      "         Current function value: 0.294111\n",
      "         Iterations 1\n",
      "Optimization terminated successfully.\n",
      "         Current function value: 0.294111\n",
      "         Iterations 1\n",
      "Optimization terminated successfully.\n",
      "         Current function value: 0.294111\n",
      "         Iterations 1\n",
      "Optimization terminated successfully.\n",
      "         Current function value: 0.294111\n",
      "         Iterations 1\n",
      "Optimization terminated successfully.\n",
      "         Current function value: 0.294111\n",
      "         Iterations 1\n",
      "Optimization terminated successfully.\n",
      "         Current function value: 0.294111\n",
      "         Iterations 1\n",
      "Optimization terminated successfully.\n",
      "         Current function value: 0.294111\n",
      "         Iterations 1\n",
      "Optimization terminated successfully.\n",
      "         Current function value: 0.294111\n",
      "         Iterations 1\n",
      "Optimization terminated successfully.\n",
      "         Current function value: 0.294111\n",
      "         Iterations 1\n",
      "[-3.81434049e+00  3.25471266e-01  3.61095773e-01  9.65435538e-03\n",
      " -1.32105696e-01  4.55425576e-02  3.18503839e-01 -6.67289595e-01\n",
      "  5.93174589e-01 -3.34764955e-02  1.84379053e-01  1.68940215e-01\n",
      "  1.11125514e+00  8.19253073e-01  6.86625045e-01  2.97900335e-01\n",
      "  5.19568733e-01  4.36753948e-01  8.42803427e-01 -6.03553140e-03\n",
      " -8.86058275e-01 -6.61167511e-01  2.40847705e-01 -2.18842807e-01\n",
      "  3.93397393e-01  1.01291469e+00  6.67705462e-01 -2.30465242e-01\n",
      " -2.10203950e-01 -5.40930013e-01 -4.88692924e-01 -5.69606998e-01\n",
      " -2.50378473e-01  1.90952187e-01 -1.44009864e-01 -2.84525657e-01\n",
      " -1.71852589e-01  9.20241045e-02 -5.12432929e-01  6.49838041e-01\n",
      " -6.62969459e-01  2.59092061e-01 -8.09242759e-02  9.89725718e-02\n",
      " -4.18583780e-01  4.10311188e-02  5.51563589e-01 -1.06122923e-01\n",
      "  2.68492462e-01 -2.43980318e-01 -6.51664113e-01  6.00788976e-01\n",
      " -4.06680483e-01  6.98954571e-01  3.54266223e-01  1.01727850e-01\n",
      "  1.04789709e-01 -3.36796366e-01  5.43131022e-01  4.58247751e-02\n",
      "  2.65712102e-01 -2.41137494e-01 -3.24218504e-01  3.20967590e-01\n",
      "  1.06613340e-01 -3.60796721e-01  7.66976309e-01  2.16976112e-01\n",
      "  3.15300301e-01 -9.34469248e-01 -6.30834952e-02 -2.42052836e-01\n",
      "  3.59471042e-01 -4.68530904e-01  1.21238551e-01 -2.45245921e-01\n",
      "  1.01146312e+00  1.68862226e+00  1.18119173e+00  6.00088438e-01\n",
      "  9.74657114e-02  7.67786400e-01  7.09297821e-02 -5.31092762e-01\n",
      " -7.55424988e-01 -6.65932869e-01  2.50375884e-01  1.93555984e-01\n",
      " -5.82790785e-02 -4.20209277e-01 -2.09901888e-02 -3.39368520e-02\n",
      "  1.67614827e-01 -4.98870760e-01  1.57074360e-01  2.63167740e-01\n",
      " -1.12896339e-01  2.42657749e-01 -1.97853146e-01  5.49774745e-01\n",
      " -4.56548094e-01 -3.39998321e-01 -7.38296602e-01 -1.02281482e+00\n",
      " -3.57295647e-01 -8.48597371e-01 -6.88948775e-01 -2.93845600e-01\n",
      "  3.24524534e-01 -2.44023985e-01  3.09133497e-01  3.14581632e-01\n",
      "  5.56588570e-01  6.26544024e-01 -6.65004372e-01 -4.72031358e-01\n",
      " -1.13408306e+00 -6.91017029e-01 -9.33259194e-01 -7.08321944e-01\n",
      " -1.64409048e-01  9.70011033e-02  9.11983826e-03 -2.32478469e-01\n",
      " -9.85497549e-01 -2.12525037e-01 -7.18971305e-01 -2.18772252e-01\n",
      "  3.84578027e-01  6.13221517e-01  6.74321488e-01  7.62907686e-01\n",
      "  4.24907493e-01  1.02717129e-01  4.59142085e-01 -2.11651932e-01\n",
      "  1.77594483e-01 -5.26131807e-01 -8.54544340e-01  6.49132469e-01\n",
      "  2.24329691e-03 -1.78833306e-01 -1.28298307e-01 -4.39546113e-02\n",
      " -3.94528559e-01  4.83552706e-01  8.76848748e-02  2.01550279e+00\n",
      " -4.52991767e-01  2.76222684e-01  4.66045078e-02  7.10340515e-01\n",
      "  5.40855793e-01  2.39141059e-01 -4.37277037e-01  7.52671869e-02\n",
      " -4.52309780e-01  3.15442331e-01  2.50648976e-01 -6.38981242e-01\n",
      "  1.60663118e-02 -6.87007099e-01 -4.19743893e-01 -4.27839903e-01\n",
      "  2.96718370e-01 -2.89567632e-02  9.44115381e-01  1.92718912e-01\n",
      "  2.38995921e-01  4.10840574e-01 -2.17316722e-01  6.65733648e-01\n",
      "  2.86960276e-01 -8.65010112e-02  1.81500712e-01  2.77382847e-01\n",
      "  2.25995338e-01]\n"
     ]
    }
   ],
   "source": [
    "game_mice = mic.MICE(model_class=smf_discrete.Logit, model_formula=mice_formula,\n",
    "                 data=imputed_df)\n",
    "results = game_mice.fit(10, 10)\n",
    "print(results.params)"
   ]
  },
  {
   "cell_type": "markdown",
   "id": "3abb86a9-5da7-45f5-b4e7-3c187626f745",
   "metadata": {},
   "source": [
    "## "
   ]
  }
 ],
 "metadata": {
  "kernelspec": {
   "display_name": "Python 3 (ipykernel)",
   "language": "python",
   "name": "python3"
  },
  "language_info": {
   "codemirror_mode": {
    "name": "ipython",
    "version": 3
   },
   "file_extension": ".py",
   "mimetype": "text/x-python",
   "name": "python",
   "nbconvert_exporter": "python",
   "pygments_lexer": "ipython3",
   "version": "3.9.7"
  }
 },
 "nbformat": 4,
 "nbformat_minor": 5
}
