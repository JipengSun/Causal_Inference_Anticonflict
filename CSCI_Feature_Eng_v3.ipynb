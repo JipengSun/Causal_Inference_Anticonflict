{
 "cells": [
  {
   "cell_type": "code",
   "execution_count": 1,
   "id": "066da968-92ed-44bc-853e-4ed0872df917",
   "metadata": {},
   "outputs": [],
   "source": [
    "import pandas as pd\n",
    "import numpy as np\n",
    "import seaborn as sns\n",
    "import matplotlib.pyplot as plt\n",
    "import miceforest as mf\n",
    "import re\n",
    "\n",
    "sns.set()"
   ]
  },
  {
   "cell_type": "code",
   "execution_count": 2,
   "id": "6606aa61-c1c4-43d4-8d58-b62cc73dfa26",
   "metadata": {},
   "outputs": [
    {
     "data": {
      "text/plain": [
       "(22721, 222)"
      ]
     },
     "execution_count": 2,
     "metadata": {},
     "output_type": "execute_result"
    }
   ],
   "source": [
    "response_vars_df1 = pd.read_csv(\"data/full_unimputed_response_df.csv\").iloc[:,1:]\n",
    "response_vars_df1.shape"
   ]
  },
  {
   "cell_type": "code",
   "execution_count": 3,
   "id": "a11772fc-4afc-4cd1-aa5c-5a2009a38134",
   "metadata": {},
   "outputs": [
    {
     "data": {
      "text/plain": [
       "(22721, 157)"
      ]
     },
     "execution_count": 3,
     "metadata": {},
     "output_type": "execute_result"
    }
   ],
   "source": [
    "predictor_vars_df1 = (pd.read_csv(\"data/full_imputed_predictor_df_iter0.csv\")).iloc[:,1:]\n",
    "#cleaned_cols = [''.join(re.split(r'(\\d+)', col)[2:]) for col in predictor_vars_df1.columns]\n",
    "#predictor_vars_df1.columns = cleaned_cols\n",
    "predictor_vars_df1.shape"
   ]
  },
  {
   "cell_type": "code",
   "execution_count": 4,
   "id": "e4d688c4-4d3b-4bc1-b983-a8c827a90f8c",
   "metadata": {},
   "outputs": [],
   "source": [
    "def split_cnum(cnum_var):\n",
    "    cnum_var = cnum_var[1:]\n",
    "    nums = cnum_var.rstrip('0123456789')\n",
    "    var_name = cnum_var[len(nums):]\n",
    "    return var_name\n",
    "\n",
    "def create_composite_vars(full_df,predictors=True):\n",
    "    print(full_df.columns)\n",
    "    if predictors: \n",
    "        trs = \"\"\n",
    "        colname = \"Baseline_Conflict_Score\"\n",
    "        full_df.columns = [col.replace(\"(\",\"DUMMY\").split(\")\")[0] for col in full_df.columns]\n",
    "    else:\n",
    "        trs = \"W2\"\n",
    "        colname=\"Composite_Conflict_Score\"\n",
    "    \n",
    "    de_var_names = [col for col in full_df.columns if \"DE\" in col]\n",
    "    full_df[\"DE_sum\"] = full_df.loc[:,de_var_names].sum(axis=1)\n",
    "\n",
    "    binary_positive_vars = [col for col in [(str(col).upper())+\"_DUMMY1\" for col in (\"dncl10w2,dncl11w2,dncl12w2,pncl1w2,pncl2w2,\"+\\\n",
    "                            \"pncl7w2,pncl12w2,pncl13w2,cscaw2,clhcw2,flihcw2,tomenw2,\"+\\\n",
    "                            \"tomepgw2,tomelnw2,tomesuw2,tomehdw2,dncl9w2,dncl10w2,dncl11w2,\"+\\\n",
    "                            \"dncl12w2,cbnpw2\".replace(\"w2\",trs)).split(\",\")] if col in full_df.columns]\n",
    "    binary_negative_vars = [col for col in [(str(col).upper())+\"_DUMMY1\" for col in (\"dncl1w2,dncl2w2,dncl3w2,dncl4w2,dncl5w2,dncl6w2,\"+\\\n",
    "                            \"dncl7w2,dncl8w2,dncl14w2,pncl3w2,pncl4w2,pncl5w2,pncl6w2,cilw2,cflw2,\"+\\\n",
    "                            \"cmosw2,cbiw2,cgiw2,tomeew2,tomempw2,tomergw2,\"+\\\n",
    "                            \"tomerbw2,tomemfw2,tomepmw2,tomethpw2,tomerew2,tomesgw2\"\\\n",
    "                                                                     .replace(\"w2\",trs)).split(\",\")] if col in full_df.columns]\n",
    "    cat3_positive_vars = [col for col in [col+str(i) for col in [(str(col).upper())+\"_DUMMY\" for col in \\\n",
    "                          (\"infdw2,infcw2\".replace(\"w2\",trs))\\\n",
    "                                                 .split(\",\")] for i in range(1,3)] if col in full_df.columns]\n",
    "    cat4_positive_vars = [col for col in [col+str(i) for col in [(str(col).upper())+\"_DUMMY\" for col in \\\n",
    "                          (\"dn9w2,dn10w2,dn11w2,dn12w2\".replace(\"w2\",trs))\\\n",
    "                                                 .split(\",\")] for i in range(1,4)] if col in full_df.columns]\n",
    "    cat4_negative_vars = [col for col in [col+str(i) for col in [(str(col).upper())+\"_DUMMY\" for col in \\\n",
    "                          (\"dn14w2,dn1w2,dn2w2,dn3w2,dn4w2,dn5w2,dn6w2,dn7w2,dn8w2\".replace(\"w2\",trs))\\\n",
    "                                                 .split(\",\")]\\\n",
    "                           for i in range(1,4)] if col in full_df.columns]\n",
    "    cat5_positive_vars = [col for col in [col+str(i) for col in [(str(col).upper())+\"_DUMMY\" for col in \\\n",
    "                          (\"pn1w2,pn2w2,pn10w2,pn11w2,pn12w2,pn13w2\".replace(\"w2\",trs)).split(\",\")]\\\n",
    "                          for i in range(1,5)] if col in full_df.columns]\n",
    "    cat5_negative_vars = [col for col in [col+str(i) for col in [(str(col).upper())+\"_DUMMY\" for col in \\\n",
    "                          (\"pn3w2,pn4w2,pn5w2,pn6w2,pn7w2,pn9w2\".replace(\"w2\",trs)).split(\",\")]\\\n",
    "                           for i in range(1,5)] if col in full_df.columns]\n",
    "    #cat3_negative_vars: none\n",
    "    \n",
    "    \n",
    "\n",
    "    full_df[\"binary_vars\"] = full_df.loc[:,binary_positive_vars]\\\n",
    "    .sum(axis=1) - full_df.loc[:,binary_negative_vars].sum(axis=1)\n",
    "\n",
    "    comp_var = full_df[\"binary_vars\"] - \\\n",
    "    (full_df[\"DE_sum\"] * 0.25)\n",
    "\n",
    "    return comp_var"
   ]
  },
  {
   "cell_type": "markdown",
   "id": "a0677a49-831f-459d-a2b9-32d9b6b12747",
   "metadata": {},
   "source": [
    "# TODO: Add 2< cat variables"
   ]
  },
  {
   "cell_type": "code",
   "execution_count": 5,
   "id": "a5bcdcba-5541-4f82-ba3e-b0bd0ee6f674",
   "metadata": {},
   "outputs": [
    {
     "name": "stdout",
     "output_type": "stream",
     "text": [
      "Index(['AGEC_NEW', 'GPA', 'GENDER_(1) Boy', 'GR_(1) 6th grade',\n",
      "       'GR_(2) 7th grade', 'GR_(3) 8th grade', 'COLL_(1) Yes',\n",
      "       'COLL_(2) Maybe', 'COLL_(3) Don't know',\n",
      "       'CELL_(1) Cell phone without Internet',\n",
      "       ...\n",
      "       'TOMEMP_(1) Yes', 'TOMELN_(1) Yes', 'TOMERG_(1) Yes', 'TOMERB_(1) Yes',\n",
      "       'TOMEMF_(1) Yes', 'TOMEPM_(1) Yes', 'TOMETHP_(1) Yes', 'TOMERE_(1) Yes',\n",
      "       'TOMESG_(1) Yes', 'TOMESU_(1) Yes'],\n",
      "      dtype='object', length=157)\n",
      "Index(['DE1', 'DE2', 'DE3', 'DE4', 'DE5', 'DE6', 'DE7', 'DE8', 'DE9', 'DE10',\n",
      "       ...\n",
      "       'TOMELNW2_DUMMY1', 'TOMERGW2_DUMMY1', 'TOMERBW2_DUMMY1',\n",
      "       'TOMEMFW2_DUMMY1', 'TOMEPMW2_DUMMY1', 'TOMETHPW2_DUMMY1',\n",
      "       'TOMEREW2_DUMMY1', 'TOMESGW2_DUMMY1', 'TOMESUW2_DUMMY1',\n",
      "       'TOMEHDW2_DUMMY1'],\n",
      "      dtype='object', length=222)\n"
     ]
    }
   ],
   "source": [
    "predictor_comp_df1 = predictor_vars_df1.copy()\n",
    "predictor_comp_df1[\"Baseline_Conflict_Score\"] = create_composite_vars(predictor_vars_df1,predictors=True)\n",
    "\n",
    "response_comp_df1 = response_vars_df1.copy()\n",
    "response_comp_df1[\"Composite_Conflict_Score\"] = create_composite_vars(response_vars_df1,predictors=False)\n",
    "\n",
    "trt_comp_df1 = pd.read_csv(\"data/full_unimputed_trt_df.csv\")\n",
    "\n",
    "complete_vars_df1 = pd.concat([trt_comp_df1,response_vars_df1, response_comp_df1,\n",
    "                               predictor_vars_df1, predictor_comp_df1],axis=1)\n",
    "\n",
    "complete_vars_df1.to_csv(\"data/preprocessed_conflict_data_iter0MICE.csv\")"
   ]
  }
 ],
 "metadata": {
  "kernelspec": {
   "display_name": "Python 3 (ipykernel)",
   "language": "python",
   "name": "python3"
  },
  "language_info": {
   "codemirror_mode": {
    "name": "ipython",
    "version": 3
   },
   "file_extension": ".py",
   "mimetype": "text/x-python",
   "name": "python",
   "nbconvert_exporter": "python",
   "pygments_lexer": "ipython3",
   "version": "3.9.10"
  }
 },
 "nbformat": 4,
 "nbformat_minor": 5
}
