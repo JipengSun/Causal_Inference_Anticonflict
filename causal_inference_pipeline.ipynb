{
 "cells": [
  {
   "cell_type": "code",
   "execution_count": 36,
   "metadata": {},
   "outputs": [],
   "source": [
    "import dowhy\n",
    "import pandas as pd\n",
    "import numpy as np\n",
    "import matplotlib.pyplot as plt"
   ]
  },
  {
   "cell_type": "code",
   "execution_count": 37,
   "metadata": {},
   "outputs": [
    {
     "data": {
      "text/html": [
       "<div>\n",
       "<style scoped>\n",
       "    .dataframe tbody tr th:only-of-type {\n",
       "        vertical-align: middle;\n",
       "    }\n",
       "\n",
       "    .dataframe tbody tr th {\n",
       "        vertical-align: top;\n",
       "    }\n",
       "\n",
       "    .dataframe thead th {\n",
       "        text-align: right;\n",
       "    }\n",
       "</style>\n",
       "<table border=\"1\" class=\"dataframe\">\n",
       "  <thead>\n",
       "    <tr style=\"text-align: right;\">\n",
       "      <th></th>\n",
       "      <th>Unnamed: 0</th>\n",
       "      <th>SCHID</th>\n",
       "      <th>AGEC_NEW</th>\n",
       "      <th>SCHTREAT_(1) Treatment school (Roots meetings 2012-2013)</th>\n",
       "      <th>GENDER_(1) Boy</th>\n",
       "      <th>GR_(1) 6th grade</th>\n",
       "      <th>GR_(2) 7th grade</th>\n",
       "      <th>GR_(3) 8th grade</th>\n",
       "      <th>COLL_(1) Yes</th>\n",
       "      <th>COLL_(2) Maybe</th>\n",
       "      <th>COLL_(3) Don't know</th>\n",
       "      <th>CELL_(1) Cell phone without Internet</th>\n",
       "      <th>CELL_(2) Cell phone with Internet</th>\n",
       "      <th>FSCH_(1) Do go to this school</th>\n",
       "      <th>composite_conflict_score</th>\n",
       "    </tr>\n",
       "  </thead>\n",
       "  <tbody>\n",
       "    <tr>\n",
       "      <th>0</th>\n",
       "      <td>0</td>\n",
       "      <td>1</td>\n",
       "      <td>12.106618</td>\n",
       "      <td>1.0</td>\n",
       "      <td>0.505415</td>\n",
       "      <td>0.274368</td>\n",
       "      <td>0.324910</td>\n",
       "      <td>0.310469</td>\n",
       "      <td>0.685921</td>\n",
       "      <td>0.126354</td>\n",
       "      <td>0.064982</td>\n",
       "      <td>0.288809</td>\n",
       "      <td>0.458484</td>\n",
       "      <td>0.761733</td>\n",
       "      <td>4.836643</td>\n",
       "    </tr>\n",
       "    <tr>\n",
       "      <th>1</th>\n",
       "      <td>1</td>\n",
       "      <td>2</td>\n",
       "      <td>11.666667</td>\n",
       "      <td>0.0</td>\n",
       "      <td>0.478261</td>\n",
       "      <td>0.236295</td>\n",
       "      <td>0.209830</td>\n",
       "      <td>0.272212</td>\n",
       "      <td>0.750473</td>\n",
       "      <td>0.092628</td>\n",
       "      <td>0.047259</td>\n",
       "      <td>0.209830</td>\n",
       "      <td>0.459357</td>\n",
       "      <td>0.727788</td>\n",
       "      <td>5.282609</td>\n",
       "    </tr>\n",
       "    <tr>\n",
       "      <th>2</th>\n",
       "      <td>2</td>\n",
       "      <td>3</td>\n",
       "      <td>12.500000</td>\n",
       "      <td>1.0</td>\n",
       "      <td>0.500000</td>\n",
       "      <td>0.000000</td>\n",
       "      <td>0.471014</td>\n",
       "      <td>0.442029</td>\n",
       "      <td>0.782609</td>\n",
       "      <td>0.065217</td>\n",
       "      <td>0.028986</td>\n",
       "      <td>0.202899</td>\n",
       "      <td>0.572464</td>\n",
       "      <td>0.768116</td>\n",
       "      <td>5.021739</td>\n",
       "    </tr>\n",
       "    <tr>\n",
       "      <th>3</th>\n",
       "      <td>3</td>\n",
       "      <td>5</td>\n",
       "      <td>12.539130</td>\n",
       "      <td>0.0</td>\n",
       "      <td>0.460870</td>\n",
       "      <td>0.000000</td>\n",
       "      <td>0.460870</td>\n",
       "      <td>0.443478</td>\n",
       "      <td>0.826087</td>\n",
       "      <td>0.034783</td>\n",
       "      <td>0.034783</td>\n",
       "      <td>0.434783</td>\n",
       "      <td>0.356522</td>\n",
       "      <td>0.704348</td>\n",
       "      <td>4.395652</td>\n",
       "    </tr>\n",
       "    <tr>\n",
       "      <th>4</th>\n",
       "      <td>4</td>\n",
       "      <td>6</td>\n",
       "      <td>12.529412</td>\n",
       "      <td>1.0</td>\n",
       "      <td>0.449679</td>\n",
       "      <td>0.002141</td>\n",
       "      <td>0.481799</td>\n",
       "      <td>0.466809</td>\n",
       "      <td>0.862955</td>\n",
       "      <td>0.034261</td>\n",
       "      <td>0.027837</td>\n",
       "      <td>0.383298</td>\n",
       "      <td>0.417559</td>\n",
       "      <td>0.813704</td>\n",
       "      <td>5.442184</td>\n",
       "    </tr>\n",
       "  </tbody>\n",
       "</table>\n",
       "</div>"
      ],
      "text/plain": [
       "   Unnamed: 0  SCHID   AGEC_NEW  \\\n",
       "0           0      1  12.106618   \n",
       "1           1      2  11.666667   \n",
       "2           2      3  12.500000   \n",
       "3           3      5  12.539130   \n",
       "4           4      6  12.529412   \n",
       "\n",
       "   SCHTREAT_(1) Treatment school (Roots meetings 2012-2013)  GENDER_(1) Boy  \\\n",
       "0                                                1.0               0.505415   \n",
       "1                                                0.0               0.478261   \n",
       "2                                                1.0               0.500000   \n",
       "3                                                0.0               0.460870   \n",
       "4                                                1.0               0.449679   \n",
       "\n",
       "   GR_(1) 6th grade  GR_(2) 7th grade  GR_(3) 8th grade  COLL_(1) Yes  \\\n",
       "0          0.274368          0.324910          0.310469      0.685921   \n",
       "1          0.236295          0.209830          0.272212      0.750473   \n",
       "2          0.000000          0.471014          0.442029      0.782609   \n",
       "3          0.000000          0.460870          0.443478      0.826087   \n",
       "4          0.002141          0.481799          0.466809      0.862955   \n",
       "\n",
       "   COLL_(2) Maybe  COLL_(3) Don't know  CELL_(1) Cell phone without Internet  \\\n",
       "0        0.126354             0.064982                              0.288809   \n",
       "1        0.092628             0.047259                              0.209830   \n",
       "2        0.065217             0.028986                              0.202899   \n",
       "3        0.034783             0.034783                              0.434783   \n",
       "4        0.034261             0.027837                              0.383298   \n",
       "\n",
       "   CELL_(2) Cell phone with Internet  FSCH_(1) Do go to this school  \\\n",
       "0                           0.458484                       0.761733   \n",
       "1                           0.459357                       0.727788   \n",
       "2                           0.572464                       0.768116   \n",
       "3                           0.356522                       0.704348   \n",
       "4                           0.417559                       0.813704   \n",
       "\n",
       "   composite_conflict_score  \n",
       "0                  4.836643  \n",
       "1                  5.282609  \n",
       "2                  5.021739  \n",
       "3                  4.395652  \n",
       "4                  5.442184  "
      ]
     },
     "execution_count": 37,
     "metadata": {},
     "output_type": "execute_result"
    }
   ],
   "source": [
    "dataset = pd.read_csv('data/sample_school_level_data.csv')\n",
    "dataset.head()"
   ]
  },
  {
   "cell_type": "code",
   "execution_count": 38,
   "metadata": {},
   "outputs": [],
   "source": [
    "dataset.columns\n",
    "dataset =dataset.drop(['Unnamed: 0'],axis=1)\n"
   ]
  },
  {
   "cell_type": "markdown",
   "metadata": {},
   "source": [
    "Rename the colunms for parsing causal graph (No number, space and brackets)"
   ]
  },
  {
   "cell_type": "code",
   "execution_count": 47,
   "metadata": {},
   "outputs": [
    {
     "data": {
      "text/plain": [
       "Index(['SCHID', 'AGEC_NEW', 'treatment', 'boy_ratio', 'sixth_grade',\n",
       "       'seventh_grade', 'eighrth_grade', 'yes_college', 'maybe_college',\n",
       "       'not_sure_college', 'no_phone_internet', 'phone_internet',\n",
       "       'go_this_school', 'composite_conflict_score'],\n",
       "      dtype='object')"
      ]
     },
     "execution_count": 47,
     "metadata": {},
     "output_type": "execute_result"
    }
   ],
   "source": [
    "dataset = dataset.rename({\"SCHTREAT_(1) Treatment school (Roots meetings 2012-2013)\": \"treatment\",\n",
    "\"GENDER_(1) Boy\": \"boy_ratio\",\n",
    "\"GR_(1) 6th grade\":\"sixth_grade\",\n",
    "\"GR_(2) 7th grade\":\"seventh_grade\",\n",
    "\"GR_(3) 8th grade\":\"eighrth_grade\",\n",
    "\"COLL_(1) Yes\":\"yes_college\",\n",
    "\"COLL_(2) Maybe\":\"maybe_college\",\n",
    "\"COLL_(3) Don't know\":\"not_sure_college\",\n",
    "\"CELL_(1) Cell phone without Internet\":\"no_phone_internet\",\n",
    "\"CELL_(2) Cell phone with Internet\":\"phone_internet\",\n",
    "\"FSCH_(1) Do go to this school\":\"go_this_school\"\n",
    "},axis=1)\n",
    "dataset.columns"
   ]
  },
  {
   "cell_type": "markdown",
   "metadata": {},
   "source": [
    "## Causal Discovery Using PC Algorithm"
   ]
  },
  {
   "cell_type": "code",
   "execution_count": 40,
   "metadata": {},
   "outputs": [
    {
     "name": "stderr",
     "output_type": "stream",
     "text": [
      "Depth=1, working on node 12: 100%|██████████| 13/13 [00:00<00:00, 113.67it/s]\n"
     ]
    },
    {
     "data": {
      "image/png": "[encoded data removed]",
      "text/plain": [
       "<Figure size 432x288 with 1 Axes>"
      ]
     },
     "metadata": {
      "needs_background": "light"
     },
     "output_type": "display_data"
    }
   ],
   "source": [
    "from causallearn.search.ConstraintBased.PC import pc\n",
    "\n",
    "study_np = dataset.to_numpy()\n",
    "cg = pc(study_np[:,1:],verbose=False)\n",
    "\n",
    "# visualization using pydot\n",
    "cg.draw_pydot_graph()"
   ]
  },
  {
   "cell_type": "markdown",
   "metadata": {},
   "source": [
    "The result doesn't make sense for our study. Let's build a graph manually."
   ]
  },
  {
   "cell_type": "code",
   "execution_count": 42,
   "metadata": {},
   "outputs": [
    {
     "data": {
      "text/plain": [
       "Index(['SCHID', 'AGEC_NEW', 'treatment', 'boy_ratio', 'sixth_grade',\n",
       "       'seventh_grade', 'eighrth_grade', 'yes_college', 'maybe_college',\n",
       "       'not_sure_college', 'no_phone_internet', 'phone_internet',\n",
       "       'go_this_school', 'composite_conflict_score'],\n",
       "      dtype='object')"
      ]
     },
     "execution_count": 42,
     "metadata": {},
     "output_type": "execute_result"
    }
   ],
   "source": [
    "dataset.columns"
   ]
  },
  {
   "cell_type": "markdown",
   "metadata": {},
   "source": [
    "## Have a look on the correlation between treatment and outcome"
   ]
  },
  {
   "cell_type": "code",
   "execution_count": 88,
   "metadata": {},
   "outputs": [
    {
     "name": "stdout",
     "output_type": "stream",
     "text": [
      "Without treatment, the conflict level score is 4.9586868886381925\n",
      "With treatment, the conflict level score is 5.093505706785584\n"
     ]
    }
   ],
   "source": [
    "# Have a look on the average effect\n",
    "\n",
    "d0 = dataset[dataset.treatment == 0]\n",
    "d0m = d0['composite_conflict_score'].mean()\n",
    "print('Without treatment, the conflict level score is',d0m)\n",
    "\n",
    "d1 = dataset[dataset.treatment == 1]\n",
    "d1m = d1['composite_conflict_score'].mean()\n",
    "print('With treatment, the conflict level score is',d1m)"
   ]
  },
  {
   "cell_type": "markdown",
   "metadata": {},
   "source": [
    "Our causal graph logic is:\n",
    "1. Age may cause the grade, go to college decision, phone internet rate, go this school and conflict level\n",
    "2. Boy ratio may cause the college decisioin and conflict level\n",
    "3. Grades cause affect other and affect go to college decision, phone internet rate, go this school and conflict level\n",
    "4. College decision affect each other and conflict score\n",
    "5. Internet may affect the conflict level\n",
    "6. Go to this school affect the satisification of the school thus conflict level.\n",
    "\n"
   ]
  },
  {
   "cell_type": "code",
   "execution_count": 57,
   "metadata": {},
   "outputs": [],
   "source": [
    "# This is a graph with circle, we should move later.\n",
    "causal_graph = '''digraph{\n",
    "    AGEC_NEW[label=\"Age\"];\n",
    "    treatment[label=\"Treatment\"];\n",
    "    boy_ratio[label=\"Boy Percentage\"];\n",
    "    sixth_grade[label=\"6th Grade Ratio\"];\n",
    "    seventh_grade[label=\"7th Grade Ratio\"];\n",
    "    eighth_grade[label=\"8th Grade Ratio\"];\n",
    "    yes_college[label=\"Go College Ratio\"];\n",
    "    maybe_college[label=\"Maybe Go College Ratio\"];\n",
    "    not_sure_college[label=\"Don't Know Go College Ratio\"];\n",
    "    no_phone_internet[label=\"Cell Phone Without Internet\"];\n",
    "    phone_internet[label=\"Cell Phone With Internet\"];\n",
    "    go_this_school[label=\"Do Go To This School Ratio\"];\n",
    "    composite_conflict_score[label=\"Composite Conflict Score\"];\n",
    "    treatment-> composite_conflict_score;\n",
    "    AGEC_NEW -> {sixth_grade,seventh_grade,eighth_grade,yes_college,maybe_college,not_sure_college,no_phone_internet,phone_internet,go_this_school, composite_conflict_score};\n",
    "    boy_ratio -> {yes_college,maybe_college,not_sure_college,composite_conflict_score};\n",
    "    sixth_grade -> {seventh_grade,eighth_grade,yes_college,maybe_college,not_sure_college,no_phone_internet,phone_internet,go_this_school, composite_conflict_score};\n",
    "    seventh_grade -> {sixth_grade,eighth_grade,yes_college,maybe_college,not_sure_college,no_phone_internet,phone_internet,go_this_school, composite_conflict_score};\n",
    "    eighth_grade -> {sixth_grade,seventh_grade,yes_college,maybe_college,not_sure_college,no_phone_internet,phone_internet,go_this_school, composite_conflict_score};\n",
    "    yes_college -> {maybe_college,not_sure_college,composite_conflict_score};\n",
    "    maybe_college -> {yes_college,not_sure_college,composite_conflict_score};\n",
    "    not_sure_college -> {maybe_college,maybe_college,composite_conflict_score};\n",
    "    no_phone_internet -> {phone_internet, composite_conflict_score};\n",
    "    phone_internet -> {no_phone_internet, composite_conflict_score};\n",
    "    go_this_school-> composite_conflict_score;\n",
    "}\n",
    "\n",
    "'''"
   ]
  },
  {
   "cell_type": "code",
   "execution_count": 79,
   "metadata": {},
   "outputs": [],
   "source": [
    "causal_graph = '''digraph{\n",
    "    AGEC_NEW[label=\"Age\"];\n",
    "    treatment[label=\"Treatment\"];\n",
    "    boy_ratio[label=\"Boy Percentage\"];\n",
    "    sixth_grade[label=\"6th Grade Ratio\"];\n",
    "    seventh_grade[label=\"7th Grade Ratio\"];\n",
    "    eighth_grade[label=\"8th Grade Ratio\"];\n",
    "    yes_college[label=\"Go College Ratio\"];\n",
    "    maybe_college[label=\"Maybe Go College Ratio\"];\n",
    "    not_sure_college[label=\"Don't Know Go College Ratio\"];\n",
    "    phone_internet[label=\"Cell Phone With Internet\"];\n",
    "    go_this_school[label=\"Do Go To This School Ratio\"];\n",
    "    composite_conflict_score[label=\"Composite Conflict Score\"];\n",
    "    U[label=\"Unobserved Confounders\"];\n",
    "    treatment-> composite_conflict_score;\n",
    "    AGEC_NEW -> {sixth_grade,seventh_grade,eighth_grade,yes_college,maybe_college,not_sure_college,no_phone_internet,phone_internet,go_this_school, composite_conflict_score};\n",
    "    boy_ratio -> {yes_college,maybe_college,not_sure_college,composite_conflict_score};\n",
    "    sixth_grade -> {yes_college,maybe_college,not_sure_college,no_phone_internet,phone_internet,go_this_school, composite_conflict_score};\n",
    "    seventh_grade -> {yes_college,maybe_college,not_sure_college,no_phone_internet,phone_internet,go_this_school, composite_conflict_score};\n",
    "    eighth_grade -> {yes_college,maybe_college,not_sure_college,no_phone_internet,phone_internet,go_this_school, composite_conflict_score};\n",
    "    yes_college -> {composite_conflict_score};\n",
    "    maybe_college -> {composite_conflict_score};\n",
    "    not_sure_college -> {composite_conflict_score};\n",
    "    phone_internet -> {no_phone_internet, composite_conflict_score};\n",
    "    go_this_school-> composite_conflict_score;\n",
    "}\n",
    "\n",
    "'''"
   ]
  },
  {
   "cell_type": "code",
   "execution_count": 81,
   "metadata": {},
   "outputs": [
    {
     "data": {
      "image/png": "[encoded data removed]",
      "text/plain": [
       "<IPython.core.display.Image object>"
      ]
     },
     "metadata": {},
     "output_type": "display_data"
    }
   ],
   "source": [
    "model= dowhy.CausalModel(\n",
    "        data = dataset,\n",
    "        graph=causal_graph.replace(\"\\n\", \" \"),\n",
    "        treatment='treatment',\n",
    "        outcome='composite_conflict_score')\n",
    "model.view_model()\n",
    "from IPython.display import Image, display\n",
    "display(Image(filename=\"causal_model.png\"))"
   ]
  },
  {
   "cell_type": "markdown",
   "metadata": {},
   "source": [
    "# Identify the causal effect"
   ]
  },
  {
   "cell_type": "code",
   "execution_count": 82,
   "metadata": {},
   "outputs": [
    {
     "name": "stdout",
     "output_type": "stream",
     "text": [
      "Estimand type: nonparametric-ate\n",
      "\n",
      "### Estimand : 1\n",
      "Estimand name: backdoor\n",
      "Estimand expression:\n",
      "     d                                             \n",
      "────────────(Expectation(composite_conflict_score))\n",
      "d[treatment]                                       \n",
      "Estimand assumption 1, Unconfoundedness: If U→{treatment} and U→composite_conflict_score then P(composite_conflict_score|treatment,,U) = P(composite_conflict_score|treatment,)\n",
      "\n",
      "### Estimand : 2\n",
      "Estimand name: iv\n",
      "No such variable(s) found!\n",
      "\n",
      "### Estimand : 3\n",
      "Estimand name: frontdoor\n",
      "No such variable(s) found!\n",
      "\n"
     ]
    }
   ],
   "source": [
    "#Identify the causal effect\n",
    "identified_estimand = model.identify_effect(proceed_when_unidentifiable=True)\n",
    "print(identified_estimand)"
   ]
  },
  {
   "cell_type": "markdown",
   "metadata": {},
   "source": [
    "## Linear regression for backdoor estimator"
   ]
  },
  {
   "cell_type": "code",
   "execution_count": 71,
   "metadata": {},
   "outputs": [
    {
     "name": "stdout",
     "output_type": "stream",
     "text": [
      "*** Causal Estimate ***\n",
      "\n",
      "## Identified estimand\n",
      "Estimand type: nonparametric-ate\n",
      "\n",
      "### Estimand : 1\n",
      "Estimand name: backdoor\n",
      "Estimand expression:\n",
      "     d                                             \n",
      "────────────(Expectation(composite_conflict_score))\n",
      "d[treatment]                                       \n",
      "Estimand assumption 1, Unconfoundedness: If U→{treatment} and U→composite_conflict_score then P(composite_conflict_score|treatment,,U) = P(composite_conflict_score|treatment,)\n",
      "\n",
      "## Realized estimand\n",
      "b: composite_conflict_score~treatment+treatment*not_sure_college+treatment*maybe_college+treatment*AGEC_NEW+treatment*go_this_school+treatment*boy_ratio+treatment*sixth_grade+treatment*phone_internet+treatment*seventh_grade+treatment*yes_college\n",
      "Target units: ate\n",
      "\n",
      "## Estimate\n",
      "Mean value: 0.16068057256651347\n",
      "### Conditional Estimates\n",
      "__categorical__not_sure_college  __categorical__maybe_college    __categorical__AGEC_NEW  __categorical__go_this_school  __categorical__boy_ratio  __categorical__sixth_grade  __categorical__phone_internet  __categorical__seventh_grade  __categorical__yes_college\n",
      "(0.008709999999999999, 0.029]    (0.033299999999999996, 0.0658]  (10.494, 11.611]         (0.84, 0.89]                   (0.477, 0.489]            (0.0482, 0.247]             (0.264, 0.392]                 (0.247, 0.289]                (0.817, 0.893]                0.515955\n",
      "                                                                 (11.611, 12.036]         (0.815, 0.84]                  (0.348, 0.456]            (0.296, 0.32]               (0.392, 0.437]                 (0.312, 0.345]                (0.817, 0.893]                0.136985\n",
      "                                                                 (12.446, 13.167]         (0.73, 0.771]                  (0.348, 0.456]            (-0.001, 0.0482]            (0.264, 0.392]                 (0.345, 0.501]                (0.817, 0.893]               -0.128140\n",
      "                                                                                                                         (0.5, 0.53]               (-0.001, 0.0482]            (0.502, 0.648]                 (0.345, 0.501]                (0.77, 0.785]                 0.084762\n",
      "                                                                                          (0.771, 0.815]                 (0.348, 0.456]            (-0.001, 0.0482]            (0.392, 0.437]                 (0.345, 0.501]                (0.817, 0.893]                0.073014\n",
      "                                                                                          (0.815, 0.84]                  (0.477, 0.489]            (-0.001, 0.0482]            (0.502, 0.648]                 (0.345, 0.501]                (0.817, 0.893]                0.185514\n",
      "                                                                                          (0.84, 0.89]                   (0.456, 0.477]            (-0.001, 0.0482]            (0.502, 0.648]                 (0.345, 0.501]                (0.817, 0.893]                0.204290\n",
      "                                 (0.0658, 0.0834]                (11.611, 12.036]         (0.506, 0.73]                  (0.5, 0.53]               (0.0482, 0.247]             (0.502, 0.648]                 (0.247, 0.289]                (0.817, 0.893]                1.217690\n",
      "                                                                 (12.036, 12.108]         (0.815, 0.84]                  (0.348, 0.456]            (0.32, 0.492]               (0.502, 0.648]                 (0.289, 0.312]                (0.817, 0.893]               -0.075957\n",
      "                                                                 (12.446, 13.167]         (0.506, 0.73]                  (0.348, 0.456]            (-0.001, 0.0482]            (0.472, 0.502]                 (-0.001, 0.247]               (0.642, 0.737]                0.420808\n",
      "                                 (0.0913, 0.101]                 (12.108, 12.446]         (0.84, 0.89]                   (0.489, 0.5]              (0.247, 0.296]              (0.437, 0.472]                 (0.289, 0.312]                (0.785, 0.817]                0.120860\n",
      "(0.029, 0.0366]                  (0.033299999999999996, 0.0658]  (12.108, 12.446]         (0.506, 0.73]                  (0.456, 0.477]            (0.32, 0.492]               (0.502, 0.648]                 (0.289, 0.312]                (0.77, 0.785]                 0.207725\n",
      "                                                                 (12.446, 13.167]         (0.506, 0.73]                  (0.456, 0.477]            (-0.001, 0.0482]            (0.264, 0.392]                 (0.345, 0.501]                (0.817, 0.893]                0.247290\n",
      "                                 (0.0658, 0.0834]                (12.036, 12.108]         (0.73, 0.771]                  (0.348, 0.456]            (0.296, 0.32]               (0.502, 0.648]                 (0.289, 0.312]                (0.737, 0.77]                 0.024431\n",
      "                                                                 (12.108, 12.446]         (0.73, 0.771]                  (0.477, 0.489]            (0.296, 0.32]               (0.472, 0.502]                 (0.247, 0.289]                (0.77, 0.785]                 0.244189\n",
      "                                                                                          (0.771, 0.815]                 (0.489, 0.5]              (0.32, 0.492]               (0.264, 0.392]                 (0.247, 0.289]                (0.77, 0.785]                 0.166910\n",
      "                                 (0.0834, 0.0913]                (10.494, 11.611]         (0.73, 0.771]                  (0.477, 0.489]            (0.247, 0.296]              (0.392, 0.437]                 (-0.001, 0.247]               (0.785, 0.817]                0.346805\n",
      "                                                                 (12.108, 12.446]         (0.506, 0.73]                  (0.348, 0.456]            (0.296, 0.32]               (0.437, 0.472]                 (0.289, 0.312]                (0.77, 0.785]                 0.058151\n",
      "                                 (0.0913, 0.101]                 (11.611, 12.036]         (0.771, 0.815]                 (0.5, 0.53]               (0.296, 0.32]               (0.264, 0.392]                 (0.289, 0.312]                (0.77, 0.785]                 0.202286\n",
      "                                                                                          (0.84, 0.89]                   (0.5, 0.53]               (0.32, 0.492]               (0.437, 0.472]                 (0.312, 0.345]                (0.785, 0.817]                0.114291\n",
      "                                 (0.101, 0.16]                   (11.611, 12.036]         (0.506, 0.73]                  (0.489, 0.5]              (0.247, 0.296]              (0.392, 0.437]                 (-0.001, 0.247]               (0.642, 0.737]                0.164574\n",
      "                                                                 (12.108, 12.446]         (0.73, 0.771]                  (0.456, 0.477]            (0.296, 0.32]               (0.392, 0.437]                 (0.289, 0.312]                (0.737, 0.77]                -0.140690\n",
      "(0.0366, 0.0446]                 (0.033299999999999996, 0.0658]  (11.611, 12.036]         (0.771, 0.815]                 (0.477, 0.489]            (0.32, 0.492]               (0.437, 0.472]                 (0.312, 0.345]                (0.817, 0.893]                0.426276\n",
      "                                                                                          (0.84, 0.89]                   (0.489, 0.5]              (0.296, 0.32]               (0.392, 0.437]                 (0.345, 0.501]                (0.817, 0.893]                0.445142\n",
      "                                 (0.0658, 0.0834]                (10.494, 11.611]         (0.815, 0.84]                  (0.489, 0.5]              (0.0482, 0.247]             (0.437, 0.472]                 (-0.001, 0.247]               (0.785, 0.817]                0.538207\n",
      "                                 (0.0834, 0.0913]                (12.036, 12.108]         (0.771, 0.815]                 (0.348, 0.456]            (0.247, 0.296]              (0.472, 0.502]                 (0.312, 0.345]                (0.77, 0.785]                -0.070006\n",
      "                                                                                                                         (0.489, 0.5]              (0.32, 0.492]               (0.437, 0.472]                 (0.289, 0.312]                (0.77, 0.785]                 0.256450\n",
      "                                                                 (12.446, 13.167]         (0.84, 0.89]                   (0.489, 0.5]              (-0.001, 0.0482]            (0.472, 0.502]                 (0.345, 0.501]                (0.785, 0.817]                0.037731\n",
      "                                 (0.0913, 0.101]                 (12.036, 12.108]         (0.506, 0.73]                  (0.477, 0.489]            (0.32, 0.492]               (0.437, 0.472]                 (0.312, 0.345]                (0.737, 0.77]                 0.111495\n",
      "                                                                 (12.108, 12.446]         (0.73, 0.771]                  (0.456, 0.477]            (0.296, 0.32]               (0.502, 0.648]                 (0.312, 0.345]                (0.77, 0.785]                -0.023992\n",
      "                                                                                          (0.815, 0.84]                  (0.489, 0.5]              (0.32, 0.492]               (0.264, 0.392]                 (0.289, 0.312]                (0.737, 0.77]                 0.057530\n",
      "                                                                                          (0.84, 0.89]                   (0.489, 0.5]              (0.296, 0.32]               (0.472, 0.502]                 (0.312, 0.345]                (0.785, 0.817]                0.089326\n",
      "                                 (0.101, 0.16]                   (10.494, 11.611]         (0.771, 0.815]                 (0.348, 0.456]            (0.247, 0.296]              (0.472, 0.502]                 (-0.001, 0.247]               (0.642, 0.737]               -0.140455\n",
      "(0.0446, 0.0559]                 (0.0658, 0.0834]                (10.494, 11.611]         (0.84, 0.89]                   (0.5, 0.53]               (0.247, 0.296]              (0.264, 0.392]                 (-0.001, 0.247]               (0.785, 0.817]                0.435757\n",
      "                                                                 (12.036, 12.108]         (0.815, 0.84]                  (0.5, 0.53]               (0.296, 0.32]               (0.472, 0.502]                 (0.289, 0.312]                (0.785, 0.817]                0.365881\n",
      "                                                                 (12.446, 13.167]         (0.506, 0.73]                  (0.348, 0.456]            (-0.001, 0.0482]            (0.502, 0.648]                 (0.345, 0.501]                (0.785, 0.817]               -0.305435\n",
      "                                 (0.0834, 0.0913]                (10.494, 11.611]         (0.84, 0.89]                   (0.456, 0.477]            (0.0482, 0.247]             (0.392, 0.437]                 (0.247, 0.289]                (0.785, 0.817]                0.127788\n",
      "                                                                 (12.036, 12.108]         (0.771, 0.815]                 (0.477, 0.489]            (0.247, 0.296]              (0.472, 0.502]                 (0.289, 0.312]                (0.737, 0.77]                -0.019541\n",
      "                                                                                          (0.815, 0.84]                  (0.477, 0.489]            (0.296, 0.32]               (0.392, 0.437]                 (0.312, 0.345]                (0.785, 0.817]                0.072346\n",
      "                                 (0.0913, 0.101]                 (10.494, 11.611]         (0.815, 0.84]                  (0.348, 0.456]            (0.32, 0.492]               (0.264, 0.392]                 (-0.001, 0.247]               (0.77, 0.785]                 0.394799\n",
      "                                                                 (11.611, 12.036]         (0.506, 0.73]                  (0.477, 0.489]            (0.0482, 0.247]             (0.437, 0.472]                 (-0.001, 0.247]               (0.737, 0.77]                 0.382278\n",
      "                                                                 (12.446, 13.167]         (0.84, 0.89]                   (0.456, 0.477]            (-0.001, 0.0482]            (0.264, 0.392]                 (0.345, 0.501]                (0.737, 0.77]                -0.515490\n",
      "                                 (0.101, 0.16]                   (10.494, 11.611]         (0.73, 0.771]                  (0.477, 0.489]            (0.0482, 0.247]             (0.264, 0.392]                 (-0.001, 0.247]               (0.642, 0.737]                0.079934\n",
      "                                                                 (11.611, 12.036]         (0.506, 0.73]                  (0.5, 0.53]               (0.0482, 0.247]             (0.437, 0.472]                 (0.247, 0.289]                (0.642, 0.737]                0.331401\n",
      "(0.0559, 0.0717]                 (0.0658, 0.0834]                (11.611, 12.036]         (0.73, 0.771]                  (0.348, 0.456]            (0.0482, 0.247]             (0.472, 0.502]                 (0.247, 0.289]                (0.737, 0.77]                 0.068816\n",
      "                                 (0.0834, 0.0913]                (10.494, 11.611]         (0.815, 0.84]                  (0.5, 0.53]               (0.0482, 0.247]             (0.472, 0.502]                 (-0.001, 0.247]               (0.737, 0.77]                 0.538259\n",
      "                                                                 (12.036, 12.108]         (0.815, 0.84]                  (0.5, 0.53]               (0.32, 0.492]               (0.264, 0.392]                 (0.247, 0.289]                (0.642, 0.737]                0.271810\n",
      "                                                                 (12.446, 13.167]         (0.815, 0.84]                  (0.456, 0.477]            (-0.001, 0.0482]            (0.472, 0.502]                 (0.345, 0.501]                (0.77, 0.785]                -0.260620\n",
      "                                 (0.0913, 0.101]                 (11.611, 12.036]         (0.506, 0.73]                  (0.489, 0.5]              (0.0482, 0.247]             (0.437, 0.472]                 (0.247, 0.289]                (0.737, 0.77]                 0.593703\n",
      "                                 (0.101, 0.16]                   (10.494, 11.611]         (0.73, 0.771]                  (0.489, 0.5]              (0.0482, 0.247]             (0.392, 0.437]                 (0.247, 0.289]                (0.642, 0.737]                0.225743\n",
      "                                                                                          (0.771, 0.815]                 (0.456, 0.477]            (0.32, 0.492]               (0.264, 0.392]                 (-0.001, 0.247]               (0.642, 0.737]                0.197959\n",
      "                                                                                          (0.84, 0.89]                   (0.5, 0.53]               (0.247, 0.296]              (0.392, 0.437]                 (-0.001, 0.247]               (0.737, 0.77]                 0.451839\n",
      "                                                                 (12.036, 12.108]         (0.73, 0.771]                  (0.5, 0.53]               (0.247, 0.296]              (0.437, 0.472]                 (0.312, 0.345]                (0.642, 0.737]               -0.108399\n",
      "                                                                                          (0.771, 0.815]                 (0.477, 0.489]            (0.247, 0.296]              (0.502, 0.648]                 (0.312, 0.345]                (0.642, 0.737]               -0.277432\n",
      "                                                                 (12.108, 12.446]         (0.506, 0.73]                  (0.456, 0.477]            (0.247, 0.296]              (0.392, 0.437]                 (0.312, 0.345]                (0.642, 0.737]                0.021450\n",
      "                                                                                          (0.771, 0.815]                 (0.5, 0.53]               (0.32, 0.492]               (0.502, 0.648]                 (0.247, 0.289]                (0.642, 0.737]               -0.237796\n",
      "dtype: float64\n"
     ]
    }
   ],
   "source": [
    "estimate = model.estimate_effect(identified_estimand, \n",
    "                                 method_name=\"backdoor.linear_regression\",target_units=\"ate\")\n",
    "# ATE = Average Treatment Effect\n",
    "# ATT = Average Treatment Effect on Treated (i.e. those who were assigned a different room)\n",
    "# ATC = Average Treatment Effect on Control (i.e. those who were not assigned a different room)\n",
    "print(estimate)"
   ]
  },
  {
   "cell_type": "code",
   "execution_count": 67,
   "metadata": {},
   "outputs": [
    {
     "name": "stdout",
     "output_type": "stream",
     "text": [
      "Refute: Add a random common cause\n",
      "Estimated effect:0.16068057256651347\n",
      "New effect:0.15787906831254409\n",
      "p value:0.43000000000000005\n",
      "\n"
     ]
    }
   ],
   "source": [
    "refute1_results=model.refute_estimate(identified_estimand, estimate,\n",
    "        method_name=\"random_common_cause\")\n",
    "print(refute1_results)"
   ]
  },
  {
   "cell_type": "code",
   "execution_count": 68,
   "metadata": {},
   "outputs": [
    {
     "name": "stderr",
     "output_type": "stream",
     "text": [
      "/opt/anaconda3/envs/causal_inference/lib/python3.9/site-packages/statsmodels/regression/linear_model.py:1918: RuntimeWarning: divide by zero encountered in double_scalars\n",
      "  return np.sqrt(eigvals[0]/eigvals[-1])\n",
      "/opt/anaconda3/envs/causal_inference/lib/python3.9/site-packages/statsmodels/regression/linear_model.py:1918: RuntimeWarning: divide by zero encountered in double_scalars\n",
      "  return np.sqrt(eigvals[0]/eigvals[-1])\n",
      "/opt/anaconda3/envs/causal_inference/lib/python3.9/site-packages/statsmodels/regression/linear_model.py:1918: RuntimeWarning: divide by zero encountered in double_scalars\n",
      "  return np.sqrt(eigvals[0]/eigvals[-1])\n",
      "/opt/anaconda3/envs/causal_inference/lib/python3.9/site-packages/statsmodels/regression/linear_model.py:1918: RuntimeWarning: divide by zero encountered in double_scalars\n",
      "  return np.sqrt(eigvals[0]/eigvals[-1])\n",
      "/opt/anaconda3/envs/causal_inference/lib/python3.9/site-packages/statsmodels/regression/linear_model.py:1918: RuntimeWarning: divide by zero encountered in double_scalars\n",
      "  return np.sqrt(eigvals[0]/eigvals[-1])\n",
      "/opt/anaconda3/envs/causal_inference/lib/python3.9/site-packages/statsmodels/regression/linear_model.py:1918: RuntimeWarning: divide by zero encountered in double_scalars\n",
      "  return np.sqrt(eigvals[0]/eigvals[-1])\n",
      "/opt/anaconda3/envs/causal_inference/lib/python3.9/site-packages/statsmodels/regression/linear_model.py:1918: RuntimeWarning: divide by zero encountered in double_scalars\n",
      "  return np.sqrt(eigvals[0]/eigvals[-1])\n",
      "/opt/anaconda3/envs/causal_inference/lib/python3.9/site-packages/statsmodels/regression/linear_model.py:1918: RuntimeWarning: divide by zero encountered in double_scalars\n",
      "  return np.sqrt(eigvals[0]/eigvals[-1])\n",
      "/opt/anaconda3/envs/causal_inference/lib/python3.9/site-packages/statsmodels/regression/linear_model.py:1918: RuntimeWarning: divide by zero encountered in double_scalars\n",
      "  return np.sqrt(eigvals[0]/eigvals[-1])\n",
      "/opt/anaconda3/envs/causal_inference/lib/python3.9/site-packages/statsmodels/regression/linear_model.py:1918: RuntimeWarning: divide by zero encountered in double_scalars\n",
      "  return np.sqrt(eigvals[0]/eigvals[-1])\n",
      "/opt/anaconda3/envs/causal_inference/lib/python3.9/site-packages/statsmodels/regression/linear_model.py:1918: RuntimeWarning: divide by zero encountered in double_scalars\n",
      "  return np.sqrt(eigvals[0]/eigvals[-1])\n",
      "/opt/anaconda3/envs/causal_inference/lib/python3.9/site-packages/statsmodels/regression/linear_model.py:1918: RuntimeWarning: divide by zero encountered in double_scalars\n",
      "  return np.sqrt(eigvals[0]/eigvals[-1])\n",
      "/opt/anaconda3/envs/causal_inference/lib/python3.9/site-packages/statsmodels/regression/linear_model.py:1918: RuntimeWarning: divide by zero encountered in double_scalars\n",
      "  return np.sqrt(eigvals[0]/eigvals[-1])\n",
      "/opt/anaconda3/envs/causal_inference/lib/python3.9/site-packages/statsmodels/regression/linear_model.py:1918: RuntimeWarning: divide by zero encountered in double_scalars\n",
      "  return np.sqrt(eigvals[0]/eigvals[-1])\n",
      "/opt/anaconda3/envs/causal_inference/lib/python3.9/site-packages/statsmodels/regression/linear_model.py:1918: RuntimeWarning: divide by zero encountered in double_scalars\n",
      "  return np.sqrt(eigvals[0]/eigvals[-1])\n",
      "/opt/anaconda3/envs/causal_inference/lib/python3.9/site-packages/statsmodels/regression/linear_model.py:1918: RuntimeWarning: divide by zero encountered in double_scalars\n",
      "  return np.sqrt(eigvals[0]/eigvals[-1])\n",
      "/opt/anaconda3/envs/causal_inference/lib/python3.9/site-packages/statsmodels/regression/linear_model.py:1918: RuntimeWarning: divide by zero encountered in double_scalars\n",
      "  return np.sqrt(eigvals[0]/eigvals[-1])\n",
      "/opt/anaconda3/envs/causal_inference/lib/python3.9/site-packages/statsmodels/regression/linear_model.py:1918: RuntimeWarning: divide by zero encountered in double_scalars\n",
      "  return np.sqrt(eigvals[0]/eigvals[-1])\n",
      "/opt/anaconda3/envs/causal_inference/lib/python3.9/site-packages/statsmodels/regression/linear_model.py:1918: RuntimeWarning: divide by zero encountered in double_scalars\n",
      "  return np.sqrt(eigvals[0]/eigvals[-1])\n",
      "/opt/anaconda3/envs/causal_inference/lib/python3.9/site-packages/statsmodels/regression/linear_model.py:1918: RuntimeWarning: divide by zero encountered in double_scalars\n",
      "  return np.sqrt(eigvals[0]/eigvals[-1])\n",
      "/opt/anaconda3/envs/causal_inference/lib/python3.9/site-packages/statsmodels/regression/linear_model.py:1918: RuntimeWarning: divide by zero encountered in double_scalars\n",
      "  return np.sqrt(eigvals[0]/eigvals[-1])\n",
      "/opt/anaconda3/envs/causal_inference/lib/python3.9/site-packages/statsmodels/regression/linear_model.py:1918: RuntimeWarning: divide by zero encountered in double_scalars\n",
      "  return np.sqrt(eigvals[0]/eigvals[-1])\n",
      "/opt/anaconda3/envs/causal_inference/lib/python3.9/site-packages/statsmodels/regression/linear_model.py:1918: RuntimeWarning: divide by zero encountered in double_scalars\n",
      "  return np.sqrt(eigvals[0]/eigvals[-1])\n",
      "/opt/anaconda3/envs/causal_inference/lib/python3.9/site-packages/statsmodels/regression/linear_model.py:1918: RuntimeWarning: divide by zero encountered in double_scalars\n",
      "  return np.sqrt(eigvals[0]/eigvals[-1])\n",
      "/opt/anaconda3/envs/causal_inference/lib/python3.9/site-packages/statsmodels/regression/linear_model.py:1918: RuntimeWarning: divide by zero encountered in double_scalars\n",
      "  return np.sqrt(eigvals[0]/eigvals[-1])\n",
      "/opt/anaconda3/envs/causal_inference/lib/python3.9/site-packages/statsmodels/regression/linear_model.py:1918: RuntimeWarning: divide by zero encountered in double_scalars\n",
      "  return np.sqrt(eigvals[0]/eigvals[-1])\n",
      "/opt/anaconda3/envs/causal_inference/lib/python3.9/site-packages/statsmodels/regression/linear_model.py:1918: RuntimeWarning: divide by zero encountered in double_scalars\n",
      "  return np.sqrt(eigvals[0]/eigvals[-1])\n",
      "/opt/anaconda3/envs/causal_inference/lib/python3.9/site-packages/statsmodels/regression/linear_model.py:1918: RuntimeWarning: divide by zero encountered in double_scalars\n",
      "  return np.sqrt(eigvals[0]/eigvals[-1])\n",
      "/opt/anaconda3/envs/causal_inference/lib/python3.9/site-packages/statsmodels/regression/linear_model.py:1918: RuntimeWarning: divide by zero encountered in double_scalars\n",
      "  return np.sqrt(eigvals[0]/eigvals[-1])\n",
      "/opt/anaconda3/envs/causal_inference/lib/python3.9/site-packages/statsmodels/regression/linear_model.py:1918: RuntimeWarning: divide by zero encountered in double_scalars\n",
      "  return np.sqrt(eigvals[0]/eigvals[-1])\n",
      "/opt/anaconda3/envs/causal_inference/lib/python3.9/site-packages/statsmodels/regression/linear_model.py:1918: RuntimeWarning: divide by zero encountered in double_scalars\n",
      "  return np.sqrt(eigvals[0]/eigvals[-1])\n",
      "/opt/anaconda3/envs/causal_inference/lib/python3.9/site-packages/statsmodels/regression/linear_model.py:1918: RuntimeWarning: divide by zero encountered in double_scalars\n",
      "  return np.sqrt(eigvals[0]/eigvals[-1])\n",
      "/opt/anaconda3/envs/causal_inference/lib/python3.9/site-packages/statsmodels/regression/linear_model.py:1918: RuntimeWarning: divide by zero encountered in double_scalars\n",
      "  return np.sqrt(eigvals[0]/eigvals[-1])\n",
      "/opt/anaconda3/envs/causal_inference/lib/python3.9/site-packages/statsmodels/regression/linear_model.py:1918: RuntimeWarning: divide by zero encountered in double_scalars\n",
      "  return np.sqrt(eigvals[0]/eigvals[-1])\n",
      "/opt/anaconda3/envs/causal_inference/lib/python3.9/site-packages/statsmodels/regression/linear_model.py:1918: RuntimeWarning: divide by zero encountered in double_scalars\n",
      "  return np.sqrt(eigvals[0]/eigvals[-1])\n",
      "/opt/anaconda3/envs/causal_inference/lib/python3.9/site-packages/statsmodels/regression/linear_model.py:1918: RuntimeWarning: divide by zero encountered in double_scalars\n",
      "  return np.sqrt(eigvals[0]/eigvals[-1])\n",
      "/opt/anaconda3/envs/causal_inference/lib/python3.9/site-packages/statsmodels/regression/linear_model.py:1918: RuntimeWarning: divide by zero encountered in double_scalars\n",
      "  return np.sqrt(eigvals[0]/eigvals[-1])\n",
      "/opt/anaconda3/envs/causal_inference/lib/python3.9/site-packages/statsmodels/regression/linear_model.py:1918: RuntimeWarning: divide by zero encountered in double_scalars\n",
      "  return np.sqrt(eigvals[0]/eigvals[-1])\n",
      "/opt/anaconda3/envs/causal_inference/lib/python3.9/site-packages/statsmodels/regression/linear_model.py:1918: RuntimeWarning: divide by zero encountered in double_scalars\n",
      "  return np.sqrt(eigvals[0]/eigvals[-1])\n",
      "/opt/anaconda3/envs/causal_inference/lib/python3.9/site-packages/statsmodels/regression/linear_model.py:1918: RuntimeWarning: divide by zero encountered in double_scalars\n",
      "  return np.sqrt(eigvals[0]/eigvals[-1])\n",
      "/opt/anaconda3/envs/causal_inference/lib/python3.9/site-packages/statsmodels/regression/linear_model.py:1918: RuntimeWarning: divide by zero encountered in double_scalars\n",
      "  return np.sqrt(eigvals[0]/eigvals[-1])\n",
      "/opt/anaconda3/envs/causal_inference/lib/python3.9/site-packages/statsmodels/regression/linear_model.py:1918: RuntimeWarning: divide by zero encountered in double_scalars\n",
      "  return np.sqrt(eigvals[0]/eigvals[-1])\n",
      "/opt/anaconda3/envs/causal_inference/lib/python3.9/site-packages/statsmodels/regression/linear_model.py:1918: RuntimeWarning: divide by zero encountered in double_scalars\n",
      "  return np.sqrt(eigvals[0]/eigvals[-1])\n",
      "/opt/anaconda3/envs/causal_inference/lib/python3.9/site-packages/statsmodels/regression/linear_model.py:1918: RuntimeWarning: divide by zero encountered in double_scalars\n",
      "  return np.sqrt(eigvals[0]/eigvals[-1])\n",
      "/opt/anaconda3/envs/causal_inference/lib/python3.9/site-packages/statsmodels/regression/linear_model.py:1918: RuntimeWarning: divide by zero encountered in double_scalars\n",
      "  return np.sqrt(eigvals[0]/eigvals[-1])\n",
      "/opt/anaconda3/envs/causal_inference/lib/python3.9/site-packages/statsmodels/regression/linear_model.py:1918: RuntimeWarning: divide by zero encountered in double_scalars\n",
      "  return np.sqrt(eigvals[0]/eigvals[-1])\n",
      "/opt/anaconda3/envs/causal_inference/lib/python3.9/site-packages/statsmodels/regression/linear_model.py:1918: RuntimeWarning: divide by zero encountered in double_scalars\n",
      "  return np.sqrt(eigvals[0]/eigvals[-1])\n",
      "/opt/anaconda3/envs/causal_inference/lib/python3.9/site-packages/statsmodels/regression/linear_model.py:1918: RuntimeWarning: divide by zero encountered in double_scalars\n",
      "  return np.sqrt(eigvals[0]/eigvals[-1])\n",
      "/opt/anaconda3/envs/causal_inference/lib/python3.9/site-packages/statsmodels/regression/linear_model.py:1918: RuntimeWarning: divide by zero encountered in double_scalars\n",
      "  return np.sqrt(eigvals[0]/eigvals[-1])\n",
      "/opt/anaconda3/envs/causal_inference/lib/python3.9/site-packages/statsmodels/regression/linear_model.py:1918: RuntimeWarning: divide by zero encountered in double_scalars\n",
      "  return np.sqrt(eigvals[0]/eigvals[-1])\n",
      "/opt/anaconda3/envs/causal_inference/lib/python3.9/site-packages/statsmodels/regression/linear_model.py:1918: RuntimeWarning: divide by zero encountered in double_scalars\n",
      "  return np.sqrt(eigvals[0]/eigvals[-1])\n",
      "/opt/anaconda3/envs/causal_inference/lib/python3.9/site-packages/statsmodels/regression/linear_model.py:1918: RuntimeWarning: divide by zero encountered in double_scalars\n",
      "  return np.sqrt(eigvals[0]/eigvals[-1])\n",
      "/opt/anaconda3/envs/causal_inference/lib/python3.9/site-packages/statsmodels/regression/linear_model.py:1918: RuntimeWarning: divide by zero encountered in double_scalars\n",
      "  return np.sqrt(eigvals[0]/eigvals[-1])\n",
      "/opt/anaconda3/envs/causal_inference/lib/python3.9/site-packages/statsmodels/regression/linear_model.py:1918: RuntimeWarning: divide by zero encountered in double_scalars\n",
      "  return np.sqrt(eigvals[0]/eigvals[-1])\n",
      "/opt/anaconda3/envs/causal_inference/lib/python3.9/site-packages/statsmodels/regression/linear_model.py:1918: RuntimeWarning: divide by zero encountered in double_scalars\n",
      "  return np.sqrt(eigvals[0]/eigvals[-1])\n",
      "/opt/anaconda3/envs/causal_inference/lib/python3.9/site-packages/statsmodels/regression/linear_model.py:1918: RuntimeWarning: divide by zero encountered in double_scalars\n",
      "  return np.sqrt(eigvals[0]/eigvals[-1])\n",
      "/opt/anaconda3/envs/causal_inference/lib/python3.9/site-packages/statsmodels/regression/linear_model.py:1918: RuntimeWarning: divide by zero encountered in double_scalars\n",
      "  return np.sqrt(eigvals[0]/eigvals[-1])\n",
      "/opt/anaconda3/envs/causal_inference/lib/python3.9/site-packages/statsmodels/regression/linear_model.py:1918: RuntimeWarning: divide by zero encountered in double_scalars\n",
      "  return np.sqrt(eigvals[0]/eigvals[-1])\n",
      "/opt/anaconda3/envs/causal_inference/lib/python3.9/site-packages/statsmodels/regression/linear_model.py:1918: RuntimeWarning: divide by zero encountered in double_scalars\n",
      "  return np.sqrt(eigvals[0]/eigvals[-1])\n",
      "/opt/anaconda3/envs/causal_inference/lib/python3.9/site-packages/statsmodels/regression/linear_model.py:1918: RuntimeWarning: divide by zero encountered in double_scalars\n",
      "  return np.sqrt(eigvals[0]/eigvals[-1])\n",
      "/opt/anaconda3/envs/causal_inference/lib/python3.9/site-packages/statsmodels/regression/linear_model.py:1918: RuntimeWarning: divide by zero encountered in double_scalars\n",
      "  return np.sqrt(eigvals[0]/eigvals[-1])\n",
      "/opt/anaconda3/envs/causal_inference/lib/python3.9/site-packages/statsmodels/regression/linear_model.py:1918: RuntimeWarning: divide by zero encountered in double_scalars\n",
      "  return np.sqrt(eigvals[0]/eigvals[-1])\n",
      "/opt/anaconda3/envs/causal_inference/lib/python3.9/site-packages/statsmodels/regression/linear_model.py:1918: RuntimeWarning: divide by zero encountered in double_scalars\n",
      "  return np.sqrt(eigvals[0]/eigvals[-1])\n",
      "/opt/anaconda3/envs/causal_inference/lib/python3.9/site-packages/statsmodels/regression/linear_model.py:1918: RuntimeWarning: divide by zero encountered in double_scalars\n",
      "  return np.sqrt(eigvals[0]/eigvals[-1])\n",
      "/opt/anaconda3/envs/causal_inference/lib/python3.9/site-packages/statsmodels/regression/linear_model.py:1918: RuntimeWarning: divide by zero encountered in double_scalars\n",
      "  return np.sqrt(eigvals[0]/eigvals[-1])\n",
      "/opt/anaconda3/envs/causal_inference/lib/python3.9/site-packages/statsmodels/regression/linear_model.py:1918: RuntimeWarning: divide by zero encountered in double_scalars\n",
      "  return np.sqrt(eigvals[0]/eigvals[-1])\n",
      "/opt/anaconda3/envs/causal_inference/lib/python3.9/site-packages/statsmodels/regression/linear_model.py:1918: RuntimeWarning: divide by zero encountered in double_scalars\n",
      "  return np.sqrt(eigvals[0]/eigvals[-1])\n",
      "/opt/anaconda3/envs/causal_inference/lib/python3.9/site-packages/statsmodels/regression/linear_model.py:1918: RuntimeWarning: divide by zero encountered in double_scalars\n",
      "  return np.sqrt(eigvals[0]/eigvals[-1])\n",
      "/opt/anaconda3/envs/causal_inference/lib/python3.9/site-packages/statsmodels/regression/linear_model.py:1918: RuntimeWarning: divide by zero encountered in double_scalars\n",
      "  return np.sqrt(eigvals[0]/eigvals[-1])\n",
      "/opt/anaconda3/envs/causal_inference/lib/python3.9/site-packages/statsmodels/regression/linear_model.py:1918: RuntimeWarning: divide by zero encountered in double_scalars\n",
      "  return np.sqrt(eigvals[0]/eigvals[-1])\n",
      "/opt/anaconda3/envs/causal_inference/lib/python3.9/site-packages/statsmodels/regression/linear_model.py:1918: RuntimeWarning: divide by zero encountered in double_scalars\n",
      "  return np.sqrt(eigvals[0]/eigvals[-1])\n",
      "/opt/anaconda3/envs/causal_inference/lib/python3.9/site-packages/statsmodels/regression/linear_model.py:1918: RuntimeWarning: divide by zero encountered in double_scalars\n",
      "  return np.sqrt(eigvals[0]/eigvals[-1])\n",
      "/opt/anaconda3/envs/causal_inference/lib/python3.9/site-packages/statsmodels/regression/linear_model.py:1918: RuntimeWarning: divide by zero encountered in double_scalars\n",
      "  return np.sqrt(eigvals[0]/eigvals[-1])\n",
      "/opt/anaconda3/envs/causal_inference/lib/python3.9/site-packages/statsmodels/regression/linear_model.py:1918: RuntimeWarning: divide by zero encountered in double_scalars\n",
      "  return np.sqrt(eigvals[0]/eigvals[-1])\n",
      "/opt/anaconda3/envs/causal_inference/lib/python3.9/site-packages/statsmodels/regression/linear_model.py:1918: RuntimeWarning: divide by zero encountered in double_scalars\n",
      "  return np.sqrt(eigvals[0]/eigvals[-1])\n",
      "/opt/anaconda3/envs/causal_inference/lib/python3.9/site-packages/statsmodels/regression/linear_model.py:1918: RuntimeWarning: divide by zero encountered in double_scalars\n",
      "  return np.sqrt(eigvals[0]/eigvals[-1])\n",
      "/opt/anaconda3/envs/causal_inference/lib/python3.9/site-packages/statsmodels/regression/linear_model.py:1918: RuntimeWarning: divide by zero encountered in double_scalars\n",
      "  return np.sqrt(eigvals[0]/eigvals[-1])\n",
      "/opt/anaconda3/envs/causal_inference/lib/python3.9/site-packages/statsmodels/regression/linear_model.py:1918: RuntimeWarning: divide by zero encountered in double_scalars\n",
      "  return np.sqrt(eigvals[0]/eigvals[-1])\n",
      "/opt/anaconda3/envs/causal_inference/lib/python3.9/site-packages/statsmodels/regression/linear_model.py:1918: RuntimeWarning: divide by zero encountered in double_scalars\n",
      "  return np.sqrt(eigvals[0]/eigvals[-1])\n",
      "/opt/anaconda3/envs/causal_inference/lib/python3.9/site-packages/statsmodels/regression/linear_model.py:1918: RuntimeWarning: divide by zero encountered in double_scalars\n",
      "  return np.sqrt(eigvals[0]/eigvals[-1])\n",
      "/opt/anaconda3/envs/causal_inference/lib/python3.9/site-packages/statsmodels/regression/linear_model.py:1918: RuntimeWarning: divide by zero encountered in double_scalars\n",
      "  return np.sqrt(eigvals[0]/eigvals[-1])\n",
      "/opt/anaconda3/envs/causal_inference/lib/python3.9/site-packages/statsmodels/regression/linear_model.py:1918: RuntimeWarning: divide by zero encountered in double_scalars\n",
      "  return np.sqrt(eigvals[0]/eigvals[-1])\n",
      "/opt/anaconda3/envs/causal_inference/lib/python3.9/site-packages/statsmodels/regression/linear_model.py:1918: RuntimeWarning: divide by zero encountered in double_scalars\n",
      "  return np.sqrt(eigvals[0]/eigvals[-1])\n",
      "/opt/anaconda3/envs/causal_inference/lib/python3.9/site-packages/statsmodels/regression/linear_model.py:1918: RuntimeWarning: divide by zero encountered in double_scalars\n",
      "  return np.sqrt(eigvals[0]/eigvals[-1])\n",
      "/opt/anaconda3/envs/causal_inference/lib/python3.9/site-packages/statsmodels/regression/linear_model.py:1918: RuntimeWarning: divide by zero encountered in double_scalars\n",
      "  return np.sqrt(eigvals[0]/eigvals[-1])\n",
      "/opt/anaconda3/envs/causal_inference/lib/python3.9/site-packages/statsmodels/regression/linear_model.py:1918: RuntimeWarning: divide by zero encountered in double_scalars\n",
      "  return np.sqrt(eigvals[0]/eigvals[-1])\n",
      "/opt/anaconda3/envs/causal_inference/lib/python3.9/site-packages/statsmodels/regression/linear_model.py:1918: RuntimeWarning: divide by zero encountered in double_scalars\n",
      "  return np.sqrt(eigvals[0]/eigvals[-1])\n",
      "/opt/anaconda3/envs/causal_inference/lib/python3.9/site-packages/statsmodels/regression/linear_model.py:1918: RuntimeWarning: divide by zero encountered in double_scalars\n",
      "  return np.sqrt(eigvals[0]/eigvals[-1])\n",
      "/opt/anaconda3/envs/causal_inference/lib/python3.9/site-packages/statsmodels/regression/linear_model.py:1918: RuntimeWarning: divide by zero encountered in double_scalars\n",
      "  return np.sqrt(eigvals[0]/eigvals[-1])\n",
      "/opt/anaconda3/envs/causal_inference/lib/python3.9/site-packages/statsmodels/regression/linear_model.py:1918: RuntimeWarning: divide by zero encountered in double_scalars\n",
      "  return np.sqrt(eigvals[0]/eigvals[-1])\n",
      "/opt/anaconda3/envs/causal_inference/lib/python3.9/site-packages/statsmodels/regression/linear_model.py:1918: RuntimeWarning: divide by zero encountered in double_scalars\n",
      "  return np.sqrt(eigvals[0]/eigvals[-1])\n",
      "/opt/anaconda3/envs/causal_inference/lib/python3.9/site-packages/statsmodels/regression/linear_model.py:1918: RuntimeWarning: divide by zero encountered in double_scalars\n",
      "  return np.sqrt(eigvals[0]/eigvals[-1])\n",
      "/opt/anaconda3/envs/causal_inference/lib/python3.9/site-packages/statsmodels/regression/linear_model.py:1918: RuntimeWarning: divide by zero encountered in double_scalars\n",
      "  return np.sqrt(eigvals[0]/eigvals[-1])\n",
      "/opt/anaconda3/envs/causal_inference/lib/python3.9/site-packages/statsmodels/regression/linear_model.py:1918: RuntimeWarning: divide by zero encountered in double_scalars\n",
      "  return np.sqrt(eigvals[0]/eigvals[-1])\n",
      "/opt/anaconda3/envs/causal_inference/lib/python3.9/site-packages/statsmodels/regression/linear_model.py:1918: RuntimeWarning: divide by zero encountered in double_scalars\n",
      "  return np.sqrt(eigvals[0]/eigvals[-1])\n",
      "/opt/anaconda3/envs/causal_inference/lib/python3.9/site-packages/statsmodels/regression/linear_model.py:1918: RuntimeWarning: divide by zero encountered in double_scalars\n",
      "  return np.sqrt(eigvals[0]/eigvals[-1])\n",
      "/opt/anaconda3/envs/causal_inference/lib/python3.9/site-packages/statsmodels/regression/linear_model.py:1918: RuntimeWarning: divide by zero encountered in double_scalars\n",
      "  return np.sqrt(eigvals[0]/eigvals[-1])\n",
      "/opt/anaconda3/envs/causal_inference/lib/python3.9/site-packages/statsmodels/regression/linear_model.py:1918: RuntimeWarning: divide by zero encountered in double_scalars\n",
      "  return np.sqrt(eigvals[0]/eigvals[-1])\n",
      "/opt/anaconda3/envs/causal_inference/lib/python3.9/site-packages/statsmodels/regression/linear_model.py:1918: RuntimeWarning: divide by zero encountered in double_scalars\n",
      "  return np.sqrt(eigvals[0]/eigvals[-1])\n",
      "/opt/anaconda3/envs/causal_inference/lib/python3.9/site-packages/statsmodels/regression/linear_model.py:1918: RuntimeWarning: divide by zero encountered in double_scalars\n",
      "  return np.sqrt(eigvals[0]/eigvals[-1])\n"
     ]
    },
    {
     "name": "stdout",
     "output_type": "stream",
     "text": [
      "Refute: Use a Placebo Treatment\n",
      "Estimated effect:0.16068057256651347\n",
      "New effect:0.0\n",
      "p value:1.0\n",
      "\n"
     ]
    }
   ],
   "source": [
    "refute2_results=model.refute_estimate(identified_estimand, estimate,\n",
    "        method_name=\"placebo_treatment_refuter\")\n",
    "print(refute2_results)"
   ]
  },
  {
   "cell_type": "code",
   "execution_count": 69,
   "metadata": {},
   "outputs": [
    {
     "name": "stdout",
     "output_type": "stream",
     "text": [
      "Refute: Use a subset of data\n",
      "Estimated effect:0.16068057256651347\n",
      "New effect:0.16694125468311985\n",
      "p value:0.47\n",
      "\n"
     ]
    }
   ],
   "source": [
    "refute3_results=model.refute_estimate(identified_estimand, estimate,\n",
    "        method_name=\"data_subset_refuter\")\n",
    "print(refute3_results)"
   ]
  },
  {
   "cell_type": "markdown",
   "metadata": {},
   "source": [
    "## Double Machine Learning Method (Under debugging)"
   ]
  },
  {
   "cell_type": "code",
   "execution_count": 78,
   "metadata": {},
   "outputs": [],
   "source": [
    "from sklearn.preprocessing import PolynomialFeatures\n",
    "from sklearn.linear_model import LassoCV\n",
    "from sklearn.ensemble import GradientBoostingRegressor\n",
    "import econml\n"
   ]
  },
  {
   "cell_type": "code",
   "execution_count": 77,
   "metadata": {},
   "outputs": [
    {
     "ename": "ImportError",
     "evalue": "Error loading econml.dml.DML. Double-check the method name and ensure that all econml dependencies are installed.",
     "output_type": "error",
     "traceback": [
      "\u001b[0;31m---------------------------------------------------------------------------\u001b[0m",
      "\u001b[0;31mImportError\u001b[0m                               Traceback (most recent call last)",
      "File \u001b[0;32m/opt/anaconda3/envs/causal_inference/lib/python3.9/site-packages/dowhy/causal_estimators/econml.py:66\u001b[0m, in \u001b[0;36mEconml._get_econml_class_object\u001b[0;34m(self, module_method_name, *args, **kwargs)\u001b[0m\n\u001b[1;32m     <a href='file:///opt/anaconda3/envs/causal_inference/lib/python3.9/site-packages/dowhy/causal_estimators/econml.py?line=64'>65</a>\u001b[0m (module_name, _, class_name) \u001b[39m=\u001b[39m module_method_name\u001b[39m.\u001b[39mrpartition(\u001b[39m\"\u001b[39m\u001b[39m.\u001b[39m\u001b[39m\"\u001b[39m)\n\u001b[0;32m---> <a href='file:///opt/anaconda3/envs/causal_inference/lib/python3.9/site-packages/dowhy/causal_estimators/econml.py?line=65'>66</a>\u001b[0m estimator_module \u001b[39m=\u001b[39m import_module(module_name)\n\u001b[1;32m     <a href='file:///opt/anaconda3/envs/causal_inference/lib/python3.9/site-packages/dowhy/causal_estimators/econml.py?line=66'>67</a>\u001b[0m estimator_class \u001b[39m=\u001b[39m \u001b[39mgetattr\u001b[39m(estimator_module, class_name)\n",
      "File \u001b[0;32m/opt/anaconda3/envs/causal_inference/lib/python3.9/importlib/__init__.py:127\u001b[0m, in \u001b[0;36mimport_module\u001b[0;34m(name, package)\u001b[0m\n\u001b[1;32m    <a href='file:///opt/anaconda3/envs/causal_inference/lib/python3.9/importlib/__init__.py?line=125'>126</a>\u001b[0m         level \u001b[39m+\u001b[39m\u001b[39m=\u001b[39m \u001b[39m1\u001b[39m\n\u001b[0;32m--> <a href='file:///opt/anaconda3/envs/causal_inference/lib/python3.9/importlib/__init__.py?line=126'>127</a>\u001b[0m \u001b[39mreturn\u001b[39;00m _bootstrap\u001b[39m.\u001b[39;49m_gcd_import(name[level:], package, level)\n",
      "File \u001b[0;32m<frozen importlib._bootstrap>:1030\u001b[0m, in \u001b[0;36m_gcd_import\u001b[0;34m(name, package, level)\u001b[0m\n",
      "File \u001b[0;32m<frozen importlib._bootstrap>:1007\u001b[0m, in \u001b[0;36m_find_and_load\u001b[0;34m(name, import_)\u001b[0m\n",
      "File \u001b[0;32m<frozen importlib._bootstrap>:986\u001b[0m, in \u001b[0;36m_find_and_load_unlocked\u001b[0;34m(name, import_)\u001b[0m\n",
      "File \u001b[0;32m<frozen importlib._bootstrap>:680\u001b[0m, in \u001b[0;36m_load_unlocked\u001b[0;34m(spec)\u001b[0m\n",
      "File \u001b[0;32m<frozen importlib._bootstrap_external>:850\u001b[0m, in \u001b[0;36mexec_module\u001b[0;34m(self, module)\u001b[0m\n",
      "File \u001b[0;32m<frozen importlib._bootstrap>:228\u001b[0m, in \u001b[0;36m_call_with_frames_removed\u001b[0;34m(f, *args, **kwds)\u001b[0m\n",
      "File \u001b[0;32m/opt/anaconda3/envs/causal_inference/lib/python3.9/site-packages/econml/dml/__init__.py:37\u001b[0m, in \u001b[0;36m<module>\u001b[0;34m\u001b[0m\n\u001b[1;32m      <a href='file:///opt/anaconda3/envs/causal_inference/lib/python3.9/site-packages/econml/dml/__init__.py?line=4'>5</a>\u001b[0m \u001b[39m\"\"\"Double Machine Learning. The method uses machine learning methods to identify the\u001b[39;00m\n\u001b[1;32m      <a href='file:///opt/anaconda3/envs/causal_inference/lib/python3.9/site-packages/econml/dml/__init__.py?line=5'>6</a>\u001b[0m \u001b[39mpart of the observed outcome and treatment that is not predictable by the controls X, W\u001b[39;00m\n\u001b[1;32m      <a href='file:///opt/anaconda3/envs/causal_inference/lib/python3.9/site-packages/econml/dml/__init__.py?line=6'>7</a>\u001b[0m \u001b[39m(aka residual outcome and residual treatment).\u001b[39;00m\n\u001b[0;32m   (...)\u001b[0m\n\u001b[1;32m     <a href='file:///opt/anaconda3/envs/causal_inference/lib/python3.9/site-packages/econml/dml/__init__.py?line=33'>34</a>\u001b[0m \u001b[39m    ACM Conference on Learning Theory. `<https://arxiv.org/abs/1901.09036>`_\u001b[39;00m\n\u001b[1;32m     <a href='file:///opt/anaconda3/envs/causal_inference/lib/python3.9/site-packages/econml/dml/__init__.py?line=34'>35</a>\u001b[0m \u001b[39m\"\"\"\u001b[39;00m\n\u001b[0;32m---> <a href='file:///opt/anaconda3/envs/causal_inference/lib/python3.9/site-packages/econml/dml/__init__.py?line=36'>37</a>\u001b[0m \u001b[39mfrom\u001b[39;00m \u001b[39m.\u001b[39;00m\u001b[39mdml\u001b[39;00m \u001b[39mimport\u001b[39;00m (DML, LinearDML, SparseLinearDML,\n\u001b[1;32m     <a href='file:///opt/anaconda3/envs/causal_inference/lib/python3.9/site-packages/econml/dml/__init__.py?line=37'>38</a>\u001b[0m                   KernelDML, NonParamDML, ForestDML)\n\u001b[1;32m     <a href='file:///opt/anaconda3/envs/causal_inference/lib/python3.9/site-packages/econml/dml/__init__.py?line=38'>39</a>\u001b[0m \u001b[39mfrom\u001b[39;00m \u001b[39m.\u001b[39;00m\u001b[39mcausal_forest\u001b[39;00m \u001b[39mimport\u001b[39;00m CausalForestDML\n",
      "File \u001b[0;32m/opt/anaconda3/envs/causal_inference/lib/python3.9/site-packages/econml/dml/dml.py:18\u001b[0m, in \u001b[0;36m<module>\u001b[0;34m\u001b[0m\n\u001b[1;32m     <a href='file:///opt/anaconda3/envs/causal_inference/lib/python3.9/site-packages/econml/dml/dml.py?line=15'>16</a>\u001b[0m \u001b[39mimport\u001b[39;00m \u001b[39mcopy\u001b[39;00m\n\u001b[0;32m---> <a href='file:///opt/anaconda3/envs/causal_inference/lib/python3.9/site-packages/econml/dml/dml.py?line=17'>18</a>\u001b[0m \u001b[39mfrom\u001b[39;00m \u001b[39m.\u001b[39;00m\u001b[39m.\u001b[39;00m\u001b[39m_ortho_learner\u001b[39;00m \u001b[39mimport\u001b[39;00m _OrthoLearner\n\u001b[1;32m     <a href='file:///opt/anaconda3/envs/causal_inference/lib/python3.9/site-packages/econml/dml/dml.py?line=18'>19</a>\u001b[0m \u001b[39mfrom\u001b[39;00m \u001b[39m.\u001b[39;00m\u001b[39m_rlearner\u001b[39;00m \u001b[39mimport\u001b[39;00m _RLearner\n",
      "File \u001b[0;32m/opt/anaconda3/envs/causal_inference/lib/python3.9/site-packages/econml/_ortho_learner.py:42\u001b[0m, in \u001b[0;36m<module>\u001b[0;34m\u001b[0m\n\u001b[1;32m     <a href='file:///opt/anaconda3/envs/causal_inference/lib/python3.9/site-packages/econml/_ortho_learner.py?line=39'>40</a>\u001b[0m \u001b[39mfrom\u001b[39;00m \u001b[39msklearn\u001b[39;00m\u001b[39m.\u001b[39;00m\u001b[39mutils\u001b[39;00m \u001b[39mimport\u001b[39;00m check_random_state\n\u001b[0;32m---> <a href='file:///opt/anaconda3/envs/causal_inference/lib/python3.9/site-packages/econml/_ortho_learner.py?line=41'>42</a>\u001b[0m \u001b[39mfrom\u001b[39;00m \u001b[39m.\u001b[39;00m\u001b[39m_cate_estimator\u001b[39;00m \u001b[39mimport\u001b[39;00m (BaseCateEstimator, LinearCateEstimator,\n\u001b[1;32m     <a href='file:///opt/anaconda3/envs/causal_inference/lib/python3.9/site-packages/econml/_ortho_learner.py?line=42'>43</a>\u001b[0m                               TreatmentExpansionMixin)\n\u001b[1;32m     <a href='file:///opt/anaconda3/envs/causal_inference/lib/python3.9/site-packages/econml/_ortho_learner.py?line=43'>44</a>\u001b[0m \u001b[39mfrom\u001b[39;00m \u001b[39m.\u001b[39;00m\u001b[39minference\u001b[39;00m \u001b[39mimport\u001b[39;00m BootstrapInference\n",
      "File \u001b[0;32m/opt/anaconda3/envs/causal_inference/lib/python3.9/site-packages/econml/_cate_estimator.py:11\u001b[0m, in \u001b[0;36m<module>\u001b[0;34m\u001b[0m\n\u001b[1;32m     <a href='file:///opt/anaconda3/envs/causal_inference/lib/python3.9/site-packages/econml/_cate_estimator.py?line=9'>10</a>\u001b[0m \u001b[39mfrom\u001b[39;00m \u001b[39mwarnings\u001b[39;00m \u001b[39mimport\u001b[39;00m warn\n\u001b[0;32m---> <a href='file:///opt/anaconda3/envs/causal_inference/lib/python3.9/site-packages/econml/_cate_estimator.py?line=10'>11</a>\u001b[0m \u001b[39mfrom\u001b[39;00m \u001b[39m.\u001b[39;00m\u001b[39minference\u001b[39;00m \u001b[39mimport\u001b[39;00m BootstrapInference\n\u001b[1;32m     <a href='file:///opt/anaconda3/envs/causal_inference/lib/python3.9/site-packages/econml/_cate_estimator.py?line=11'>12</a>\u001b[0m \u001b[39mfrom\u001b[39;00m \u001b[39m.\u001b[39;00m\u001b[39mutilities\u001b[39;00m \u001b[39mimport\u001b[39;00m (tensordot, ndim, reshape, shape, parse_final_model_params,\n\u001b[1;32m     <a href='file:///opt/anaconda3/envs/causal_inference/lib/python3.9/site-packages/econml/_cate_estimator.py?line=12'>13</a>\u001b[0m                         inverse_onehot, Summary, get_input_columns, check_input_arrays)\n",
      "File \u001b[0;32m/opt/anaconda3/envs/causal_inference/lib/python3.9/site-packages/econml/inference/__init__.py:4\u001b[0m, in \u001b[0;36m<module>\u001b[0;34m\u001b[0m\n\u001b[1;32m      <a href='file:///opt/anaconda3/envs/causal_inference/lib/python3.9/site-packages/econml/inference/__init__.py?line=0'>1</a>\u001b[0m \u001b[39m# Copyright (c) Microsoft Corporation. All rights reserved.\u001b[39;00m\n\u001b[1;32m      <a href='file:///opt/anaconda3/envs/causal_inference/lib/python3.9/site-packages/econml/inference/__init__.py?line=1'>2</a>\u001b[0m \u001b[39m# Licensed under the MIT License.\u001b[39;00m\n\u001b[0;32m----> <a href='file:///opt/anaconda3/envs/causal_inference/lib/python3.9/site-packages/econml/inference/__init__.py?line=3'>4</a>\u001b[0m \u001b[39mfrom\u001b[39;00m \u001b[39m.\u001b[39;00m\u001b[39m_inference\u001b[39;00m \u001b[39mimport\u001b[39;00m (BootstrapInference, GenericModelFinalInference, GenericSingleTreatmentModelFinalInference,\n\u001b[1;32m      <a href='file:///opt/anaconda3/envs/causal_inference/lib/python3.9/site-packages/econml/inference/__init__.py?line=4'>5</a>\u001b[0m                          LinearModelFinalInference, StatsModelsInference, GenericModelFinalInferenceDiscrete,\n\u001b[1;32m      <a href='file:///opt/anaconda3/envs/causal_inference/lib/python3.9/site-packages/econml/inference/__init__.py?line=5'>6</a>\u001b[0m                          LinearModelFinalInferenceDiscrete, StatsModelsInferenceDiscrete,\n\u001b[1;32m      <a href='file:///opt/anaconda3/envs/causal_inference/lib/python3.9/site-packages/econml/inference/__init__.py?line=6'>7</a>\u001b[0m                          NormalInferenceResults, EmpiricalInferenceResults,\n\u001b[1;32m      <a href='file:///opt/anaconda3/envs/causal_inference/lib/python3.9/site-packages/econml/inference/__init__.py?line=7'>8</a>\u001b[0m                          PopulationSummaryResults)\n\u001b[1;32m     <a href='file:///opt/anaconda3/envs/causal_inference/lib/python3.9/site-packages/econml/inference/__init__.py?line=9'>10</a>\u001b[0m __all__ \u001b[39m=\u001b[39m [\u001b[39m\"\u001b[39m\u001b[39mBootstrapInference\u001b[39m\u001b[39m\"\u001b[39m,\n\u001b[1;32m     <a href='file:///opt/anaconda3/envs/causal_inference/lib/python3.9/site-packages/econml/inference/__init__.py?line=10'>11</a>\u001b[0m            \u001b[39m\"\u001b[39m\u001b[39mGenericModelFinalInference\u001b[39m\u001b[39m\"\u001b[39m,\n\u001b[1;32m     <a href='file:///opt/anaconda3/envs/causal_inference/lib/python3.9/site-packages/econml/inference/__init__.py?line=11'>12</a>\u001b[0m            \u001b[39m\"\u001b[39m\u001b[39mGenericSingleTreatmentModelFinalInference\u001b[39m\u001b[39m\"\u001b[39m,\n\u001b[0;32m   (...)\u001b[0m\n\u001b[1;32m     <a href='file:///opt/anaconda3/envs/causal_inference/lib/python3.9/site-packages/econml/inference/__init__.py?line=18'>19</a>\u001b[0m            \u001b[39m\"\u001b[39m\u001b[39mEmpiricalInferenceResults\u001b[39m\u001b[39m\"\u001b[39m,\n\u001b[1;32m     <a href='file:///opt/anaconda3/envs/causal_inference/lib/python3.9/site-packages/econml/inference/__init__.py?line=19'>20</a>\u001b[0m            \u001b[39m\"\u001b[39m\u001b[39mPopulationSummaryResults\u001b[39m\u001b[39m\"\u001b[39m]\n",
      "File \u001b[0;32m/opt/anaconda3/envs/causal_inference/lib/python3.9/site-packages/econml/inference/_inference.py:15\u001b[0m, in \u001b[0;36m<module>\u001b[0;34m\u001b[0m\n\u001b[1;32m     <a href='file:///opt/anaconda3/envs/causal_inference/lib/python3.9/site-packages/econml/inference/_inference.py?line=13'>14</a>\u001b[0m \u001b[39mfrom\u001b[39;00m \u001b[39m.\u001b[39;00m\u001b[39m_bootstrap\u001b[39;00m \u001b[39mimport\u001b[39;00m BootstrapEstimator\n\u001b[0;32m---> <a href='file:///opt/anaconda3/envs/causal_inference/lib/python3.9/site-packages/econml/inference/_inference.py?line=14'>15</a>\u001b[0m \u001b[39mfrom\u001b[39;00m \u001b[39m.\u001b[39;00m\u001b[39m.\u001b[39;00m\u001b[39msklearn_extensions\u001b[39;00m\u001b[39m.\u001b[39;00m\u001b[39mlinear_model\u001b[39;00m \u001b[39mimport\u001b[39;00m StatsModelsLinearRegression\n\u001b[1;32m     <a href='file:///opt/anaconda3/envs/causal_inference/lib/python3.9/site-packages/econml/inference/_inference.py?line=15'>16</a>\u001b[0m \u001b[39mfrom\u001b[39;00m \u001b[39m.\u001b[39;00m\u001b[39m.\u001b[39;00m\u001b[39mutilities\u001b[39;00m \u001b[39mimport\u001b[39;00m (Summary, _safe_norm_ppf, broadcast_unit_treatments,\n\u001b[1;32m     <a href='file:///opt/anaconda3/envs/causal_inference/lib/python3.9/site-packages/econml/inference/_inference.py?line=16'>17</a>\u001b[0m                          cross_product, inverse_onehot, ndim,\n\u001b[1;32m     <a href='file:///opt/anaconda3/envs/causal_inference/lib/python3.9/site-packages/econml/inference/_inference.py?line=17'>18</a>\u001b[0m                          parse_final_model_params,\n\u001b[1;32m     <a href='file:///opt/anaconda3/envs/causal_inference/lib/python3.9/site-packages/econml/inference/_inference.py?line=18'>19</a>\u001b[0m                          reshape_treatmentwise_effects, shape, filter_none_kwargs)\n",
      "File \u001b[0;32m/opt/anaconda3/envs/causal_inference/lib/python3.9/site-packages/econml/sklearn_extensions/linear_model.py:22\u001b[0m, in \u001b[0;36m<module>\u001b[0;34m\u001b[0m\n\u001b[1;32m     <a href='file:///opt/anaconda3/envs/causal_inference/lib/python3.9/site-packages/econml/sklearn_extensions/linear_model.py?line=20'>21</a>\u001b[0m \u001b[39mfrom\u001b[39;00m \u001b[39meconml\u001b[39;00m\u001b[39m.\u001b[39;00m\u001b[39msklearn_extensions\u001b[39;00m\u001b[39m.\u001b[39;00m\u001b[39mmodel_selection\u001b[39;00m \u001b[39mimport\u001b[39;00m WeightedKFold, WeightedStratifiedKFold\n\u001b[0;32m---> <a href='file:///opt/anaconda3/envs/causal_inference/lib/python3.9/site-packages/econml/sklearn_extensions/linear_model.py?line=21'>22</a>\u001b[0m \u001b[39mfrom\u001b[39;00m \u001b[39meconml\u001b[39;00m\u001b[39m.\u001b[39;00m\u001b[39mutilities\u001b[39;00m \u001b[39mimport\u001b[39;00m ndim, shape, reshape, _safe_norm_ppf\n\u001b[1;32m     <a href='file:///opt/anaconda3/envs/causal_inference/lib/python3.9/site-packages/econml/sklearn_extensions/linear_model.py?line=22'>23</a>\u001b[0m \u001b[39mfrom\u001b[39;00m \u001b[39msklearn\u001b[39;00m \u001b[39mimport\u001b[39;00m clone\n",
      "File \u001b[0;32m/opt/anaconda3/envs/causal_inference/lib/python3.9/site-packages/econml/utilities.py:9\u001b[0m, in \u001b[0;36m<module>\u001b[0;34m\u001b[0m\n\u001b[1;32m      <a href='file:///opt/anaconda3/envs/causal_inference/lib/python3.9/site-packages/econml/utilities.py?line=7'>8</a>\u001b[0m \u001b[39mimport\u001b[39;00m \u001b[39mscipy\u001b[39;00m\u001b[39m.\u001b[39;00m\u001b[39msparse\u001b[39;00m\n\u001b[0;32m----> <a href='file:///opt/anaconda3/envs/causal_inference/lib/python3.9/site-packages/econml/utilities.py?line=8'>9</a>\u001b[0m \u001b[39mimport\u001b[39;00m \u001b[39msparse\u001b[39;00m \u001b[39mas\u001b[39;00m \u001b[39msp\u001b[39;00m\n\u001b[1;32m     <a href='file:///opt/anaconda3/envs/causal_inference/lib/python3.9/site-packages/econml/utilities.py?line=9'>10</a>\u001b[0m \u001b[39mimport\u001b[39;00m \u001b[39mitertools\u001b[39;00m\n",
      "File \u001b[0;32m/opt/anaconda3/envs/causal_inference/lib/python3.9/site-packages/sparse/__init__.py:1\u001b[0m, in \u001b[0;36m<module>\u001b[0;34m\u001b[0m\n\u001b[0;32m----> <a href='file:///opt/anaconda3/envs/causal_inference/lib/python3.9/site-packages/sparse/__init__.py?line=0'>1</a>\u001b[0m \u001b[39mfrom\u001b[39;00m \u001b[39m.\u001b[39;00m\u001b[39m_coo\u001b[39;00m \u001b[39mimport\u001b[39;00m COO, as_coo\n\u001b[1;32m      <a href='file:///opt/anaconda3/envs/causal_inference/lib/python3.9/site-packages/sparse/__init__.py?line=1'>2</a>\u001b[0m \u001b[39mfrom\u001b[39;00m \u001b[39m.\u001b[39;00m\u001b[39m_compressed\u001b[39;00m \u001b[39mimport\u001b[39;00m GCXS\n",
      "File \u001b[0;32m/opt/anaconda3/envs/causal_inference/lib/python3.9/site-packages/sparse/_coo/__init__.py:1\u001b[0m, in \u001b[0;36m<module>\u001b[0;34m\u001b[0m\n\u001b[0;32m----> <a href='file:///opt/anaconda3/envs/causal_inference/lib/python3.9/site-packages/sparse/_coo/__init__.py?line=0'>1</a>\u001b[0m \u001b[39mfrom\u001b[39;00m \u001b[39m.\u001b[39;00m\u001b[39mcore\u001b[39;00m \u001b[39mimport\u001b[39;00m COO, as_coo\n\u001b[1;32m      <a href='file:///opt/anaconda3/envs/causal_inference/lib/python3.9/site-packages/sparse/_coo/__init__.py?line=1'>2</a>\u001b[0m \u001b[39mfrom\u001b[39;00m \u001b[39m.\u001b[39;00m\u001b[39mcommon\u001b[39;00m \u001b[39mimport\u001b[39;00m (\n\u001b[1;32m      <a href='file:///opt/anaconda3/envs/causal_inference/lib/python3.9/site-packages/sparse/_coo/__init__.py?line=2'>3</a>\u001b[0m     concatenate,\n\u001b[1;32m      <a href='file:///opt/anaconda3/envs/causal_inference/lib/python3.9/site-packages/sparse/_coo/__init__.py?line=3'>4</a>\u001b[0m     clip,\n\u001b[0;32m   (...)\u001b[0m\n\u001b[1;32m     <a href='file:///opt/anaconda3/envs/causal_inference/lib/python3.9/site-packages/sparse/_coo/__init__.py?line=21'>22</a>\u001b[0m     diagonalize,\n\u001b[1;32m     <a href='file:///opt/anaconda3/envs/causal_inference/lib/python3.9/site-packages/sparse/_coo/__init__.py?line=22'>23</a>\u001b[0m )\n",
      "File \u001b[0;32m/opt/anaconda3/envs/causal_inference/lib/python3.9/site-packages/sparse/_coo/core.py:9\u001b[0m, in \u001b[0;36m<module>\u001b[0;34m\u001b[0m\n\u001b[1;32m      <a href='file:///opt/anaconda3/envs/causal_inference/lib/python3.9/site-packages/sparse/_coo/core.py?line=7'>8</a>\u001b[0m \u001b[39mimport\u001b[39;00m \u001b[39mnumpy\u001b[39;00m \u001b[39mas\u001b[39;00m \u001b[39mnp\u001b[39;00m\n\u001b[0;32m----> <a href='file:///opt/anaconda3/envs/causal_inference/lib/python3.9/site-packages/sparse/_coo/core.py?line=8'>9</a>\u001b[0m \u001b[39mimport\u001b[39;00m \u001b[39mnumba\u001b[39;00m\n\u001b[1;32m     <a href='file:///opt/anaconda3/envs/causal_inference/lib/python3.9/site-packages/sparse/_coo/core.py?line=9'>10</a>\u001b[0m \u001b[39mimport\u001b[39;00m \u001b[39mscipy\u001b[39;00m\u001b[39m.\u001b[39;00m\u001b[39msparse\u001b[39;00m\n",
      "File \u001b[0;32m/opt/anaconda3/envs/causal_inference/lib/python3.9/site-packages/numba/__init__.py:200\u001b[0m, in \u001b[0;36m<module>\u001b[0;34m\u001b[0m\n\u001b[1;32m    <a href='file:///opt/anaconda3/envs/causal_inference/lib/python3.9/site-packages/numba/__init__.py?line=198'>199</a>\u001b[0m _ensure_llvm()\n\u001b[0;32m--> <a href='file:///opt/anaconda3/envs/causal_inference/lib/python3.9/site-packages/numba/__init__.py?line=199'>200</a>\u001b[0m _ensure_critical_deps()\n\u001b[1;32m    <a href='file:///opt/anaconda3/envs/causal_inference/lib/python3.9/site-packages/numba/__init__.py?line=201'>202</a>\u001b[0m \u001b[39m# we know llvmlite is working as the above tests passed, import it now as SVML\u001b[39;00m\n\u001b[1;32m    <a href='file:///opt/anaconda3/envs/causal_inference/lib/python3.9/site-packages/numba/__init__.py?line=202'>203</a>\u001b[0m \u001b[39m# needs to mutate runtime options (sets the `-vector-library`).\u001b[39;00m\n",
      "File \u001b[0;32m/opt/anaconda3/envs/causal_inference/lib/python3.9/site-packages/numba/__init__.py:140\u001b[0m, in \u001b[0;36m_ensure_critical_deps\u001b[0;34m()\u001b[0m\n\u001b[1;32m    <a href='file:///opt/anaconda3/envs/causal_inference/lib/python3.9/site-packages/numba/__init__.py?line=138'>139</a>\u001b[0m \u001b[39melif\u001b[39;00m numpy_version \u001b[39m>\u001b[39m (\u001b[39m1\u001b[39m, \u001b[39m21\u001b[39m):\n\u001b[0;32m--> <a href='file:///opt/anaconda3/envs/causal_inference/lib/python3.9/site-packages/numba/__init__.py?line=139'>140</a>\u001b[0m     \u001b[39mraise\u001b[39;00m \u001b[39mImportError\u001b[39;00m(\u001b[39m\"\u001b[39m\u001b[39mNumba needs NumPy 1.21 or less\u001b[39m\u001b[39m\"\u001b[39m)\n\u001b[1;32m    <a href='file:///opt/anaconda3/envs/causal_inference/lib/python3.9/site-packages/numba/__init__.py?line=141'>142</a>\u001b[0m \u001b[39mtry\u001b[39;00m:\n",
      "\u001b[0;31mImportError\u001b[0m: Numba needs NumPy 1.21 or less",
      "\nDuring handling of the above exception, another exception occurred:\n",
      "\u001b[0;31mImportError\u001b[0m                               Traceback (most recent call last)",
      "\u001b[1;32m/Users/Jipeng/VSCodeProjects/Causal_Inference/causal_inference_pipeline.ipynb Cell 24'\u001b[0m in \u001b[0;36m<module>\u001b[0;34m\u001b[0m\n\u001b[0;32m----> <a href='vscode-notebook-cell:/Users/Jipeng/VSCodeProjects/Causal_Inference/causal_inference_pipeline.ipynb#ch0000028?line=0'>1</a>\u001b[0m dml_estimate \u001b[39m=\u001b[39m model\u001b[39m.\u001b[39;49mestimate_effect(identified_estimand, method_name\u001b[39m=\u001b[39;49m\u001b[39m\"\u001b[39;49m\u001b[39mbackdoor.econml.dml.DML\u001b[39;49m\u001b[39m\"\u001b[39;49m,\n\u001b[1;32m      <a href='vscode-notebook-cell:/Users/Jipeng/VSCodeProjects/Causal_Inference/causal_inference_pipeline.ipynb#ch0000028?line=1'>2</a>\u001b[0m                                      control_value \u001b[39m=\u001b[39;49m \u001b[39m0\u001b[39;49m,\n\u001b[1;32m      <a href='vscode-notebook-cell:/Users/Jipeng/VSCodeProjects/Causal_Inference/causal_inference_pipeline.ipynb#ch0000028?line=2'>3</a>\u001b[0m                                      treatment_value \u001b[39m=\u001b[39;49m \u001b[39m1\u001b[39;49m,\n\u001b[1;32m      <a href='vscode-notebook-cell:/Users/Jipeng/VSCodeProjects/Causal_Inference/causal_inference_pipeline.ipynb#ch0000028?line=3'>4</a>\u001b[0m                                  target_units \u001b[39m=\u001b[39;49m \u001b[39m\"\u001b[39;49m\u001b[39mate\u001b[39;49m\u001b[39m\"\u001b[39;49m,\n\u001b[1;32m      <a href='vscode-notebook-cell:/Users/Jipeng/VSCodeProjects/Causal_Inference/causal_inference_pipeline.ipynb#ch0000028?line=4'>5</a>\u001b[0m                                  confidence_intervals\u001b[39m=\u001b[39;49m\u001b[39mFalse\u001b[39;49;00m,\n\u001b[1;32m      <a href='vscode-notebook-cell:/Users/Jipeng/VSCodeProjects/Causal_Inference/causal_inference_pipeline.ipynb#ch0000028?line=5'>6</a>\u001b[0m                                 method_params\u001b[39m=\u001b[39;49m{\u001b[39m\"\u001b[39;49m\u001b[39minit_params\u001b[39;49m\u001b[39m\"\u001b[39;49m:{\u001b[39m'\u001b[39;49m\u001b[39mmodel_y\u001b[39;49m\u001b[39m'\u001b[39;49m:GradientBoostingRegressor(),\n\u001b[1;32m      <a href='vscode-notebook-cell:/Users/Jipeng/VSCodeProjects/Causal_Inference/causal_inference_pipeline.ipynb#ch0000028?line=6'>7</a>\u001b[0m                                                               \u001b[39m'\u001b[39;49m\u001b[39mmodel_t\u001b[39;49m\u001b[39m'\u001b[39;49m: GradientBoostingRegressor(),\n\u001b[1;32m      <a href='vscode-notebook-cell:/Users/Jipeng/VSCodeProjects/Causal_Inference/causal_inference_pipeline.ipynb#ch0000028?line=7'>8</a>\u001b[0m                                                               \u001b[39m\"\u001b[39;49m\u001b[39mmodel_final\u001b[39;49m\u001b[39m\"\u001b[39;49m:LassoCV(fit_intercept\u001b[39m=\u001b[39;49m\u001b[39mFalse\u001b[39;49;00m),\n\u001b[1;32m      <a href='vscode-notebook-cell:/Users/Jipeng/VSCodeProjects/Causal_Inference/causal_inference_pipeline.ipynb#ch0000028?line=8'>9</a>\u001b[0m                                                               \u001b[39m'\u001b[39;49m\u001b[39mfeaturizer\u001b[39;49m\u001b[39m'\u001b[39;49m:PolynomialFeatures(degree\u001b[39m=\u001b[39;49m\u001b[39m1\u001b[39;49m, include_bias\u001b[39m=\u001b[39;49m\u001b[39mFalse\u001b[39;49;00m)},\n\u001b[1;32m     <a href='vscode-notebook-cell:/Users/Jipeng/VSCodeProjects/Causal_Inference/causal_inference_pipeline.ipynb#ch0000028?line=9'>10</a>\u001b[0m                                                \u001b[39m\"\u001b[39;49m\u001b[39mfit_params\u001b[39;49m\u001b[39m\"\u001b[39;49m:{}})\n\u001b[1;32m     <a href='vscode-notebook-cell:/Users/Jipeng/VSCodeProjects/Causal_Inference/causal_inference_pipeline.ipynb#ch0000028?line=10'>11</a>\u001b[0m \u001b[39mprint\u001b[39m(dml_estimate)\n",
      "File \u001b[0;32m/opt/anaconda3/envs/causal_inference/lib/python3.9/site-packages/dowhy/causal_model.py:286\u001b[0m, in \u001b[0;36mCausalModel.estimate_effect\u001b[0;34m(self, identified_estimand, method_name, control_value, treatment_value, test_significance, evaluate_effect_strength, confidence_intervals, target_units, effect_modifiers, fit_estimator, method_params)\u001b[0m\n\u001b[1;32m    <a href='file:///opt/anaconda3/envs/causal_inference/lib/python3.9/site-packages/dowhy/causal_model.py?line=283'>284</a>\u001b[0m \u001b[39melse\u001b[39;00m:\n\u001b[1;32m    <a href='file:///opt/anaconda3/envs/causal_inference/lib/python3.9/site-packages/dowhy/causal_model.py?line=284'>285</a>\u001b[0m     \u001b[39mif\u001b[39;00m fit_estimator:\n\u001b[0;32m--> <a href='file:///opt/anaconda3/envs/causal_inference/lib/python3.9/site-packages/dowhy/causal_model.py?line=285'>286</a>\u001b[0m         \u001b[39mself\u001b[39m\u001b[39m.\u001b[39mcausal_estimator \u001b[39m=\u001b[39m causal_estimator_class(\n\u001b[1;32m    <a href='file:///opt/anaconda3/envs/causal_inference/lib/python3.9/site-packages/dowhy/causal_model.py?line=286'>287</a>\u001b[0m             \u001b[39mself\u001b[39;49m\u001b[39m.\u001b[39;49m_data,\n\u001b[1;32m    <a href='file:///opt/anaconda3/envs/causal_inference/lib/python3.9/site-packages/dowhy/causal_model.py?line=287'>288</a>\u001b[0m             identified_estimand,\n\u001b[1;32m    <a href='file:///opt/anaconda3/envs/causal_inference/lib/python3.9/site-packages/dowhy/causal_model.py?line=288'>289</a>\u001b[0m             \u001b[39mself\u001b[39;49m\u001b[39m.\u001b[39;49m_treatment, \u001b[39mself\u001b[39;49m\u001b[39m.\u001b[39;49m_outcome, \u001b[39m#names of treatment and outcome\u001b[39;49;00m\n\u001b[1;32m    <a href='file:///opt/anaconda3/envs/causal_inference/lib/python3.9/site-packages/dowhy/causal_model.py?line=289'>290</a>\u001b[0m             control_value \u001b[39m=\u001b[39;49m control_value,\n\u001b[1;32m    <a href='file:///opt/anaconda3/envs/causal_inference/lib/python3.9/site-packages/dowhy/causal_model.py?line=290'>291</a>\u001b[0m             treatment_value \u001b[39m=\u001b[39;49m treatment_value,\n\u001b[1;32m    <a href='file:///opt/anaconda3/envs/causal_inference/lib/python3.9/site-packages/dowhy/causal_model.py?line=291'>292</a>\u001b[0m             test_significance\u001b[39m=\u001b[39;49mtest_significance,\n\u001b[1;32m    <a href='file:///opt/anaconda3/envs/causal_inference/lib/python3.9/site-packages/dowhy/causal_model.py?line=292'>293</a>\u001b[0m             evaluate_effect_strength\u001b[39m=\u001b[39;49mevaluate_effect_strength,\n\u001b[1;32m    <a href='file:///opt/anaconda3/envs/causal_inference/lib/python3.9/site-packages/dowhy/causal_model.py?line=293'>294</a>\u001b[0m             confidence_intervals \u001b[39m=\u001b[39;49m confidence_intervals,\n\u001b[1;32m    <a href='file:///opt/anaconda3/envs/causal_inference/lib/python3.9/site-packages/dowhy/causal_model.py?line=294'>295</a>\u001b[0m             target_units \u001b[39m=\u001b[39;49m target_units,\n\u001b[1;32m    <a href='file:///opt/anaconda3/envs/causal_inference/lib/python3.9/site-packages/dowhy/causal_model.py?line=295'>296</a>\u001b[0m             effect_modifiers \u001b[39m=\u001b[39;49m effect_modifiers,\n\u001b[1;32m    <a href='file:///opt/anaconda3/envs/causal_inference/lib/python3.9/site-packages/dowhy/causal_model.py?line=296'>297</a>\u001b[0m             params\u001b[39m=\u001b[39;49mmethod_params)\n\u001b[1;32m    <a href='file:///opt/anaconda3/envs/causal_inference/lib/python3.9/site-packages/dowhy/causal_model.py?line=297'>298</a>\u001b[0m     \u001b[39melse\u001b[39;00m:\n\u001b[1;32m    <a href='file:///opt/anaconda3/envs/causal_inference/lib/python3.9/site-packages/dowhy/causal_model.py?line=298'>299</a>\u001b[0m         \u001b[39m# Estimator had been computed in a previous call\u001b[39;00m\n\u001b[1;32m    <a href='file:///opt/anaconda3/envs/causal_inference/lib/python3.9/site-packages/dowhy/causal_model.py?line=299'>300</a>\u001b[0m         \u001b[39massert\u001b[39;00m \u001b[39mself\u001b[39m\u001b[39m.\u001b[39mcausal_estimator \u001b[39mis\u001b[39;00m \u001b[39mnot\u001b[39;00m \u001b[39mNone\u001b[39;00m\n",
      "File \u001b[0;32m/opt/anaconda3/envs/causal_inference/lib/python3.9/site-packages/dowhy/causal_estimators/econml.py:57\u001b[0m, in \u001b[0;36mEconml.__init__\u001b[0;34m(self, *args, **kwargs)\u001b[0m\n\u001b[1;32m     <a href='file:///opt/anaconda3/envs/causal_inference/lib/python3.9/site-packages/dowhy/causal_estimators/econml.py?line=53'>54</a>\u001b[0m \u001b[39melse\u001b[39;00m:\n\u001b[1;32m     <a href='file:///opt/anaconda3/envs/causal_inference/lib/python3.9/site-packages/dowhy/causal_estimators/econml.py?line=54'>55</a>\u001b[0m     \u001b[39mself\u001b[39m\u001b[39m.\u001b[39m_estimating_instruments \u001b[39m=\u001b[39m \u001b[39mNone\u001b[39;00m\n\u001b[0;32m---> <a href='file:///opt/anaconda3/envs/causal_inference/lib/python3.9/site-packages/dowhy/causal_estimators/econml.py?line=56'>57</a>\u001b[0m estimator_class \u001b[39m=\u001b[39m \u001b[39mself\u001b[39;49m\u001b[39m.\u001b[39;49m_get_econml_class_object(\u001b[39mself\u001b[39;49m\u001b[39m.\u001b[39;49m_econml_methodname)\n\u001b[1;32m     <a href='file:///opt/anaconda3/envs/causal_inference/lib/python3.9/site-packages/dowhy/causal_estimators/econml.py?line=57'>58</a>\u001b[0m \u001b[39mself\u001b[39m\u001b[39m.\u001b[39mestimator \u001b[39m=\u001b[39m estimator_class(\u001b[39m*\u001b[39m\u001b[39m*\u001b[39m\u001b[39mself\u001b[39m\u001b[39m.\u001b[39mmethod_params[\u001b[39m\"\u001b[39m\u001b[39minit_params\u001b[39m\u001b[39m\"\u001b[39m])\n\u001b[1;32m     <a href='file:///opt/anaconda3/envs/causal_inference/lib/python3.9/site-packages/dowhy/causal_estimators/econml.py?line=58'>59</a>\u001b[0m \u001b[39mself\u001b[39m\u001b[39m.\u001b[39msymbolic_estimator \u001b[39m=\u001b[39m \u001b[39mself\u001b[39m\u001b[39m.\u001b[39mconstruct_symbolic_estimator(\u001b[39mself\u001b[39m\u001b[39m.\u001b[39m_target_estimand)\n",
      "File \u001b[0;32m/opt/anaconda3/envs/causal_inference/lib/python3.9/site-packages/dowhy/causal_estimators/econml.py:70\u001b[0m, in \u001b[0;36mEconml._get_econml_class_object\u001b[0;34m(self, module_method_name, *args, **kwargs)\u001b[0m\n\u001b[1;32m     <a href='file:///opt/anaconda3/envs/causal_inference/lib/python3.9/site-packages/dowhy/causal_estimators/econml.py?line=66'>67</a>\u001b[0m     estimator_class \u001b[39m=\u001b[39m \u001b[39mgetattr\u001b[39m(estimator_module, class_name)\n\u001b[1;32m     <a href='file:///opt/anaconda3/envs/causal_inference/lib/python3.9/site-packages/dowhy/causal_estimators/econml.py?line=68'>69</a>\u001b[0m \u001b[39mexcept\u001b[39;00m (\u001b[39mAttributeError\u001b[39;00m, \u001b[39mAssertionError\u001b[39;00m, \u001b[39mImportError\u001b[39;00m):\n\u001b[0;32m---> <a href='file:///opt/anaconda3/envs/causal_inference/lib/python3.9/site-packages/dowhy/causal_estimators/econml.py?line=69'>70</a>\u001b[0m     \u001b[39mraise\u001b[39;00m \u001b[39mImportError\u001b[39;00m(\u001b[39m'\u001b[39m\u001b[39mError loading \u001b[39m\u001b[39m{}\u001b[39;00m\u001b[39m.\u001b[39m\u001b[39m{}\u001b[39;00m\u001b[39m. Double-check the method name and ensure that all econml dependencies are installed.\u001b[39m\u001b[39m'\u001b[39m\u001b[39m.\u001b[39mformat(module_name, class_name))\n\u001b[1;32m     <a href='file:///opt/anaconda3/envs/causal_inference/lib/python3.9/site-packages/dowhy/causal_estimators/econml.py?line=70'>71</a>\u001b[0m \u001b[39mreturn\u001b[39;00m estimator_class\n",
      "\u001b[0;31mImportError\u001b[0m: Error loading econml.dml.DML. Double-check the method name and ensure that all econml dependencies are installed."
     ]
    }
   ],
   "source": [
    "dml_estimate = model.estimate_effect(identified_estimand, method_name=\"backdoor.econml.dml.DML\",\n",
    "                                     control_value = 0,\n",
    "                                     treatment_value = 1,\n",
    "                                 target_units = \"ate\",\n",
    "                                 confidence_intervals=False,\n",
    "                                method_params={\"init_params\":{'model_y':GradientBoostingRegressor(),\n",
    "                                                              'model_t': GradientBoostingRegressor(),\n",
    "                                                              \"model_final\":LassoCV(fit_intercept=False),\n",
    "                                                              'featurizer':PolynomialFeatures(degree=1, include_bias=False)},\n",
    "                                               \"fit_params\":{}})\n",
    "print(dml_estimate)"
   ]
  }
 ],
 "metadata": {
  "interpreter": {
   "hash": "cf6fcbc37449180e0a1f1c844344eca495748168b1d0ff061f4e7135a61576d9"
  },
  "kernelspec": {
   "display_name": "Python 3.9.7 ('causal_inference')",
   "language": "python",
   "name": "python3"
  },
  "language_info": {
   "codemirror_mode": {
    "name": "ipython",
    "version": 3
   },
   "file_extension": ".py",
   "mimetype": "text/x-python",
   "name": "python",
   "nbconvert_exporter": "python",
   "pygments_lexer": "ipython3",
   "version": "3.9.7"
  },
  "orig_nbformat": 4
 },
 "nbformat": 4,
 "nbformat_minor": 2
}
