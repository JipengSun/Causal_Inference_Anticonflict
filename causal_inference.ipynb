{
 "cells": [
  {
   "cell_type": "code",
   "execution_count": 48,
   "metadata": {},
   "outputs": [],
   "source": [
    "import pandas as pd\n",
    "import numpy as np"
   ]
  },
  {
   "cell_type": "code",
   "execution_count": 39,
   "metadata": {},
   "outputs": [
    {
     "name": "stderr",
     "output_type": "stream",
     "text": [
      "/opt/anaconda3/lib/python3.7/site-packages/IPython/core/interactiveshell.py:3444: DtypeWarning: Columns (5) have mixed types.Specify dtype option on import or set low_memory=False.\n",
      "  exec(code_obj, self.user_global_ns, self.user_ns)\n"
     ]
    }
   ],
   "source": [
    "dataset = pd.read_csv('data/anticonflict_study_dataframe.csv')"
   ]
  },
  {
   "cell_type": "code",
   "execution_count": 49,
   "metadata": {},
   "outputs": [
    {
     "name": "stdout",
     "output_type": "stream",
     "text": [
      "12.003115006022345\n",
      "1.0718646223622328\n",
      "0.4394780562101362\n"
     ]
    }
   ],
   "source": [
    "age = dataset['AGEC_NEW']\n",
    "print(age.mean())\n",
    "print(age.std())\n",
    "\n",
    "game = dataset['GAME']\n",
    "\n",
    "\n",
    "game_sum = 0\n",
    "for i in range(len(game)):\n",
    "    if pd.notna(game.iloc[i]) and game.iloc[i][1] == '1':\n",
    "        game_sum+=1\n",
    "game_mean = game_sum/len(game)\n",
    "\n",
    "pw_sum = 0\n",
    "for i in range(len(game)):\n",
    "    if pd.notna(game.iloc[i]) and game.iloc[i][1] == '1':\n",
    "        pw_sum += (1-game_mean)**2\n",
    "    if pd.notna(game.iloc[i]) and game.iloc[i][1] == '0':\n",
    "        pw_sum += (game_mean)**2\n",
    "game_std = np.sqrt(pw_sum/len(game))\n",
    "print(game_std)"
   ]
  },
  {
   "cell_type": "code",
   "execution_count": 54,
   "metadata": {},
   "outputs": [
    {
     "name": "stdout",
     "output_type": "stream",
     "text": [
      "0.2598177434514323\n",
      "0.43211206642597866\n",
      "0.3328020922724858\n",
      "0.4608685541372825\n",
      "0.24106084753381554\n",
      "0.39774888033972877\n",
      "0.7823954885374524\n",
      "0.2038393471436405\n"
     ]
    }
   ],
   "source": [
    "def cal_mean_std(data):\n",
    "    data_sum = 0\n",
    "    for i in range(len(data)):\n",
    "        if pd.notna(data.iloc[i]) and data.iloc[i][1] == '1':\n",
    "            data_sum+=1\n",
    "    data_mean = data_sum/len(data)\n",
    "    print(data_mean)\n",
    "\n",
    "    pw_sum = 0\n",
    "    for i in range(len(data)):\n",
    "        if pd.notna(data.iloc[i]) and data.iloc[i][1] == '1':\n",
    "            pw_sum += (1-data_mean)**2\n",
    "        if pd.notna(data.iloc[i]) and data.iloc[i][1] == '0':\n",
    "            pw_sum += (data_mean)**2\n",
    "    data_std = np.sqrt(pw_sum/len(data))\n",
    "    print(data_std)\n",
    "\n",
    "pop = dataset['MYPW2']\n",
    "cal_mean_std(pop)\n",
    "\n",
    "sport_school = dataset['ACTSSW2']\n",
    "cal_mean_std(sport_school)\n",
    "\n",
    "dn1 = dataset['DN1']\n",
    "cal_mean_std(dn1)\n",
    "\n",
    "college = dataset['COLL']\n",
    "cal_mean_std(college)"
   ]
  }
 ],
 "metadata": {
  "interpreter": {
   "hash": "40d3a090f54c6569ab1632332b64b2c03c39dcf918b08424e98f38b5ae0af88f"
  },
  "kernelspec": {
   "display_name": "Python 3.7.12 ('base')",
   "language": "python",
   "name": "python3"
  },
  "language_info": {
   "codemirror_mode": {
    "name": "ipython",
    "version": 3
   },
   "file_extension": ".py",
   "mimetype": "text/x-python",
   "name": "python",
   "nbconvert_exporter": "python",
   "pygments_lexer": "ipython3",
   "version": "3.7.12"
  },
  "orig_nbformat": 4
 },
 "nbformat": 4,
 "nbformat_minor": 2
}
