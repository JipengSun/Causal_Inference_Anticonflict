{
 "cells": [
  {
   "cell_type": "code",
   "execution_count": 68,
   "id": "066da968-92ed-44bc-853e-4ed0872df917",
   "metadata": {},
   "outputs": [],
   "source": [
    "import pandas as pd\n",
    "import numpy as np\n",
    "import seaborn as sns\n",
    "import matplotlib.pyplot as plt\n",
    "import miceforest as mf\n",
    "\n",
    "sns.set()"
   ]
  },
  {
   "cell_type": "code",
   "execution_count": 78,
   "id": "6606aa61-c1c4-43d4-8d58-b62cc73dfa26",
   "metadata": {},
   "outputs": [
    {
     "data": {
      "text/plain": [
       "(3671, 226)"
      ]
     },
     "execution_count": 78,
     "metadata": {},
     "output_type": "execute_result"
    }
   ],
   "source": [
    "response_vars_df1 = pd.read_csv(\"data/imputed_response_df_iter1\")\n",
    "response_vars_df1.shape"
   ]
  },
  {
   "cell_type": "code",
   "execution_count": 79,
   "id": "a11772fc-4afc-4cd1-aa5c-5a2009a38134",
   "metadata": {},
   "outputs": [
    {
     "data": {
      "text/plain": [
       "(3671, 226)"
      ]
     },
     "execution_count": 79,
     "metadata": {},
     "output_type": "execute_result"
    }
   ],
   "source": [
    "predictor_vars_df1 = pd.read_csv(\"data/imputed_predictor_df_iter0\")\n",
    "predictor_vars_df1.shape"
   ]
  },
  {
   "cell_type": "code",
   "execution_count": 92,
   "id": "f769f76b-7b80-46d0-a60b-e4101a844270",
   "metadata": {},
   "outputs": [],
   "source": [
    "def create_composite_vars(full_df,predictor=False,trs=\"w2\"):\n",
    "    if predictor:\n",
    "        trs = \"\"\n",
    "        full_df.columns = [(\"_\").join(col.split(\"_\")[1:]) for col in full_df.columns]\n",
    "    \n",
    "    de_var_names = [col for col in full_df.columns if \"DE\" in col]\n",
    "    full_df[\"DE_sum\"] = full_df.loc[:,de_var_names].sum(axis=1)\n",
    "\n",
    "    binary_positive_vars = [(str(col).upper())+\"_DUMMY1\" for col in (\"dncl10w2,dncl11w2,dncl12w2,pncl1w2,pncl2w2,\"+\\\n",
    "                            \"pncl7w2,pncl12w2,pncl13w2,cscaw2,clhcw2,flihcw2,tomenw2,\"+\\\n",
    "                            \"tomepgw2,tomelnw2,tomesuw2,tomehdw2,dncl9w2,dncl10w2,dncl11w2,\"+\\\n",
    "                            \"dncl12w2,cbnpw2\".replace(\"w2\",trs)).split(\",\")]\n",
    "    binary_negative_vars = [(str(col).upper())+\"_DUMMY1\" for col in (\"dncl1w2,dncl2w2,dncl3w2,dncl4w2,dncl5w2,dncl6w2,\"+\\\n",
    "                            \"dncl7w2,dncl8w2,dncl14w2,pncl3w2,pncl4w2,pncl5w2,pncl6w2,cilw2,cflw2,\"+\\\n",
    "                            \"cmosw2,cbiw2,cgiw2,tomeew2,tomempw2,tomergw2,\"+\\\n",
    "                            \"tomerbw2,tomemfw2,tomepmw2,tomethpw2,tomerew2,tomesgw2\"\\\n",
    "                                                                     .replace(\"w2\",trs)).split(\",\")]\n",
    "    cat3_positive_vars = [col+str(i) for col in [(str(col).upper())+\"_DUMMY\" for col in \\\n",
    "                          (\"infdw2,infcw2\".replace(\"w2\",trs))\\\n",
    "                                                 .split(\",\")] for i in range(1,3)]\n",
    "    cat4_positive_vars = [col+str(i) for col in [(str(col).upper())+\"_DUMMY\" for col in \\\n",
    "                          (\"dn9w2,dn10w2,dn11w2,dn12w2\".replace(\"w2\",trs))\\\n",
    "                                                 .split(\",\")] for i in range(1,4)]\n",
    "    cat4_negative_vars = [col+str(i) for col in [(str(col).upper())+\"_DUMMY\" for col in \\\n",
    "                          (\"dn14w2,dn1w2,dn2w2,dn3w2,dn4w2,dn5w2,dn6w2,dn7w2,dn8w2\".replace(\"w2\",trs))\\\n",
    "                                                 .split(\",\")]\\\n",
    "                           for i in range(1,4)]\n",
    "    cat5_positive_vars = [col+str(i) for col in [(str(col).upper())+\"_DUMMY\" for col in \\\n",
    "                          (\"pn1w2,pn2w2,pn10w2,pn11w2,pn12w2,pn13w2\".replace(\"w2\",trs)).split(\",\")]\\\n",
    "                          for i in range(1,5)]\n",
    "    cat5_negative_vars = [col+str(i) for col in [(str(col).upper())+\"_DUMMY\" for col in \\\n",
    "                          (\"pn3w2,pn4w2,pn5w2,pn6w2,pn7w2,pn9w2\".replace(\"w2\",trs)).split(\",\")]\\\n",
    "                           for i in range(1,5)]\n",
    "    #cat3_negative_vars: none\n",
    "\n",
    "    full_df[\"binary_vars\"] = full_df.loc[:,binary_positive_vars]\\\n",
    "    .sum(axis=1) - full_df.loc[:,binary_negative_vars].sum(axis=1)\n",
    "\n",
    "    full_df[\"composite_conflict_score\"] = full_df[\"binary_vars\"] - \\\n",
    "    (full_df[\"DE_sum\"] * 0.25)\n",
    "\n",
    "    return full_df"
   ]
  },
  {
   "cell_type": "markdown",
   "id": "a0677a49-831f-459d-a2b9-32d9b6b12747",
   "metadata": {},
   "source": [
    "# TODO: Add 2< cat variables"
   ]
  },
  {
   "cell_type": "code",
   "execution_count": 90,
   "id": "4a7fe0ea-2a0f-4803-9972-67c98c59ebac",
   "metadata": {},
   "outputs": [
    {
     "data": {
      "text/plain": [
       "(3671, 229)"
      ]
     },
     "execution_count": 90,
     "metadata": {},
     "output_type": "execute_result"
    }
   ],
   "source": [
    "response_comp_df1 = create_composite_vars(response_vars_df1)\n",
    "response_comp_df1.shape"
   ]
  },
  {
   "cell_type": "code",
   "execution_count": 91,
   "id": "df2a9fda-85e3-4bfb-9373-81e2b0a1e776",
   "metadata": {},
   "outputs": [
    {
     "data": {
      "image/png": "[encoded data removed]",
      "text/plain": [
       "<Figure size 432x288 with 1 Axes>"
      ]
     },
     "metadata": {},
     "output_type": "display_data"
    }
   ],
   "source": [
    "response_comp_df1[\"binary_vars\"].hist()\n",
    "plt.show()"
   ]
  },
  {
   "cell_type": "code",
   "execution_count": 83,
   "id": "95fd9416-0b4f-4737-99da-108c108a7a32",
   "metadata": {},
   "outputs": [
    {
     "data": {
      "text/plain": [
       "count    3671.000000\n",
       "mean        0.691637\n",
       "std         2.962294\n",
       "min         0.000000\n",
       "25%         0.000000\n",
       "50%         0.000000\n",
       "75%         0.000000\n",
       "max        81.000000\n",
       "Name: DE_sum, dtype: float64"
      ]
     },
     "execution_count": 83,
     "metadata": {},
     "output_type": "execute_result"
    }
   ],
   "source": [
    "response_comp_df1[\"DE_sum\"].describe()"
   ]
  },
  {
   "cell_type": "code",
   "execution_count": 84,
   "id": "0e86a7b3-ef28-453b-bee5-ab6d880c6682",
   "metadata": {},
   "outputs": [
    {
     "data": {
      "image/png": "[encoded data removed]",
      "text/plain": [
       "<Figure size 432x288 with 1 Axes>"
      ]
     },
     "metadata": {},
     "output_type": "display_data"
    }
   ],
   "source": [
    "response_comp_df1[\"DE_sum\"].hist(bins=50)\n",
    "plt.show()"
   ]
  },
  {
   "cell_type": "code",
   "execution_count": 85,
   "id": "3b25bc50-4208-4f02-8380-dfe8ccb6f673",
   "metadata": {},
   "outputs": [
    {
     "data": {
      "image/png": "[encoded data removed]",
      "text/plain": [
       "<Figure size 432x288 with 1 Axes>"
      ]
     },
     "metadata": {},
     "output_type": "display_data"
    }
   ],
   "source": [
    "response_comp_df1[\"composite_conflict_score\"].hist(bins=50)\n",
    "plt.show()"
   ]
  },
  {
   "cell_type": "code",
   "execution_count": null,
   "id": "75ef6d46-d88f-49b6-8e50-d989cb8799a3",
   "metadata": {},
   "outputs": [],
   "source": [
    "predictor_comp_df1 = "
   ]
  }
 ],
 "metadata": {
  "kernelspec": {
   "display_name": "Python 3 (ipykernel)",
   "language": "python",
   "name": "python3"
  },
  "language_info": {
   "codemirror_mode": {
    "name": "ipython",
    "version": 3
   },
   "file_extension": ".py",
   "mimetype": "text/x-python",
   "name": "python",
   "nbconvert_exporter": "python",
   "pygments_lexer": "ipython3",
   "version": "3.9.7"
  }
 },
 "nbformat": 4,
 "nbformat_minor": 5
}
