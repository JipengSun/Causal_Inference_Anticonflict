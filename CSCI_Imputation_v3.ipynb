{
 "cells": [
  {
   "cell_type": "code",
   "execution_count": 1,
   "id": "3db604c3-620a-46c0-acd4-d8083211212e",
   "metadata": {},
   "outputs": [],
   "source": [
    "import pandas as pd\n",
    "import numpy as np\n",
    "import seaborn as sns\n",
    "import matplotlib.pyplot as plt\n",
    "import miceforest as mf\n",
    "\n",
    "sns.set()"
   ]
  },
  {
   "cell_type": "code",
   "execution_count": 2,
   "id": "17fefe23-506c-4ae4-be38-5fbb34dc142c",
   "metadata": {},
   "outputs": [
    {
     "data": {
      "text/plain": [
       "(24471, 500)"
      ]
     },
     "execution_count": 2,
     "metadata": {},
     "output_type": "execute_result"
    }
   ],
   "source": [
    "study_df0 = pd.read_csv(\"data/anticonflict_study_dataframe.csv\",low_memory=False)\n",
    "study_df = study_df0.copy()\n",
    "study_df.shape"
   ]
  },
  {
   "cell_type": "code",
   "execution_count": 3,
   "id": "4d625516-363d-47e8-b9e6-2a730ad560bf",
   "metadata": {},
   "outputs": [
    {
     "data": {
      "text/plain": [
       "(22721, 500)"
      ]
     },
     "execution_count": 3,
     "metadata": {},
     "output_type": "execute_result"
    }
   ],
   "source": [
    "#coercing values which indicate errors or missingness to NaN\n",
    "study_df = pd.DataFrame(study_df.apply(lambda x: np.where(x.isin([\n",
    "    \"-99              \", \"-77              \",\"\",\"-98              \",\"-97              \",\n",
    "    \"-55              \",\"-88              \",\"-66              \",\"[MASKED BY ICPSR]\"]),np.nan,x)))\n",
    "\n",
    "#dropping columns where over 50% of values are NaN, rows where all values are NaN,\n",
    "#and rows where student IDs are invalid\n",
    "#study_df.drop(columns=study_df.columns[(study_df.isna()).mean()>0.5].values, inplace=True)\n",
    "study_df = study_df[~(study_df.isna()).all(1)]\n",
    "study_df = study_df[(study_df[\"ID\"] != \"--blank--\") & (study_df[\"ID\"] != \"999\")]\n",
    "study_df.dropna(subset=[\"ID\",\"TREAT\",\"SCHTREAT\"],inplace=True)\n",
    "\n",
    "study_df.shape"
   ]
  },
  {
   "cell_type": "code",
   "execution_count": 4,
   "id": "f9fe7e17-14d1-4897-9b64-763e1b89099d",
   "metadata": {},
   "outputs": [
    {
     "data": {
      "text/plain": [
       "Index(['Column1', 'SCHID', 'UID', 'SCHTREAT', 'SCHRB', 'ID', 'TREAT', 'STRB',\n",
       "       'SID1', 'SID3',\n",
       "       ...\n",
       "       'AM_F', 'PI_M', 'PI_F', 'MU_M', 'MU_F', 'ROW_TOTAL', 'FREE_LUNCH',\n",
       "       'REDUCED_LUNCH', 'LEP', 'MIGRANT'],\n",
       "      dtype='object', length=500)"
      ]
     },
     "execution_count": 4,
     "metadata": {},
     "output_type": "execute_result"
    }
   ],
   "source": [
    "study_df.columns"
   ]
  },
  {
   "cell_type": "code",
   "execution_count": 5,
   "id": "97cbe2b6-9a30-4aca-9707-4d5044348281",
   "metadata": {},
   "outputs": [],
   "source": [
    "relevant_vars = pd.read_csv(\"data/Limited_VariableInclusion250_v2.csv\",header=None)[0].unique()\n",
    "#addtl_vars = relevant_vars[-1].split(\"\\t\")\n",
    "#relevant_vars2 = np.concatenate([relevant_vars[:-1],addtl_vars])\n",
    "relevant_vars3 = [col.translate({ord(\"(\"):\"\",ord(\")\"):\"\"}).upper() for col in relevant_vars]"
   ]
  },
  {
   "cell_type": "code",
   "execution_count": 6,
   "id": "69fd65c8-c6bd-4b88-b84e-572be2e898a1",
   "metadata": {},
   "outputs": [
    {
     "data": {
      "text/plain": [
       "(22721, 227)"
      ]
     },
     "execution_count": 6,
     "metadata": {},
     "output_type": "execute_result"
    }
   ],
   "source": [
    "mtest_df = (study_df.copy())[relevant_vars3]\n",
    "#mtest_df.drop(columns=[\"ID\",\"TREAT\",\"SCHTREAT\"], inplace=True)\n",
    "\n",
    "#mtest_df.drop(columns=[\"SCHOOL_ID\",\"ID2W2\",\"SCHIDW2\",\"IDN\",\n",
    "#\"BLOCKNUMBER\",\"BLOCKVAR\",\"SCHTREAT\",\"TREAT\",\"SCHRB\",\"STRB\",\"RAWSIZE\"],inplace=True)\n",
    "mtest_noms = [col for col in mtest_df.columns if (\"ST\" in col) & (\"CN\" in col)]\n",
    "mtest_df.drop(columns=mtest_noms,inplace=True)\n",
    "mtest_df.shape"
   ]
  },
  {
   "cell_type": "code",
   "execution_count": 8,
   "id": "21052583-c948-4740-a170-d3b5697e6999",
   "metadata": {},
   "outputs": [],
   "source": [
    "response_var_list = pd.read_csv(\"data/Response_VariableInclusion250.csv\",header=None)[0]\n",
    "response_var_names = [str(col).translate({ord(\"(\"):\"\",ord(\")\"):\"\"}).upper() for col in response_var_list]\n",
    "\n",
    "mtest_response = mtest_df[response_var_names]"
   ]
  },
  {
   "cell_type": "code",
   "execution_count": 9,
   "id": "2b86d08e-8b52-42e8-9b46-e6a4a8f7d592",
   "metadata": {},
   "outputs": [
    {
     "data": {
      "text/html": [
       "<div>\n",
       "<style scoped>\n",
       "    .dataframe tbody tr th:only-of-type {\n",
       "        vertical-align: middle;\n",
       "    }\n",
       "\n",
       "    .dataframe tbody tr th {\n",
       "        vertical-align: top;\n",
       "    }\n",
       "\n",
       "    .dataframe thead th {\n",
       "        text-align: right;\n",
       "    }\n",
       "</style>\n",
       "<table border=\"1\" class=\"dataframe\">\n",
       "  <thead>\n",
       "    <tr style=\"text-align: right;\">\n",
       "      <th></th>\n",
       "      <th>DN1W2</th>\n",
       "      <th>DN2W2</th>\n",
       "      <th>DN3W2</th>\n",
       "      <th>DN4W2</th>\n",
       "      <th>DN5W2</th>\n",
       "      <th>DN6W2</th>\n",
       "      <th>DN7W2</th>\n",
       "      <th>DN8W2</th>\n",
       "      <th>DN9W2</th>\n",
       "      <th>DN10W2</th>\n",
       "      <th>...</th>\n",
       "      <th>DE43</th>\n",
       "      <th>DE44</th>\n",
       "      <th>DE45</th>\n",
       "      <th>DE46</th>\n",
       "      <th>DE47</th>\n",
       "      <th>DE48</th>\n",
       "      <th>DE49</th>\n",
       "      <th>DE50</th>\n",
       "      <th>DE51</th>\n",
       "      <th>DE98</th>\n",
       "    </tr>\n",
       "  </thead>\n",
       "  <tbody>\n",
       "    <tr>\n",
       "      <th>0</th>\n",
       "      <td>(3) 2-3 times/week</td>\n",
       "      <td>(4) Every day</td>\n",
       "      <td>(4) Every day</td>\n",
       "      <td>(3) 2-3 times/week</td>\n",
       "      <td>(2) About 1 time/week</td>\n",
       "      <td>(1) 1-2 times/month</td>\n",
       "      <td>(2) About 1 time/week</td>\n",
       "      <td>(3) 2-3 times/week</td>\n",
       "      <td>(3) 2-3 times/week</td>\n",
       "      <td>(3) 2-3 times/week</td>\n",
       "      <td>...</td>\n",
       "      <td>0</td>\n",
       "      <td>0</td>\n",
       "      <td>0</td>\n",
       "      <td>0</td>\n",
       "      <td>0</td>\n",
       "      <td>0</td>\n",
       "      <td>3</td>\n",
       "      <td>0</td>\n",
       "      <td>0</td>\n",
       "      <td>0</td>\n",
       "    </tr>\n",
       "    <tr>\n",
       "      <th>1</th>\n",
       "      <td>(3) 2-3 times/week</td>\n",
       "      <td>(4) Every day</td>\n",
       "      <td>(0) Never</td>\n",
       "      <td>(3) 2-3 times/week</td>\n",
       "      <td>(4) Every day</td>\n",
       "      <td>(3) 2-3 times/week</td>\n",
       "      <td>(1) 1-2 times/month</td>\n",
       "      <td>(1) 1-2 times/month</td>\n",
       "      <td>(3) 2-3 times/week</td>\n",
       "      <td>(1) 1-2 times/month</td>\n",
       "      <td>...</td>\n",
       "      <td>0</td>\n",
       "      <td>0</td>\n",
       "      <td>0</td>\n",
       "      <td>0</td>\n",
       "      <td>0</td>\n",
       "      <td>0</td>\n",
       "      <td>11</td>\n",
       "      <td>0</td>\n",
       "      <td>0</td>\n",
       "      <td>0</td>\n",
       "    </tr>\n",
       "  </tbody>\n",
       "</table>\n",
       "<p>2 rows × 129 columns</p>\n",
       "</div>"
      ],
      "text/plain": [
       "                DN1W2          DN2W2          DN3W2               DN4W2  \\\n",
       "0  (3) 2-3 times/week  (4) Every day  (4) Every day  (3) 2-3 times/week   \n",
       "1  (3) 2-3 times/week  (4) Every day      (0) Never  (3) 2-3 times/week   \n",
       "\n",
       "                   DN5W2                DN6W2                  DN7W2  \\\n",
       "0  (2) About 1 time/week  (1) 1-2 times/month  (2) About 1 time/week   \n",
       "1          (4) Every day   (3) 2-3 times/week    (1) 1-2 times/month   \n",
       "\n",
       "                 DN8W2               DN9W2               DN10W2  ... DE43  \\\n",
       "0   (3) 2-3 times/week  (3) 2-3 times/week   (3) 2-3 times/week  ...    0   \n",
       "1  (1) 1-2 times/month  (3) 2-3 times/week  (1) 1-2 times/month  ...    0   \n",
       "\n",
       "  DE44 DE45 DE46 DE47 DE48 DE49 DE50 DE51 DE98  \n",
       "0    0    0    0    0    0    3    0    0    0  \n",
       "1    0    0    0    0    0   11    0    0    0  \n",
       "\n",
       "[2 rows x 129 columns]"
      ]
     },
     "execution_count": 9,
     "metadata": {},
     "output_type": "execute_result"
    }
   ],
   "source": [
    "de_var_names = [col for col in mtest_response.columns if \"DE\" in col]\n",
    "de_imputed = mtest_response.loc[:,de_var_names].apply(lambda x: np.where(x.isna(),0,x.fillna(0).astype(int)))\n",
    "mtest_response = pd.concat([mtest_response.drop(columns=de_var_names),de_imputed],axis=1)\n",
    "mtest_response.head(2)"
   ]
  },
  {
   "cell_type": "code",
   "execution_count": 10,
   "id": "bb7a2046-e8ed-43bd-9b6b-c55340de93ac",
   "metadata": {},
   "outputs": [
    {
     "data": {
      "text/plain": [
       "DNCL10W2_DUMMY1    0.419788\n",
       "DNCL2W2_DUMMY1     0.419788\n",
       "DNCL9W2_DUMMY1     0.419788\n",
       "DNCL8W2_DUMMY1     0.419788\n",
       "DNCL6W2_DUMMY1     0.419788\n",
       "DNCL5W2_DUMMY1     0.419788\n",
       "DNCL4W2_DUMMY1     0.419788\n",
       "DNCL1W2_DUMMY1     0.419788\n",
       "DNCL3W2_DUMMY1     0.419788\n",
       "DNCL7W2_DUMMY1     0.419788\n",
       "dtype: float64"
      ]
     },
     "execution_count": 10,
     "metadata": {},
     "output_type": "execute_result"
    }
   ],
   "source": [
    "r_dummy_df = pd.get_dummies(mtest_response,drop_first=True,prefix_sep='_DUMMY',dummy_na=True)\n",
    "r_dummy_df.columns = [((col.split()[0])).translate({ord(\"(\"):\"\",ord(\")\"):\"\",ord(\"[\"):\"\",ord(\"]\"):\"\"})\\\n",
    "                    for col in (r_dummy_df.columns)]\n",
    "\n",
    "def retain_nans(x):\n",
    "    try:\n",
    "        return np.where(r_dummy_df[x.name[:-1]+\"nan\"]==1,np.nan,x)\n",
    "    except:\n",
    "        #print(\"Except: \"+x.name+\" -- with \"+x.name[:-1]+\"nan\")\n",
    "        return x\n",
    "\n",
    "r_dummy_df = r_dummy_df.apply(lambda x: retain_nans(x))\n",
    "r_dummy_df = r_dummy_df.loc[:,~r_dummy_df.columns.str.endswith(\"nan\")]\n",
    "\n",
    "r_dummy_df.isna().mean().sort_values().tail(10)"
   ]
  },
  {
   "cell_type": "code",
   "execution_count": 11,
   "id": "4ed5ca48-72f3-425a-9cd1-28b58b286743",
   "metadata": {},
   "outputs": [],
   "source": [
    "def fit_mice(dummy_df):\n",
    "    \n",
    "    results = []\n",
    "    \n",
    "    kernel = mf.ImputationKernel(\n",
    "      dummy_df,\n",
    "      datasets=5,\n",
    "      save_all_iterations=True,\n",
    "      random_state=396\n",
    "    )\n",
    "    \n",
    "    kernel.mice(5)\n",
    "\n",
    "    for k in range(5):\n",
    "        results.append(kernel.complete_data(k))\n",
    "        \n",
    "    return results\n",
    "        \n",
    "#if numeric_var:\n",
    "#return np.mean(np.array(results),axis=0)\n",
    "#else:\n",
    "#return_indices = np.random.randint(10,size=dummy_df.shape[0])\n",
    "#return (np.array(results))[:,return_indices]"
   ]
  },
  {
   "cell_type": "code",
   "execution_count": 12,
   "id": "7f21e7dc-ca38-40e5-8b1c-b6b68f8aad33",
   "metadata": {},
   "outputs": [],
   "source": [
    "#response_imputed_df = fit_mice(r_dummy_df)"
   ]
  },
  {
   "cell_type": "code",
   "execution_count": 13,
   "id": "e26bfc4a-a07b-4477-bb4b-7ddf93d5f465",
   "metadata": {},
   "outputs": [],
   "source": [
    "r_dummy_df.to_csv(\"data/full_unimputed_response_df.csv\")\n",
    "#for k in range(5):\n",
    " #   response_imputed_df[k].to_csv((\"data/full_imputed_response_df_iter\"+str(k)+\".csv\"))"
   ]
  },
  {
   "cell_type": "code",
   "execution_count": 14,
   "id": "3196014a-17e6-4683-8199-8cc7c05ac015",
   "metadata": {},
   "outputs": [
    {
     "data": {
      "text/plain": [
       "Index(['UID', 'ID', 'TREAT', 'SCHTREAT', 'SCHID', 'AGEC_NEW', 'GENDER', 'GR',\n",
       "       'COLL', 'CELL',\n",
       "       ...\n",
       "       'DE98', 'RTSM1', 'RTSM2', 'RTSM3', 'RTSM4', 'RTSM5', 'RTSM6', 'RTSM7',\n",
       "       'RTSM8', 'RTSM9'],\n",
       "      dtype='object', length=227)"
      ]
     },
     "execution_count": 14,
     "metadata": {},
     "output_type": "execute_result"
    }
   ],
   "source": [
    "mtest_df.columns"
   ]
  },
  {
   "cell_type": "code",
   "execution_count": 15,
   "id": "1035a729-2906-45d3-9e1d-df7a4635c904",
   "metadata": {},
   "outputs": [
    {
     "data": {
      "text/plain": [
       "GENDER      0.000880\n",
       "GR          0.000880\n",
       "AGEC_NEW    0.012411\n",
       "COLL        0.026055\n",
       "PN1         0.029576\n",
       "              ...   \n",
       "DNCL3       0.291492\n",
       "DNCL1       0.291492\n",
       "DNCL6       0.291492\n",
       "DNCL5       0.291492\n",
       "DNCL7       0.291492\n",
       "Length: 72, dtype: float64"
      ]
     },
     "execution_count": 15,
     "metadata": {},
     "output_type": "execute_result"
    }
   ],
   "source": [
    "#exo_mtest_df = mtest_df.drop(columns=response_var_names)\n",
    "exo_mtest_df = pd.concat([mtest_df.loc[:,relevant_vars3[5:12]],\n",
    "                          study_df[[col.replace(\"W2\",\"\") for col in response_var_names\\\n",
    "                                    if ((\"W2\" in col)&(col.replace(\"W2\",\"\") in study_df.columns))]]],axis=1)\n",
    "#exo_mtest_df.drop(columns=[\"UID\",\"ID\",\"TREAT\",\"SCHTREAT\",\"SCHID\"],inplace=True)\n",
    "exo_mtest_df.isna().mean().sort_values()"
   ]
  },
  {
   "cell_type": "code",
   "execution_count": 16,
   "id": "4791778c-8e96-4607-b5bb-83c3e340cf2c",
   "metadata": {},
   "outputs": [],
   "source": [
    "e_dummy_df = pd.get_dummies(exo_mtest_df,drop_first=True,dummy_na=True)\n",
    "#e_dummy_df.columns = [(\"_\".join(col.split())) for col in (e_dummy_df.columns)]\n",
    "\n",
    "\n",
    "e_dummy_df = e_dummy_df.apply(lambda x: retain_nans(x))\n",
    "e_dummy_df = e_dummy_df.loc[:,~e_dummy_df.columns.str.endswith(\"nan\")]\n",
    "\n",
    "#e_dummy_df.columns = [\"c\"+str(i)+\"_\"+col for i, col in zip(range(e_dummy_df.shape[1]),e_dummy_df.columns)]\n",
    "\n",
    "e_imputed_df = fit_mice(e_dummy_df)\n",
    "\n",
    "for k in range(5):\n",
    "    e_imputed_df[k].to_csv((\"data/full_imputed_predictor_df_iter\"+str(k)+\".csv\"))"
   ]
  },
  {
   "cell_type": "code",
   "execution_count": 17,
   "id": "c3d9505d-eb45-4661-b020-b87256c30ea7",
   "metadata": {},
   "outputs": [],
   "source": [
    "roots_vars = [col for col in study_df if \\\n",
    "              ((\"RTSM\" in col)|(col==\"ID\")|(col==\"SCHID\")|(col==\"TREAT\")|\\\n",
    "              (col==\"SCHTREAT\")|(col==\"UID\"))]\n",
    "\n",
    "study_df_trt = study_df.loc[:,roots_vars]\n",
    "study_df_trt[\"ID\"] = study_df_trt[\"ID\"].astype(int)\n",
    "study_df_trt[\"SCHID\"] = study_df_trt[\"SCHID\"].astype(int)\n",
    "study_df_trt[\"UID\"] = study_df_trt[\"UID\"].astype(int)\n",
    "\n",
    "study_df_trt = pd.get_dummies(study_df_trt,drop_first=True)\n",
    "#study_df_trt.columns = [(\"_\".join(col.split())).translate({ord(\"(\"):\"\",ord(\")\"):\"\",ord(\"[\"):\"\",ord(\"]\"):\"\"})\\\n",
    "#for col in (study_df_trt.columns)]\n",
    "\n",
    "\n",
    "study_df_trt.to_csv(\"data/full_unimputed_trt_df.csv\")"
   ]
  },
  {
   "cell_type": "code",
   "execution_count": null,
   "id": "1a9bbe33-913e-4118-976f-78f862bc55ac",
   "metadata": {},
   "outputs": [],
   "source": []
  }
 ],
 "metadata": {
  "kernelspec": {
   "display_name": "Python 3 (ipykernel)",
   "language": "python",
   "name": "python3"
  },
  "language_info": {
   "codemirror_mode": {
    "name": "ipython",
    "version": 3
   },
   "file_extension": ".py",
   "mimetype": "text/x-python",
   "name": "python",
   "nbconvert_exporter": "python",
   "pygments_lexer": "ipython3",
   "version": "3.9.10"
  }
 },
 "nbformat": 4,
 "nbformat_minor": 5
}
