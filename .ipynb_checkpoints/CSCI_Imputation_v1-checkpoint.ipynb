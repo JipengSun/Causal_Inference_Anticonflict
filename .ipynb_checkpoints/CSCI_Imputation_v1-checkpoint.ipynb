{
 "cells": [
  {
   "cell_type": "code",
   "execution_count": 1,
   "id": "3db604c3-620a-46c0-acd4-d8083211212e",
   "metadata": {},
   "outputs": [],
   "source": [
    "import pandas as pd\n",
    "import numpy as np\n",
    "import seaborn as sns\n",
    "import matplotlib.pyplot as plt\n",
    "import miceforest as mf\n",
    "\n",
    "sns.set()"
   ]
  },
  {
   "cell_type": "code",
   "execution_count": 2,
   "id": "17fefe23-506c-4ae4-be38-5fbb34dc142c",
   "metadata": {},
   "outputs": [
    {
     "data": {
      "text/plain": [
       "(24471, 500)"
      ]
     },
     "execution_count": 2,
     "metadata": {},
     "output_type": "execute_result"
    }
   ],
   "source": [
    "study_df = pd.read_csv(\"data/anticonflict_study_dataframe.csv\",low_memory=False)\n",
    "study_df.shape"
   ]
  },
  {
   "cell_type": "code",
   "execution_count": 3,
   "id": "97cbe2b6-9a30-4aca-9707-4d5044348281",
   "metadata": {},
   "outputs": [],
   "source": [
    "relevant_vars = pd.read_csv(\"data/VariableInclusion250.txt\",header=None)[0].unique()\n",
    "addtl_vars = relevant_vars[-1].split(\"\\t\")\n",
    "relevant_vars2 = np.concatenate([relevant_vars[:-1],addtl_vars])\n",
    "relevant_vars3 = [col.translate({ord(\"(\"):\"\",ord(\")\"):\"\"}).upper() for col in relevant_vars2]\n",
    "\n",
    "study_df = study_df[relevant_vars3]"
   ]
  },
  {
   "cell_type": "code",
   "execution_count": 4,
   "id": "4d625516-363d-47e8-b9e6-2a730ad560bf",
   "metadata": {},
   "outputs": [
    {
     "data": {
      "text/plain": [
       "(24471, 348)"
      ]
     },
     "execution_count": 4,
     "metadata": {},
     "output_type": "execute_result"
    }
   ],
   "source": [
    "#coercing values which indicate errors or missingness to NaN\n",
    "study_df = pd.DataFrame(study_df.apply(lambda x: np.where(x.isin([\n",
    "    \"-99              \", \"-77              \",\"\",\"-98              \",\"-97              \",\n",
    "    \"-55              \",\"-88              \",\"-66              \",\"[MASKED BY ICPSR]\"]),np.nan,x)))\n",
    "\n",
    "#dropping columns where over 50% of values are NaN and rows where all values are NaN\n",
    "study_df.drop(columns=study_df.columns[(study_df.isna()).mean()>0.5].values, inplace=True)\n",
    "study_df = study_df[~(study_df.isna()).all(1)]\n",
    "\n",
    "study_df.shape"
   ]
  },
  {
   "cell_type": "code",
   "execution_count": 5,
   "id": "69fd65c8-c6bd-4b88-b84e-572be2e898a1",
   "metadata": {},
   "outputs": [
    {
     "data": {
      "text/plain": [
       "(24471, 336)"
      ]
     },
     "execution_count": 5,
     "metadata": {},
     "output_type": "execute_result"
    }
   ],
   "source": [
    "mtest_df = study_df.sample(frac=1,random_state=396)\n",
    "#pd.Series(mtest_df.index).to_csv(\"tenth_sample_indices.csv\")\n",
    "mtest_df=mtest_df.reset_index(drop=True)\n",
    "mtest_ids = mtest_df[[\"UID\",\"SCHID\"]]\n",
    "mtest_df.drop(columns=[\"UID\",\"SCHID\",\"SCHOOL_ID\",\"ID2W2\",\"SCHIDW2\",\"IDN\",\n",
    "                       \"BLOCKNUMBER\",\"BLOCKVAR\",\"SCHTREAT\",\"TREAT\",\"SCHRB\",\"STRB\"],inplace=True)\n",
    "mtest_noms = [col for col in mtest_df.columns if (\"ST\" in col) & (\"CN\" in col)]\n",
    "mtest_df.drop(columns=mtest_noms,inplace=True)\n",
    "mtest_df.shape"
   ]
  },
  {
   "cell_type": "code",
   "execution_count": 6,
   "id": "21052583-c948-4740-a170-d3b5697e6999",
   "metadata": {},
   "outputs": [
    {
     "data": {
      "text/plain": [
       "DN2W2       0.100650\n",
       "CILW2       0.101263\n",
       "FLIHCW2     0.101263\n",
       "CBNPW2      0.101304\n",
       "CFLW2       0.101304\n",
       "              ...   \n",
       "DNCL11W2    0.428262\n",
       "DNCL12W2    0.428262\n",
       "DNCL14W2    0.428262\n",
       "DNCL3W2     0.428262\n",
       "DNCL8W2     0.428262\n",
       "Length: 129, dtype: float64"
      ]
     },
     "execution_count": 6,
     "metadata": {},
     "output_type": "execute_result"
    }
   ],
   "source": [
    "response_var_list = pd.read_csv(\"data/Response_VariableInclusion250.txt\",header=None)[0]\n",
    "response_var_names = [str(col).translate({ord(\"(\"):\"\",ord(\")\"):\"\"}).upper() for col in response_var_list]\n",
    "\n",
    "mtest_response = mtest_df[response_var_names]\n",
    "mtest_response.isna().mean().sort_values()"
   ]
  },
  {
   "cell_type": "code",
   "execution_count": 7,
   "id": "2b86d08e-8b52-42e8-9b46-e6a4a8f7d592",
   "metadata": {},
   "outputs": [
    {
     "data": {
      "text/html": [
       "<div>\n",
       "<style scoped>\n",
       "    .dataframe tbody tr th:only-of-type {\n",
       "        vertical-align: middle;\n",
       "    }\n",
       "\n",
       "    .dataframe tbody tr th {\n",
       "        vertical-align: top;\n",
       "    }\n",
       "\n",
       "    .dataframe thead th {\n",
       "        text-align: right;\n",
       "    }\n",
       "</style>\n",
       "<table border=\"1\" class=\"dataframe\">\n",
       "  <thead>\n",
       "    <tr style=\"text-align: right;\">\n",
       "      <th></th>\n",
       "      <th>DN1W2</th>\n",
       "      <th>DN2W2</th>\n",
       "      <th>DN3W2</th>\n",
       "      <th>DN4W2</th>\n",
       "      <th>DN5W2</th>\n",
       "      <th>DN6W2</th>\n",
       "      <th>DN7W2</th>\n",
       "      <th>DN8W2</th>\n",
       "      <th>DN9W2</th>\n",
       "      <th>DN10W2</th>\n",
       "      <th>...</th>\n",
       "      <th>DE43</th>\n",
       "      <th>DE44</th>\n",
       "      <th>DE45</th>\n",
       "      <th>DE46</th>\n",
       "      <th>DE47</th>\n",
       "      <th>DE48</th>\n",
       "      <th>DE49</th>\n",
       "      <th>DE50</th>\n",
       "      <th>DE51</th>\n",
       "      <th>DE98</th>\n",
       "    </tr>\n",
       "  </thead>\n",
       "  <tbody>\n",
       "    <tr>\n",
       "      <th>0</th>\n",
       "      <td>(1) 1-2 times/month</td>\n",
       "      <td>(2) About 1 time/week</td>\n",
       "      <td>(0) Never</td>\n",
       "      <td>(2) About 1 time/week</td>\n",
       "      <td>(0) Never</td>\n",
       "      <td>(1) 1-2 times/month</td>\n",
       "      <td>(1) 1-2 times/month</td>\n",
       "      <td>(2) About 1 time/week</td>\n",
       "      <td>(0) Never</td>\n",
       "      <td>(4) Every day</td>\n",
       "      <td>...</td>\n",
       "      <td>0</td>\n",
       "      <td>0</td>\n",
       "      <td>0</td>\n",
       "      <td>0</td>\n",
       "      <td>0</td>\n",
       "      <td>0</td>\n",
       "      <td>0</td>\n",
       "      <td>0</td>\n",
       "      <td>0</td>\n",
       "      <td>0</td>\n",
       "    </tr>\n",
       "    <tr>\n",
       "      <th>1</th>\n",
       "      <td>(0) Never</td>\n",
       "      <td>(1) 1-2 times/month</td>\n",
       "      <td>(1) 1-2 times/month</td>\n",
       "      <td>(0) Never</td>\n",
       "      <td>(0) Never</td>\n",
       "      <td>(2) About 1 time/week</td>\n",
       "      <td>(0) Never</td>\n",
       "      <td>(0) Never</td>\n",
       "      <td>(1) 1-2 times/month</td>\n",
       "      <td>(2) About 1 time/week</td>\n",
       "      <td>...</td>\n",
       "      <td>0</td>\n",
       "      <td>0</td>\n",
       "      <td>0</td>\n",
       "      <td>0</td>\n",
       "      <td>0</td>\n",
       "      <td>0</td>\n",
       "      <td>0</td>\n",
       "      <td>0</td>\n",
       "      <td>0</td>\n",
       "      <td>0</td>\n",
       "    </tr>\n",
       "  </tbody>\n",
       "</table>\n",
       "<p>2 rows × 129 columns</p>\n",
       "</div>"
      ],
      "text/plain": [
       "                 DN1W2                  DN2W2                DN3W2  \\\n",
       "0  (1) 1-2 times/month  (2) About 1 time/week            (0) Never   \n",
       "1            (0) Never    (1) 1-2 times/month  (1) 1-2 times/month   \n",
       "\n",
       "                   DN4W2      DN5W2                  DN6W2  \\\n",
       "0  (2) About 1 time/week  (0) Never    (1) 1-2 times/month   \n",
       "1              (0) Never  (0) Never  (2) About 1 time/week   \n",
       "\n",
       "                 DN7W2                  DN8W2                DN9W2  \\\n",
       "0  (1) 1-2 times/month  (2) About 1 time/week            (0) Never   \n",
       "1            (0) Never              (0) Never  (1) 1-2 times/month   \n",
       "\n",
       "                  DN10W2  ... DE43 DE44 DE45 DE46 DE47 DE48 DE49 DE50 DE51  \\\n",
       "0          (4) Every day  ...    0    0    0    0    0    0    0    0    0   \n",
       "1  (2) About 1 time/week  ...    0    0    0    0    0    0    0    0    0   \n",
       "\n",
       "  DE98  \n",
       "0    0  \n",
       "1    0  \n",
       "\n",
       "[2 rows x 129 columns]"
      ]
     },
     "execution_count": 7,
     "metadata": {},
     "output_type": "execute_result"
    }
   ],
   "source": [
    "de_var_names = [col for col in mtest_response.columns if \"DE\" in col]\n",
    "de_imputed = mtest_response.loc[:,de_var_names].apply(lambda x: np.where(x.isna(),0,x.fillna(0).astype(int)))\n",
    "mtest_response = pd.concat([mtest_response.drop(columns=de_var_names),de_imputed],axis=1)\n",
    "mtest_response.head(2)"
   ]
  },
  {
   "cell_type": "code",
   "execution_count": 8,
   "id": "bb7a2046-e8ed-43bd-9b6b-c55340de93ac",
   "metadata": {},
   "outputs": [
    {
     "data": {
      "text/plain": [
       "DNCL3W2_DUMMY1     0.428262\n",
       "DNCL4W2_DUMMY1     0.428262\n",
       "DNCL8W2_DUMMY1     0.428262\n",
       "DNCL10W2_DUMMY1    0.428262\n",
       "DNCL5W2_DUMMY1     0.428262\n",
       "DNCL6W2_DUMMY1     0.428262\n",
       "DNCL6W2_DUMMY2     0.428262\n",
       "DNCL7W2_DUMMY1     0.428262\n",
       "DNCL2W2_DUMMY1     0.428262\n",
       "DNCL7W2_DUMMY3     0.428262\n",
       "dtype: float64"
      ]
     },
     "execution_count": 8,
     "metadata": {},
     "output_type": "execute_result"
    }
   ],
   "source": [
    "r_dummy_df = pd.get_dummies(mtest_response,drop_first=True,prefix_sep='_DUMMY',dummy_na=True)\n",
    "r_dummy_df.columns = [(col.split()[0]).translate({ord(\"(\"):\"\",ord(\")\"):\"\",ord(\"[\"):\"\",ord(\"]\"):\"\"})\\\n",
    "                    for i, col in zip(range(r_dummy_df.shape[1]),r_dummy_df.columns)]\n",
    "\n",
    "def retain_nans(x):\n",
    "    try:\n",
    "        return np.where(r_dummy_df[x.name[:-1]+\"nan\"]==1,np.nan,x)\n",
    "    except:\n",
    "        #print(\"Except: \"+x.name+\" -- with \"+x.name[:-1]+\"nan\")\n",
    "        return x\n",
    "\n",
    "r_dummy_df = r_dummy_df.apply(lambda x: retain_nans(x))\n",
    "r_dummy_df = r_dummy_df.loc[:,~r_dummy_df.columns.str.endswith(\"nan\")]\n",
    "\n",
    "r_dummy_df.isna().mean().sort_values().tail(10)"
   ]
  },
  {
   "cell_type": "code",
   "execution_count": 9,
   "id": "4ed5ca48-72f3-425a-9cd1-28b58b286743",
   "metadata": {},
   "outputs": [],
   "source": [
    "def fit_mice(dummy_df):\n",
    "    \n",
    "    results = []\n",
    "    \n",
    "    kernel = mf.ImputationKernel(\n",
    "      dummy_df,\n",
    "      datasets=5,\n",
    "      save_all_iterations=True,\n",
    "      random_state=396\n",
    "    )\n",
    "    \n",
    "    kernel.mice(5)\n",
    "\n",
    "    for k in range(5):\n",
    "        results.append(kernel.complete_data(k))\n",
    "        \n",
    "    return results\n",
    "        \n",
    "#if numeric_var:\n",
    "#return np.mean(np.array(results),axis=0)\n",
    "#else:\n",
    "#return_indices = np.random.randint(10,size=dummy_df.shape[0])\n",
    "#return (np.array(results))[:,return_indices]"
   ]
  },
  {
   "cell_type": "code",
   "execution_count": 10,
   "id": "7f21e7dc-ca38-40e5-8b1c-b6b68f8aad33",
   "metadata": {},
   "outputs": [],
   "source": [
    "response_imputed_df = fit_mice(r_dummy_df)"
   ]
  },
  {
   "cell_type": "code",
   "execution_count": 11,
   "id": "e26bfc4a-a07b-4477-bb4b-7ddf93d5f465",
   "metadata": {},
   "outputs": [],
   "source": [
    "for k in range(5):\n",
    "    response_imputed_df[k].to_csv((\"data/full_imputed_response_df_iter\"+str(k)+\".csv\"))"
   ]
  },
  {
   "cell_type": "code",
   "execution_count": 12,
   "id": "1035a729-2906-45d3-9e1d-df7a4635c904",
   "metadata": {},
   "outputs": [
    {
     "data": {
      "text/plain": [
       "NUMMALE     0.000000\n",
       "RAWSIZE     0.000000\n",
       "INCSIZE     0.000000\n",
       "DIST_ID     0.000000\n",
       "LEP         0.000000\n",
       "              ...   \n",
       "CN1W2       0.416575\n",
       "DNCL13W2    0.428262\n",
       "TRD         0.449062\n",
       "ST9         0.470475\n",
       "CN1         0.473540\n",
       "Length: 207, dtype: float64"
      ]
     },
     "execution_count": 12,
     "metadata": {},
     "output_type": "execute_result"
    }
   ],
   "source": [
    "exo_mtest_df = mtest_df.drop(columns=response_var_names)\n",
    "exo_mtest_df.isna().mean().sort_values()"
   ]
  },
  {
   "cell_type": "code",
   "execution_count": 13,
   "id": "4791778c-8e96-4607-b5bb-83c3e340cf2c",
   "metadata": {},
   "outputs": [],
   "source": [
    "e_dummy_df = pd.get_dummies(exo_mtest_df,drop_first=True,prefix_sep='_DUMMY',dummy_na=True)\n",
    "e_dummy_df.columns = [(col.split()[0]).translate({ord(\"(\"):\"\",ord(\")\"):\"\",ord(\"[\"):\"\",ord(\"]\"):\"\"})\\\n",
    "                    for i, col in zip(range(e_dummy_df.shape[1]),e_dummy_df.columns)]\n",
    "\n",
    "e_dummy_df = e_dummy_df.apply(lambda x: retain_nans(x))\n",
    "e_dummy_df = e_dummy_df.loc[:,~e_dummy_df.columns.str.endswith(\"nan\")]\n",
    "\n",
    "e_dummy_df.columns = [\"c\"+str(i)+\"_\"+col for i, col in zip(range(e_dummy_df.shape[1]),e_dummy_df.columns)]\n",
    "\n",
    "e_imputed_df = fit_mice(e_dummy_df)\n",
    "\n",
    "for k in range(5):\n",
    "    e_imputed_df[k].to_csv((\"data/full_imputed_predictor_df_iter\"+str(k)+\".csv\"))"
   ]
  },
  {
   "cell_type": "markdown",
   "id": "3abb86a9-5da7-45f5-b4e7-3c187626f745",
   "metadata": {},
   "source": [
    "## "
   ]
  },
  {
   "cell_type": "code",
   "execution_count": 16,
   "id": "92fd1857-0afb-4f48-ae22-76ead68d6dad",
   "metadata": {},
   "outputs": [
    {
     "data": {
      "text/html": [
       "<div>\n",
       "<style scoped>\n",
       "    .dataframe tbody tr th:only-of-type {\n",
       "        vertical-align: middle;\n",
       "    }\n",
       "\n",
       "    .dataframe tbody tr th {\n",
       "        vertical-align: top;\n",
       "    }\n",
       "\n",
       "    .dataframe thead th {\n",
       "        text-align: right;\n",
       "    }\n",
       "</style>\n",
       "<table border=\"1\" class=\"dataframe\">\n",
       "  <thead>\n",
       "    <tr style=\"text-align: right;\">\n",
       "      <th></th>\n",
       "      <th>Num_Var</th>\n",
       "      <th>Cat_Var_Green</th>\n",
       "      <th>Cat_Var_Red</th>\n",
       "    </tr>\n",
       "  </thead>\n",
       "  <tbody>\n",
       "    <tr>\n",
       "      <th>0</th>\n",
       "      <td>0</td>\n",
       "      <td>0</td>\n",
       "      <td>0</td>\n",
       "    </tr>\n",
       "    <tr>\n",
       "      <th>1</th>\n",
       "      <td>1</td>\n",
       "      <td>0</td>\n",
       "      <td>1</td>\n",
       "    </tr>\n",
       "    <tr>\n",
       "      <th>2</th>\n",
       "      <td>2</td>\n",
       "      <td>0</td>\n",
       "      <td>1</td>\n",
       "    </tr>\n",
       "    <tr>\n",
       "      <th>3</th>\n",
       "      <td>3</td>\n",
       "      <td>0</td>\n",
       "      <td>0</td>\n",
       "    </tr>\n",
       "  </tbody>\n",
       "</table>\n",
       "</div>"
      ],
      "text/plain": [
       "   Num_Var  Cat_Var_Green  Cat_Var_Red\n",
       "0        0              0            0\n",
       "1        1              0            1\n",
       "2        2              0            1\n",
       "3        3              0            0"
      ]
     },
     "execution_count": 16,
     "metadata": {},
     "output_type": "execute_result"
    }
   ],
   "source": [
    "train_df = pd.DataFrame({\"Cat_Var\":[\"Blue\",\"Red\",\"Red\",\"Blue\"],\"Num_Var\":[0,1,2,3]})\n",
    "test_df = pd.DataFrame({\"Cat_Var\":[\"Green\",\"Green\",\"Blue\"],\"Num_Var\":[8,0,2]})\n",
    "\n",
    "def dummies_test_train_split(train_df,test_df):\n",
    "    train_df[\"isTest\"] = 0\n",
    "    test_df[\"isTest\"] = 1\n",
    "    \n",
    "    full_df = pd.concat([train_df,test_df])\n",
    "    dummies_df = pd.get_dummies(full_df,drop_first=True)\n",
    "    \n",
    "    dummy_train_df = dummies_df[dummies_df[\"isTest\"]==0].drop(columns=\"isTest\")\n",
    "    dummy_test_df = dummies_df[dummies_df[\"isTest\"]==1].drop(columns=\"isTest\")\n",
    "    \n",
    "    return dummy_train_df, dummy_test_df\n",
    "\n",
    "dummy_train_df, dummy_test_df = dummies_test_train_split(train_df, test_df)\n",
    "dummy_train_df.head()"
   ]
  },
  {
   "cell_type": "code",
   "execution_count": null,
   "id": "3d16ddd4-c66b-48e9-a712-242d3b53f8dd",
   "metadata": {},
   "outputs": [],
   "source": []
  }
 ],
 "metadata": {
  "kernelspec": {
   "display_name": "Python 3 (ipykernel)",
   "language": "python",
   "name": "python3"
  },
  "language_info": {
   "codemirror_mode": {
    "name": "ipython",
    "version": 3
   },
   "file_extension": ".py",
   "mimetype": "text/x-python",
   "name": "python",
   "nbconvert_exporter": "python",
   "pygments_lexer": "ipython3",
   "version": "3.9.10"
  }
 },
 "nbformat": 4,
 "nbformat_minor": 5
}
