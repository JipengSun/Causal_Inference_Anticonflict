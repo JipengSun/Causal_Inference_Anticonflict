{
 "cells": [
  {
   "cell_type": "markdown",
   "id": "e0bae9bb-2627-4906-b8dc-0b246f842f74",
   "metadata": {},
   "source": [
    "Tyler Maule\n",
    "\n",
    "February 28th, 2022\n",
    "\n",
    "STAT 457\n",
    "\n",
    "Mini_Project"
   ]
  },
  {
   "cell_type": "code",
   "execution_count": 1,
   "id": "9024cbf0-6b29-45e0-86ba-0c922a3e28cb",
   "metadata": {},
   "outputs": [],
   "source": [
    "import numpy as np\n",
    "import scipy as sp\n",
    "import pandas as pd\n",
    "import matplotlib.pyplot as plt\n",
    "import seaborn as sns\n",
    "from scipy.stats import multinomial, beta, multivariate_normal\n",
    "\n",
    "sns.set()\n",
    "sns.set_palette(\"PiYG\")\n",
    "palette = sns.husl_palette(27,l=0.4)\n",
    "np.random.seed(457)"
   ]
  },
  {
   "cell_type": "code",
   "execution_count": 2,
   "id": "5088a86c-a7ea-41f6-9684-7ab0f49ab11f",
   "metadata": {},
   "outputs": [],
   "source": [
    "def plot_path(h1,gap=50):\n",
    "    color = palette[np.random.randint(0,27)]\n",
    "    fig, axes = plt.subplots(3, 3, figsize=(18, 10))\n",
    "    \n",
    "    for i in range(3):\n",
    "        for j in range(3):\n",
    "            axes[i,j].set_ylim(0, 1)\n",
    "\n",
    "    sns.lineplot(ax=axes[0,0],x=h1.index[::gap],y=h1['x1'][::gap], color=color)\n",
    "    sns.lineplot(ax=axes[0,1],x=h1.index[::gap],y=h1['x2'][::gap], color=color)\n",
    "    sns.lineplot(ax=axes[0,2],x=h1.index[::gap],y=h1['x3'][::gap], color=color)\n",
    "    sns.lineplot(ax=axes[1,0],x=h1.index[::gap],y=h1['x4'][::gap], color=color)\n",
    "    sns.lineplot(ax=axes[1,1],x=h1.index[::gap],y=h1['x5'][::gap], color=color)\n",
    "    sns.lineplot(ax=axes[1,2],x=h1.index[::gap],y=h1['x6'][::gap], color=color)\n",
    "    sns.lineplot(ax=axes[2,0],x=h1.index[::gap],y=h1['x7'][::gap], color=color)\n",
    "    sns.lineplot(ax=axes[2,1],x=h1.index[::gap],y=h1['x8'][::gap], color=color)\n",
    "    sns.lineplot(ax=axes[2,2],x=h1.index[::gap],y=h1['x9'][::gap], color=color)\n",
    "    \n",
    "    plt.ylim(10, 40)\n",
    "    plt.show()\n",
    "    return"
   ]
  },
  {
   "cell_type": "code",
   "execution_count": 3,
   "id": "5e0d1cef-27d1-49a7-adf6-78274bce9b6d",
   "metadata": {},
   "outputs": [],
   "source": [
    "def plot_lor(h1):\n",
    "    color = palette[np.random.randint(0,27)]\n",
    "    sns.histplot(x=h1, color=color)\n",
    "    plt.show()\n",
    "    \n",
    "    return"
   ]
  },
  {
   "cell_type": "code",
   "execution_count": 4,
   "id": "9491e535-87d5-491f-b928-b0005b0e8b41",
   "metadata": {},
   "outputs": [],
   "source": [
    "def mpost_sampling(fixed,samples=(1*10**5), p_init=np.full(9,(1/9)),\n",
    "                   p_alpha=1e-10, p_beta=1e-10, prop_std=1e-3, burn_in=1000):\n",
    "    print(list(fixed))\n",
    "\n",
    "    p_t = p_init\n",
    "    mpost_array = [p_t]\n",
    "    \n",
    "    for j in range(samples):\n",
    "        #print(\"p_t: \"+str(p_t))\n",
    "        p_proposal_u = np.array(p_t + multivariate_normal(np.full(9,0),prop_std).rvs())\n",
    "        p_proposal = np.array([(p_proposal_u)[fix_p]/np.sum((p_proposal_u)[fix_p]) for fix_v, fix_n, fix_p in fixed]).flatten()\n",
    "        #print(\"p_u\"+str(p_proposal_u))\n",
    "        #print(p_proposal_u[[0,1,2,3,4,5,6,7]])\n",
    "        #print(\"p_fixed:\"+str([fix_p for fix_v, fix_n, fix_p in fixed]))\n",
    "        #print(\"p_p:\"+str([p_proposal_u[fix_p] for fix_v, fix_n, fix_p in fixed]))\n",
    "        \n",
    "        likelihood_t = np.prod([multinomial.pmf(fix_v,fix_n,p_t[fix_p]) for fix_v, fix_n, fix_p in fixed])\n",
    "        likelihood_proposal = np.prod([multinomial.pmf(fix_v,fix_n,p_proposal[fix_p]) for fix_v, fix_n, fix_p in fixed])\n",
    "        \n",
    "        prior_t = np.prod([beta.pdf(pp,p_alpha,p_beta) for pp in p_t])\n",
    "        prior_proposal = np.prod([beta.pdf(pp,p_alpha,p_beta) for pp in p_proposal])\n",
    "        \n",
    "        post_t = likelihood_t * prior_t\n",
    "        post_proposal = likelihood_proposal * prior_proposal\n",
    "        \n",
    "\n",
    "        p_accept = post_proposal / post_t\n",
    "        accept = (np.random.rand()+0.1) < p_accept\n",
    "        \n",
    "        if accept:\n",
    "            p_t = p_proposal\n",
    "        \n",
    "        mpost_array.append(p_t)\n",
    "    \n",
    "    mpost_df = pd.DataFrame(np.array(mpost_array),columns=[\"x\"+str(i) for i in range(1,10)])\n",
    "            \n",
    "    return mpost_df.iloc[burn_in:,:]"
   ]
  },
  {
   "cell_type": "code",
   "execution_count": 5,
   "id": "734113a2-04b2-477c-8ac0-d89384b389e2",
   "metadata": {},
   "outputs": [],
   "source": [
    "def get_lor_ci(post_path,lor_num):\n",
    "    por = np.multiply((np.multiply(post_path.iloc[:,lor_num[0]],post_path.iloc[:,lor_num[1]])),\\\n",
    "    (1/np.multiply(post_path.iloc[:,lor_num[2]],post_path.iloc[:,lor_num[3]])))\n",
    "    lor = np.log(por)\n",
    "    \n",
    "    lower_ci = np.quantile(lor, 0.025)\n",
    "    upper_ci = np.quantile(lor, 0.975)\n",
    "    range_ci = upper_ci-lower_ci\n",
    "    zero_ci = ((upper_ci >= 0) & (lower_ci <= 0))\n",
    "    post_mean = np.mean(lor)\n",
    "    values, counts = np.unique(lor, return_counts=True)\n",
    "    post_mode = counts.argmax()\n",
    "    \n",
    "    return [lower_ci, upper_ci,range_ci,zero_ci, lor, post_mean, post_mode]"
   ]
  },
  {
   "cell_type": "code",
   "execution_count": null,
   "id": "32a1867e-00b3-47f7-ad41-b44979126a4c",
   "metadata": {},
   "outputs": [
    {
     "name": "stdout",
     "output_type": "stream",
     "text": [
      "[([21, 11, 4, 3, 2, 2, 7, 1, 1], 52, [0, 1, 2, 3, 4, 5, 6, 7, 8])]\n"
     ]
    }
   ],
   "source": [
    "results_df = pd.DataFrame({\"Fixed_Values\": [\"Total\",\"Total\",\"Rows\",\"Rows\",\"Columns\",\"Columns\"],\n",
    "                           \"Prior\": [\"Bayes\",\"Haldane\",\"Bayes\",\"Haldane\",\"Bayes\",\"Haldane\"]\n",
    "                          })\n",
    "prior_dict = {\"Bayes\":[1,1],\"Haldane\":[1e-3,1e-3]}\n",
    "fixed_dict = {\"Total\":list(zip([[21, 11, 4, 3, 2, 2, 7, 1, 1]],[52],[[0,1,2,3,4,5,6,7,8]])),\n",
    "              \"Rows\":list(zip([[21,11,4],[3,2,2],[7,1,1]],[36,7,9],[[0,1,2],[3,4,5],[6,7,8]])),\n",
    "              \"Columns\":list(zip([[21,3,7],[11,2,1],[4,2,1]],[31,14,7],[[0,3,6],[1,4,7],[2,5,8]]))}\n",
    "\n",
    "results_df[\"Posterior_Path\"] = results_df.apply(lambda x: [mpost_sampling(p_alpha=prior_dict[x.Prior][0],\n",
    "                                               p_beta=prior_dict[x.Prior][1],\n",
    "                                               fixed=fixed_dict[x.Fixed_Values])],axis=1)\n",
    "\n",
    "#results_df[\"CI_Lower_1\"],results_df[\"CI_Upper_1\"],results_df[\"CI_Range_1\"],results_df[\"CI_Zero_1\"]\\\n",
    "results_df[\"CI_1\"] = (results_df[\"Posterior_Path\"].apply(lambda x: get_lor_ci((x)[0],[0,4,1,3])))\n",
    "#results_df[\"CI_Lower_1\"],results_df[\"CI_Upper_1\"],results_df[\"CI_Range_2\"],results_df[\"CI_Zero_2\"]\\\n",
    "results_df[\"CI_2\"] = (results_df[\"Posterior_Path\"].apply(lambda x: get_lor_ci((x)[0],[0,5,2,3])))\n",
    "#results_df[\"CI_Lower_1\"],results_df[\"CI_Upper_1\"],results_df[\"CI_Range_3\"],results_df[\"CI_Zero_3\"]\\\n",
    "results_df[\"CI_3\"] = (results_df[\"Posterior_Path\"].apply(lambda x: get_lor_ci((x)[0],[0,7,1,6])))\n",
    "#results_df[\"CI_Lower_1\"],results_df[\"CI_Upper_1\"],results_df[\"CI_Range_4\"],results_df[\"CI_Zero_4\"]\\\n",
    "results_df[\"CI_4\"] = (results_df[\"Posterior_Path\"].apply(lambda x: get_lor_ci((x)[0],[0,8,2,6])))\n",
    "\n",
    "for j in range(1,5):\n",
    "    results_df[\"CI_Lower_\"+str(j)] = results_df[\"CI_\"+str(j)].apply(lambda x: x[0])\n",
    "    results_df[\"CI_Upper_\"+str(j)] = results_df[\"CI_\"+str(j)].apply(lambda x: x[1])\n",
    "    results_df[\"CI_Range_\"+str(j)] = results_df[\"CI_\"+str(j)].apply(lambda x: x[2])\n",
    "    results_df[\"CI_Zero_\"+str(j)] = results_df[\"CI_\"+str(j)].apply(lambda x: x[3])\n",
    "    results_df[\"LOR_\"+str(j)] = results_df[\"CI_\"+str(j)].apply(lambda x: [x[4]])\n",
    "    results_df[\"LOR_Mean_\"+str(j)] = results_df[\"CI_\"+str(j)].apply(lambda x: x[5])\n",
    "    results_df[\"LOR_Mode_\"+str(j)] = results_df[\"CI_\"+str(j)].apply(lambda x: x[6])\n",
    "\n",
    "results_df.drop(columns=[\"CI_1\",\"CI_2\",\"CI_3\",\"CI_4\",\"Posterior_Path\",\"LOR_1\",\"LOR_2\",\"LOR_3\",\"LOR_4\"]).T"
   ]
  },
  {
   "cell_type": "markdown",
   "id": "01242051-fcd0-4f00-902d-bb0bb1c5993f",
   "metadata": {},
   "source": [
    "See above a table of results related to the four distinct log odds ratios under different priors and sampling schemes. Columns \"CI_Lower\" and \"CI_Upper\" reflect the lower and upper bounds of each of the four log odds ratios' 95% credible intervals, whereas the \"CI_Range\" column indicates the range of the interval and \"CI_Zero\" whether 0 is included in the interval.\n",
    "\n",
    "The first log odds ratio (e.g. CI_Lower_1, CI_Upper_1, etc.) refers to the ratio $((p_{11}p_{22})/(p_{21}p_{12}))$, the second $((p_{11}p_{23})/(p_{13}p_{21}))$, the third $((p_{11}p_{32})/(p_{12}p_{31}))$, and the fourth $((p_{11}p_{33})/(p_{13}p_{31}))$.\n",
    "\n",
    "Note below the diagnostic plots representing the path of the posterior probability estimates (each 3x3 grid mirroring the format in Christensen, with 3x3 subplot sets in the same order as the table above in terms of prior and estimation strategy)."
   ]
  },
  {
   "cell_type": "code",
   "execution_count": null,
   "id": "e8392027-9ea1-46a2-8c07-e15778b8e8e6",
   "metadata": {},
   "outputs": [],
   "source": [
    "results_df[\"Posterior_Path\"].apply(lambda x: plot_path(x[0],gap=10))"
   ]
  },
  {
   "cell_type": "markdown",
   "id": "8f29c4c2-b217-4093-93d8-033efa3e2067",
   "metadata": {},
   "source": [
    "See below the relevant histograms representing posterior distributions of log-odds ratios -- in order of log-odds ratio, with six plots per LOR (due to the six approaches):"
   ]
  },
  {
   "cell_type": "code",
   "execution_count": null,
   "id": "cc668d53-f406-4d15-8961-81305e9c61be",
   "metadata": {},
   "outputs": [],
   "source": [
    "for j in range(1,4):\n",
    "    print(\"============ LOR No. \"+str(j)+\" ============\")\n",
    "    results_df[\"LOR_\"+str(j)].apply(lambda x: plot_lor(x[0]))"
   ]
  },
  {
   "cell_type": "code",
   "execution_count": null,
   "id": "24a20a40-9743-41a7-950e-2203dbdea240",
   "metadata": {},
   "outputs": [],
   "source": []
  }
 ],
 "metadata": {
  "kernelspec": {
   "display_name": "Python 3 (ipykernel)",
   "language": "python",
   "name": "python3"
  },
  "language_info": {
   "codemirror_mode": {
    "name": "ipython",
    "version": 3
   },
   "file_extension": ".py",
   "mimetype": "text/x-python",
   "name": "python",
   "nbconvert_exporter": "python",
   "pygments_lexer": "ipython3",
   "version": "3.9.7"
  }
 },
 "nbformat": 4,
 "nbformat_minor": 5
}
