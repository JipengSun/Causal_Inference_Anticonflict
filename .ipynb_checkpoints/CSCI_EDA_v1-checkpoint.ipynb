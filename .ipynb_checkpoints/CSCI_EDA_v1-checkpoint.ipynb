{
 "cells": [
  {
   "cell_type": "code",
   "execution_count": 1,
   "id": "3db604c3-620a-46c0-acd4-d8083211212e",
   "metadata": {},
   "outputs": [
    {
     "name": "stderr",
     "output_type": "stream",
     "text": [
      "/Users/tylermaule/opt/miniconda3/envs/csci_project/lib/python3.9/site-packages/statsmodels/compat/pandas.py:61: FutureWarning: pandas.Int64Index is deprecated and will be removed from pandas in a future version. Use pandas.Index with the appropriate dtype instead.\n",
      "  from pandas import Int64Index as NumericIndex\n"
     ]
    }
   ],
   "source": [
    "import pandas as pd\n",
    "import numpy as np\n",
    "import seaborn as sns\n",
    "import matplotlib.pyplot as plt\n",
    "import statsmodels.imputation.mice as mic\n",
    "import statsmodels.formula.api as smf\n",
    "import statsmodels.discrete.discrete_model as smf_discrete\n",
    "import statsmodels.api as sm\n",
    "import patsy\n",
    "import miceforest as mf\n",
    "\n",
    "sns.set()"
   ]
  },
  {
   "cell_type": "code",
   "execution_count": 2,
   "id": "17fefe23-506c-4ae4-be38-5fbb34dc142c",
   "metadata": {},
   "outputs": [
    {
     "data": {
      "text/plain": [
       "(24471, 500)"
      ]
     },
     "execution_count": 2,
     "metadata": {},
     "output_type": "execute_result"
    }
   ],
   "source": [
    "study_df = pd.read_csv(\"data/anticonflict_study_dataframe.csv\",low_memory=False)\n",
    "study_df.shape"
   ]
  },
  {
   "cell_type": "code",
   "execution_count": 3,
   "id": "97cbe2b6-9a30-4aca-9707-4d5044348281",
   "metadata": {},
   "outputs": [],
   "source": [
    "relevant_vars = pd.read_csv(\"data/VariableInclusion250.txt\",header=None)[0].unique()\n",
    "addtl_vars = relevant_vars[-1].split(\"\\t\")\n",
    "relevant_vars2 = np.concatenate([relevant_vars[:-1],addtl_vars])\n",
    "relevant_vars3 = [col.translate({ord(\"(\"):\"\",ord(\")\"):\"\"}).upper() for col in relevant_vars2]\n",
    "\n",
    "study_df = study_df[relevant_vars3]"
   ]
  },
  {
   "cell_type": "code",
   "execution_count": 4,
   "id": "4d625516-363d-47e8-b9e6-2a730ad560bf",
   "metadata": {},
   "outputs": [
    {
     "data": {
      "text/plain": [
       "(24471, 348)"
      ]
     },
     "execution_count": 4,
     "metadata": {},
     "output_type": "execute_result"
    }
   ],
   "source": [
    "#coercing values which indicate errors or missingness to NaN\n",
    "study_df = pd.DataFrame(study_df.apply(lambda x: np.where(x.isin([\n",
    "    \"-99              \", \"-77              \",\"\",\"-98              \",\"-97              \",\n",
    "    \"-55              \",\"-88              \",\"-66              \",\"[MASKED BY ICPSR]\"]),np.nan,x)))\n",
    "\n",
    "#dropping columns where over 50% of values are NaN and rows where all values are NaN\n",
    "study_df.drop(columns=study_df.columns[(study_df.isna()).mean()>0.5].values, inplace=True)\n",
    "study_df = study_df[~(study_df.isna()).all(1)]\n",
    "\n",
    "study_df.shape"
   ]
  },
  {
   "cell_type": "code",
   "execution_count": 5,
   "id": "69fd65c8-c6bd-4b88-b84e-572be2e898a1",
   "metadata": {},
   "outputs": [
    {
     "data": {
      "text/plain": [
       "(3671, 336)"
      ]
     },
     "execution_count": 5,
     "metadata": {},
     "output_type": "execute_result"
    }
   ],
   "source": [
    "mtest_df = study_df.sample(frac=0.15,random_state=396).reset_index(drop=True)\n",
    "mtest_ids = mtest_df[[\"UID\",\"SCHID\"]]\n",
    "mtest_df.drop(columns=[\"UID\",\"SCHID\",\"SCHOOL_ID\",\"ID2W2\",\"SCHIDW2\",\"IDN\",\n",
    "                       \"BLOCKNUMBER\",\"BLOCKVAR\",\"SCHTREAT\",\"TREAT\",\"SCHRB\",\"STRB\"],inplace=True)\n",
    "mtest_noms = [col for col in mtest_df.columns if (\"ST\" in col) & (\"CN\" in col)]\n",
    "mtest_df.drop(columns=mtest_noms,inplace=True)\n",
    "mtest_df.shape"
   ]
  },
  {
   "cell_type": "code",
   "execution_count": 6,
   "id": "226cdf8b-4d7b-4f49-86f4-96e9611ce7f7",
   "metadata": {},
   "outputs": [
    {
     "data": {
      "text/plain": [
       "Index(['ACTMW2', 'ACTAW2', 'ACTCW2', 'ACTDW2', 'SMFBW2', 'SMSCW2', 'SMTWW2',\n",
       "       'SMTUW2', 'SMINW2', 'SMAFMW2'],\n",
       "      dtype='object')"
      ]
     },
     "execution_count": 6,
     "metadata": {},
     "output_type": "execute_result"
    }
   ],
   "source": [
    "mtest_df.columns[9:19]"
   ]
  },
  {
   "cell_type": "code",
   "execution_count": 7,
   "id": "21052583-c948-4740-a170-d3b5697e6999",
   "metadata": {},
   "outputs": [
    {
     "data": {
      "text/plain": [
       "CILW2       0.100245\n",
       "CBNPW2      0.100518\n",
       "CFLW2       0.100518\n",
       "CSCAW2      0.100518\n",
       "CLHCW2      0.100518\n",
       "              ...   \n",
       "PNCL10W2    0.427676\n",
       "PNCL2W2     0.427676\n",
       "PNCL11W2    0.427949\n",
       "PNCL12W2    0.427949\n",
       "PNCL13W2    0.427949\n",
       "Length: 129, dtype: float64"
      ]
     },
     "execution_count": 7,
     "metadata": {},
     "output_type": "execute_result"
    }
   ],
   "source": [
    "response_var_list = pd.read_csv(\"data/Response_VariableInclusion250.txt\",header=None)[0]\n",
    "response_var_names = [str(col).translate({ord(\"(\"):\"\",ord(\")\"):\"\"}).upper() for col in response_var_list]\n",
    "\n",
    "mtest_response = mtest_df[response_var_names]\n",
    "mtest_response.isna().mean().sort_values()"
   ]
  },
  {
   "cell_type": "code",
   "execution_count": 8,
   "id": "2b86d08e-8b52-42e8-9b46-e6a4a8f7d592",
   "metadata": {},
   "outputs": [
    {
     "data": {
      "text/html": [
       "<div>\n",
       "<style scoped>\n",
       "    .dataframe tbody tr th:only-of-type {\n",
       "        vertical-align: middle;\n",
       "    }\n",
       "\n",
       "    .dataframe tbody tr th {\n",
       "        vertical-align: top;\n",
       "    }\n",
       "\n",
       "    .dataframe thead th {\n",
       "        text-align: right;\n",
       "    }\n",
       "</style>\n",
       "<table border=\"1\" class=\"dataframe\">\n",
       "  <thead>\n",
       "    <tr style=\"text-align: right;\">\n",
       "      <th></th>\n",
       "      <th>DN1W2</th>\n",
       "      <th>DN2W2</th>\n",
       "      <th>DN3W2</th>\n",
       "      <th>DN4W2</th>\n",
       "      <th>DN5W2</th>\n",
       "      <th>DN6W2</th>\n",
       "      <th>DN7W2</th>\n",
       "      <th>DN8W2</th>\n",
       "      <th>DN9W2</th>\n",
       "      <th>DN10W2</th>\n",
       "      <th>...</th>\n",
       "      <th>DE43</th>\n",
       "      <th>DE44</th>\n",
       "      <th>DE45</th>\n",
       "      <th>DE46</th>\n",
       "      <th>DE47</th>\n",
       "      <th>DE48</th>\n",
       "      <th>DE49</th>\n",
       "      <th>DE50</th>\n",
       "      <th>DE51</th>\n",
       "      <th>DE98</th>\n",
       "    </tr>\n",
       "  </thead>\n",
       "  <tbody>\n",
       "    <tr>\n",
       "      <th>0</th>\n",
       "      <td>(0) Never</td>\n",
       "      <td>(3) 2-3 times/week</td>\n",
       "      <td>(1) 1-2 times/month</td>\n",
       "      <td>(0) Never</td>\n",
       "      <td>(1) 1-2 times/month</td>\n",
       "      <td>(0) Never</td>\n",
       "      <td>(1) 1-2 times/month</td>\n",
       "      <td>(1) 1-2 times/month</td>\n",
       "      <td>(0) Never</td>\n",
       "      <td>(1) 1-2 times/month</td>\n",
       "      <td>...</td>\n",
       "      <td>0</td>\n",
       "      <td>0</td>\n",
       "      <td>0</td>\n",
       "      <td>0</td>\n",
       "      <td>0</td>\n",
       "      <td>0</td>\n",
       "      <td>0</td>\n",
       "      <td>0</td>\n",
       "      <td>0</td>\n",
       "      <td>0</td>\n",
       "    </tr>\n",
       "    <tr>\n",
       "      <th>1</th>\n",
       "      <td>NaN</td>\n",
       "      <td>NaN</td>\n",
       "      <td>NaN</td>\n",
       "      <td>NaN</td>\n",
       "      <td>NaN</td>\n",
       "      <td>NaN</td>\n",
       "      <td>NaN</td>\n",
       "      <td>NaN</td>\n",
       "      <td>NaN</td>\n",
       "      <td>NaN</td>\n",
       "      <td>...</td>\n",
       "      <td>0</td>\n",
       "      <td>0</td>\n",
       "      <td>0</td>\n",
       "      <td>0</td>\n",
       "      <td>0</td>\n",
       "      <td>0</td>\n",
       "      <td>0</td>\n",
       "      <td>0</td>\n",
       "      <td>0</td>\n",
       "      <td>0</td>\n",
       "    </tr>\n",
       "  </tbody>\n",
       "</table>\n",
       "<p>2 rows × 129 columns</p>\n",
       "</div>"
      ],
      "text/plain": [
       "       DN1W2               DN2W2                DN3W2      DN4W2  \\\n",
       "0  (0) Never  (3) 2-3 times/week  (1) 1-2 times/month  (0) Never   \n",
       "1        NaN                 NaN                  NaN        NaN   \n",
       "\n",
       "                 DN5W2      DN6W2                DN7W2                DN8W2  \\\n",
       "0  (1) 1-2 times/month  (0) Never  (1) 1-2 times/month  (1) 1-2 times/month   \n",
       "1                  NaN        NaN                  NaN                  NaN   \n",
       "\n",
       "       DN9W2               DN10W2  ... DE43 DE44 DE45 DE46 DE47 DE48 DE49  \\\n",
       "0  (0) Never  (1) 1-2 times/month  ...    0    0    0    0    0    0    0   \n",
       "1        NaN                  NaN  ...    0    0    0    0    0    0    0   \n",
       "\n",
       "  DE50 DE51 DE98  \n",
       "0    0    0    0  \n",
       "1    0    0    0  \n",
       "\n",
       "[2 rows x 129 columns]"
      ]
     },
     "execution_count": 8,
     "metadata": {},
     "output_type": "execute_result"
    }
   ],
   "source": [
    "de_var_names = [col for col in mtest_response.columns if \"DE\" in col]\n",
    "de_imputed = mtest_response.loc[:,de_var_names].apply(lambda x: np.where(x.isna(),0,x.fillna(0).astype(int)))\n",
    "mtest_response = pd.concat([mtest_response.drop(columns=de_var_names),de_imputed],axis=1)\n",
    "mtest_response.head(2)"
   ]
  },
  {
   "cell_type": "code",
   "execution_count": 9,
   "id": "bb7a2046-e8ed-43bd-9b6b-c55340de93ac",
   "metadata": {},
   "outputs": [
    {
     "data": {
      "text/plain": [
       "PNCL4W2_DUMMY1     0.427676\n",
       "PNCL5W2_DUMMY1     0.427676\n",
       "PNCL8W2_DUMMY1     0.427676\n",
       "PNCL7W2_DUMMY1     0.427676\n",
       "PNCL10W2_DUMMY1    0.427676\n",
       "PNCL6W2_DUMMY1     0.427676\n",
       "PNCL9W2_DUMMY1     0.427676\n",
       "PNCL11W2_DUMMY1    0.427949\n",
       "PNCL12W2_DUMMY1    0.427949\n",
       "PNCL13W2_DUMMY1    0.427949\n",
       "dtype: float64"
      ]
     },
     "execution_count": 9,
     "metadata": {},
     "output_type": "execute_result"
    }
   ],
   "source": [
    "r_dummy_df = pd.get_dummies(mtest_response,drop_first=True,prefix_sep='_DUMMY',dummy_na=True)\n",
    "r_dummy_df.columns = [(col.split()[0]).translate({ord(\"(\"):\"\",ord(\")\"):\"\",ord(\"[\"):\"\",ord(\"]\"):\"\"})\\\n",
    "                    for i, col in zip(range(r_dummy_df.shape[1]),r_dummy_df.columns)]\n",
    "\n",
    "def retain_nans(x):\n",
    "    try:\n",
    "        return np.where(r_dummy_df[x.name[:-1]+\"nan\"]==1,np.nan,x)\n",
    "    except:\n",
    "        #print(\"Except: \"+x.name+\" -- with \"+x.name[:-1]+\"nan\")\n",
    "        return x\n",
    "\n",
    "r_dummy_df = r_dummy_df.apply(lambda x: retain_nans(x))\n",
    "r_dummy_df = r_dummy_df.loc[:,~r_dummy_df.columns.str.endswith(\"nan\")]\n",
    "\n",
    "r_dummy_df.isna().mean().sort_values().tail(10)"
   ]
  },
  {
   "cell_type": "code",
   "execution_count": 10,
   "id": "424da3c0-fba6-47cd-be0b-23b36dfcbd1b",
   "metadata": {},
   "outputs": [],
   "source": [
    "mice_imputed_df = mic.MICEData(r_dummy_df)"
   ]
  },
  {
   "cell_type": "code",
   "execution_count": 11,
   "id": "f8811746-6b73-4826-888c-1500abc57d9f",
   "metadata": {},
   "outputs": [
    {
     "ename": "AttributeError",
     "evalue": "'list' object has no attribute 'head'",
     "output_type": "error",
     "traceback": [
      "\u001b[0;31m---------------------------------------------------------------------------\u001b[0m",
      "\u001b[0;31mAttributeError\u001b[0m                            Traceback (most recent call last)",
      "Input \u001b[0;32mIn [11]\u001b[0m, in \u001b[0;36m<module>\u001b[0;34m\u001b[0m\n\u001b[1;32m     54\u001b[0m     response_imputed_df \u001b[38;5;241m=\u001b[39m fit_mice(r_dummy_df, \u001b[38;5;124m\"\u001b[39m\u001b[38;5;124mDN1W2_DUMMY1\u001b[39m\u001b[38;5;124m\"\u001b[39m)\n\u001b[1;32m     55\u001b[0m     \u001b[38;5;66;03m#r_dummy_df.apply(lambda x: fit_mice(r_dummy_df, x.name))\u001b[39;00m\n\u001b[0;32m---> 56\u001b[0m \u001b[43mresponse_imputed_df\u001b[49m\u001b[38;5;241;43m.\u001b[39;49m\u001b[43mhead\u001b[49m()\n",
      "\u001b[0;31mAttributeError\u001b[0m: 'list' object has no attribute 'head'"
     ]
    }
   ],
   "source": [
    "def fit_mice(dummy_df, mice_col, imp_df=mice_imputed_df):\n",
    "    \n",
    "    #if dummy_df[mice_col].isna().sum() == 0:\n",
    "    #return dummy_df[mice_col]\n",
    "    \n",
    "    #if dummy_df[mice_col].var() < 0.001:\n",
    "    #print(\"Imputed mode: \"+mice_col)\n",
    "    #return dummy_df[mice_col].fillna(dummy_df[mice_col].mode())\n",
    "    \n",
    "    #print(mice_col)\n",
    "    \n",
    "    #dummy_df = pd.concat([(dummy_df.drop(columns=mice_col).\\\n",
    "    #loc[:,((dummy_df.drop(columns=mice_col).var()<0.1).values)]),\n",
    "    #dummy_df[mice_col]],axis=1)\n",
    "    #dummy_df = dummy_df.loc[:,(np.abs(dummy_df.corr()[mice_col])>0.1).values]\n",
    "    mice_formula = \"\" + mice_col + \" ~ \" + (\"+\").join([(str(col)) for col in dummy_df.columns\\\n",
    "                                            if (col != mice_col)])\n",
    "    #print(mice_formula)\n",
    "    \n",
    "    if \"DUMMY\" in mice_col:\n",
    "        mice_model = smf_discrete.Logit\n",
    "        numeric_var = False\n",
    "    else:\n",
    "        mice_model = sm.OLS\n",
    "        numeric_var = True\n",
    "    \n",
    "    #game_mice = mic.MICE(model_class=mice_model, model_formula=mice_formula, \n",
    "    #data=mice_imputed_df,fit_kwds={\"method\":\"nm\"})\n",
    "    results = []\n",
    "    \n",
    "    kernel = mf.ImputationKernel(\n",
    "      dummy_df,\n",
    "      datasets=5,\n",
    "      save_all_iterations=True,\n",
    "      random_state=396\n",
    "    )\n",
    "    \n",
    "    kernel.mice(5)\n",
    "    \n",
    "    \n",
    "\n",
    "    for k in range(5):\n",
    "        results.append(kernel.complete_data(k))\n",
    "        \n",
    "    return results\n",
    "        \n",
    "#if numeric_var:\n",
    "#return np.mean(np.array(results),axis=0)\n",
    "#else:\n",
    "#return_indices = np.random.randint(10,size=dummy_df.shape[0])\n",
    "#return (np.array(results))[:,return_indices]\n",
    "\n",
    "response_imputed_df = fit_mice(r_dummy_df, \"DN1W2_DUMMY1\")\n",
    "#r_dummy_df.apply(lambda x: fit_mice(r_dummy_df, x.name))"
   ]
  },
  {
   "cell_type": "code",
   "execution_count": 17,
   "id": "e26bfc4a-a07b-4477-bb4b-7ddf93d5f465",
   "metadata": {},
   "outputs": [],
   "source": [
    "for k in range(5):\n",
    "    response_imputed_df[k].to_csv((\"data/imputed_response_df_iter\"+str(k)))"
   ]
  },
  {
   "cell_type": "code",
   "execution_count": 19,
   "id": "1035a729-2906-45d3-9e1d-df7a4635c904",
   "metadata": {},
   "outputs": [
    {
     "data": {
      "text/plain": [
       "NUMMALE          0.000000\n",
       "LEP              0.000000\n",
       "REDUCED_LUNCH    0.000000\n",
       "FREE_LUNCH       0.000000\n",
       "DENSITY          0.000000\n",
       "                   ...   \n",
       "CN1W2            0.416508\n",
       "DNCL13W2         0.421956\n",
       "TRD              0.454100\n",
       "ST9              0.476437\n",
       "CN1              0.477527\n",
       "Length: 207, dtype: float64"
      ]
     },
     "execution_count": 19,
     "metadata": {},
     "output_type": "execute_result"
    }
   ],
   "source": [
    "exo_mtest_df = mtest_df.drop(columns=response_var_names)\n",
    "exo_mtest_df.isna().mean().sort_values()"
   ]
  },
  {
   "cell_type": "code",
   "execution_count": 22,
   "id": "4791778c-8e96-4607-b5bb-83c3e340cf2c",
   "metadata": {},
   "outputs": [],
   "source": [
    "e_dummy_df = pd.get_dummies(exo_mtest_df,drop_first=True,prefix_sep='_DUMMY',dummy_na=True)\n",
    "e_dummy_df.columns = [(col.split()[0]).translate({ord(\"(\"):\"\",ord(\")\"):\"\",ord(\"[\"):\"\",ord(\"]\"):\"\"})\\\n",
    "                    for i, col in zip(range(e_dummy_df.shape[1]),e_dummy_df.columns)]\n",
    "\n",
    "e_dummy_df = e_dummy_df.apply(lambda x: retain_nans(x))\n",
    "e_dummy_df = e_dummy_df.loc[:,~e_dummy_df.columns.str.endswith(\"nan\")]\n",
    "\n",
    "e_dummy_df.columns = [\"c\"+str(i)+col for i, col in zip(range(e_dummy_df.shape[1]),e_dummy_df.columns)]\n",
    "\n",
    "#e_mice_imputed_df = mic.MICEData(e_dummy_df)\n",
    "\n",
    "e_imputed_df = fit_mice(e_dummy_df, \"LEP\")\n",
    "\n",
    "for k in range(5):\n",
    "    response_imputed_df[k].to_csv((\"data/imputed_predictor_df_iter\"+str(k)))"
   ]
  },
  {
   "cell_type": "markdown",
   "id": "3abb86a9-5da7-45f5-b4e7-3c187626f745",
   "metadata": {},
   "source": [
    "## "
   ]
  }
 ],
 "metadata": {
  "kernelspec": {
   "display_name": "Python 3 (ipykernel)",
   "language": "python",
   "name": "python3"
  },
  "language_info": {
   "codemirror_mode": {
    "name": "ipython",
    "version": 3
   },
   "file_extension": ".py",
   "mimetype": "text/x-python",
   "name": "python",
   "nbconvert_exporter": "python",
   "pygments_lexer": "ipython3",
   "version": "3.9.7"
  }
 },
 "nbformat": 4,
 "nbformat_minor": 5
}
