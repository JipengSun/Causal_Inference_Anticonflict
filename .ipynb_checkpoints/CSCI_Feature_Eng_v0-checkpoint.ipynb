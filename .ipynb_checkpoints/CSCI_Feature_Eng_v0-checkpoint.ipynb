{
 "cells": [
  {
   "cell_type": "code",
   "execution_count": 1,
   "id": "066da968-92ed-44bc-853e-4ed0872df917",
   "metadata": {},
   "outputs": [],
   "source": [
    "import pandas as pd\n",
    "import numpy as np\n",
    "import seaborn as sns\n",
    "import matplotlib.pyplot as plt\n",
    "import miceforest as mf\n",
    "\n",
    "sns.set()"
   ]
  },
  {
   "cell_type": "code",
   "execution_count": 28,
   "id": "6606aa61-c1c4-43d4-8d58-b62cc73dfa26",
   "metadata": {},
   "outputs": [
    {
     "data": {
      "text/plain": [
       "(3671, 226)"
      ]
     },
     "execution_count": 28,
     "metadata": {},
     "output_type": "execute_result"
    }
   ],
   "source": [
    "response_vars_df1 = pd.read_csv(\"data/imputed_response_df_iter0\")\n",
    "response_vars_df1.shape"
   ]
  },
  {
   "cell_type": "code",
   "execution_count": 30,
   "id": "f769f76b-7b80-46d0-a60b-e4101a844270",
   "metadata": {},
   "outputs": [],
   "source": [
    "de_var_names = [col for col in response_vars_df1.columns if \"DE\" in col]\n",
    "response_vars_df1[\"DE_sum\"] = response_vars_df1.loc[:,de_var_names].sum(axis=1)\n",
    "\n",
    "binary_positive_vars = [(str(col).upper())+\"_DUMMY1\" for col in (\"dncl10w2,dncl11w2,dncl12w2,pncl1w2,pncl2w2,\"+\\\n",
    "                        \"pncl7w2,pncl12w2,pncl13w2,cscaw2,clhcw2,flihcw2,tomenw2,\"+\\\n",
    "                        \"tomepgw2,tomelnw2,tomesuw2,tomehdw2,dncl9w2,dncl10w2,dncl11w2,\"+\\\n",
    "                        \"dncl12w2,cbnpw2\").split(\",\")]\n",
    "binary_negative_vars = [(str(col).upper())+\"_DUMMY1\" for col in (\"dncl1w2,dncl2w2,dncl3w2,dncl4w2,dncl5w2,dncl6w2,\"+\\\n",
    "                        \"dncl7w2,dncl8w2,dncl14w2,pncl3w2,pncl4w2,pncl5w2,pncl6w2,cilw2,cflw2,\"+\\\n",
    "                        \"cmosw2,cbiw2,cgiw2,tomeew2,tomempw2,tomergw2,\"+\\\n",
    "                        \"tomerbw2,tomemfw2,tomepmw2,tomethpw2,tomerew2,tomesgw2\").split(\",\")]\n",
    "cat3_positive_vars = [col+str(i) for col in [(str(col).upper())+\"_DUMMY\" for col in \\\n",
    "                      (\"infdw2,infcw2\").split(\",\")] for i in range(1,3)]\n",
    "cat4_positive_vars = [col+str(i) for col in [(str(col).upper())+\"_DUMMY\" for col in \\\n",
    "                      (\"dn9w2,dn10w2,dn11w2,dn12w2\").split(\",\")] for i in range(1,4)]\n",
    "cat4_negative_vars = [col+str(i) for col in [(str(col).upper())+\"_DUMMY\" for col in \\\n",
    "                      (\"dn14w2,dn1w2,dn2w2,dn3w2,dn4w2,dn5w2,dn6w2,dn7w2,dn8w2\").split(\",\")]\\\n",
    "                       for i in range(1,4)]\n",
    "cat5_positive_vars = [col+str(i) for col in [(str(col).upper())+\"_DUMMY\" for col in \\\n",
    "                      (\"pn1w2,pn2w2,pn10w2,pn11w2,pn12w2,pn13w2\").split(\",\")]\\\n",
    "                      for i in range(1,5)]\n",
    "cat5_negative_vars = [col+str(i) for col in [(str(col).upper())+\"_DUMMY\" for col in \\\n",
    "                      (\"pn3w2,pn4w2,pn5w2,pn6w2,pn7w2,pn9w2\").split(\",\")]\\\n",
    "                       for i in range(1,5)]\n",
    "#cat3_negative_vars: none\n",
    "\n",
    "response_vars_df1[\"binary_vars\"] = response_vars_df1.loc[:,binary_positive_vars]\\\n",
    ".sum(axis=1) - response_vars_df1.loc[:,binary_negative_vars].sum(axis=1)"
   ]
  },
  {
   "cell_type": "code",
   "execution_count": 32,
   "id": "df2a9fda-85e3-4bfb-9373-81e2b0a1e776",
   "metadata": {},
   "outputs": [
    {
     "data": {
      "text/plain": [
       "<AxesSubplot:>"
      ]
     },
     "execution_count": 32,
     "metadata": {},
     "output_type": "execute_result"
    },
    {
     "data": {
      "image/png": "[encoded data removed]",
      "text/plain": [
       "<Figure size 432x288 with 1 Axes>"
      ]
     },
     "metadata": {},
     "output_type": "display_data"
    }
   ],
   "source": [
    "response_vars_df1[\"binary_vars\"].hist()"
   ]
  },
  {
   "cell_type": "code",
   "execution_count": null,
   "id": "75ef6d46-d88f-49b6-8e50-d989cb8799a3",
   "metadata": {},
   "outputs": [],
   "source": [
    "def create_composite_vars(full_df):\n",
    "    return composite_vars"
   ]
  }
 ],
 "metadata": {
  "kernelspec": {
   "display_name": "Python 3 (ipykernel)",
   "language": "python",
   "name": "python3"
  },
  "language_info": {
   "codemirror_mode": {
    "name": "ipython",
    "version": 3
   },
   "file_extension": ".py",
   "mimetype": "text/x-python",
   "name": "python",
   "nbconvert_exporter": "python",
   "pygments_lexer": "ipython3",
   "version": "3.9.7"
  }
 },
 "nbformat": 4,
 "nbformat_minor": 5
}
