{
 "cells": [
  {
   "cell_type": "code",
   "execution_count": null,
   "id": "066da968-92ed-44bc-853e-4ed0872df917",
   "metadata": {},
   "outputs": [],
   "source": [
    "import pandas as pd\n",
    "import numpy as np\n",
    "import seaborn as sns\n",
    "import matplotlib.pyplot as plt\n",
    "import miceforest as mf\n",
    "\n",
    "sns.set()"
   ]
  },
  {
   "cell_type": "code",
   "execution_count": null,
   "id": "6606aa61-c1c4-43d4-8d58-b62cc73dfa26",
   "metadata": {},
   "outputs": [],
   "source": [
    "response_vars_df1 = pd.read_csv(\"data/full_imputed_response_df_iter1.csv\")\n",
    "response_vars_df1.shape"
   ]
  },
  {
   "cell_type": "code",
   "execution_count": null,
   "id": "a11772fc-4afc-4cd1-aa5c-5a2009a38134",
   "metadata": {},
   "outputs": [],
   "source": [
    "predictor_vars_df1 = pd.read_csv(\"data/full_imputed_predictor_df_iter1.csv\")\n",
    "predictor_vars_df1.shape"
   ]
  },
  {
   "cell_type": "code",
   "execution_count": null,
   "id": "ae2ea63e-e0ed-425b-bcbe-1ccbeb189098",
   "metadata": {},
   "outputs": [],
   "source": [
    "original_df = pd.read_csv(\"data/anticonflict_study_dataframe.csv\",low_memory=False)\n",
    "#original_indices = pd.read_csv(\"data/tenth_sample_indices.csv\")['0']\n",
    "original_sample = original_df #.iloc[original_indices.values,:]\n",
    "original_sample.loc[:,[col for col in original_sample.columns if col.startswith(\"RTSM\")]] =\\\n",
    "original_sample.loc[:,[col for col in original_sample.columns if col.startswith(\"RTSM\")]].fillna(0)\n",
    "original_sample.shape"
   ]
  },
  {
   "cell_type": "code",
   "execution_count": null,
   "id": "f769f76b-7b80-46d0-a60b-e4101a844270",
   "metadata": {},
   "outputs": [],
   "source": [
    "def create_composite_vars(full_df,predictor=False,trs=\"w2\"):\n",
    "    if predictor:\n",
    "        print(\"flag predictor\")\n",
    "        trs = \"\"\n",
    "        full_df.columns = [(\"_\").join(col.split(\"_\")[1:]) for col in full_df.columns]\n",
    "    \n",
    "    de_var_names = [col for col in full_df.columns if \"DE\" in col]\n",
    "    full_df[\"DE_sum\"] = full_df.loc[:,de_var_names].sum(axis=1)\n",
    "\n",
    "    binary_positive_vars = [(str(col).upper())+\"_DUMMY1\" for col in (\"dncl10w2,dncl11w2,dncl12w2,pncl1w2,pncl2w2,\"+\\\n",
    "                            \"pncl7w2,pncl12w2,pncl13w2,cscaw2,clhcw2,flihcw2,tomenw2,\"+\\\n",
    "                            \"tomepgw2,tomelnw2,tomesuw2,tomehdw2,dncl9w2,dncl10w2,dncl11w2,\"+\\\n",
    "                            \"dncl12w2,cbnpw2\".replace(\"w2\",trs)).split(\",\")]\n",
    "    binary_negative_vars = [(str(col).upper())+\"_DUMMY1\" for col in (\"dncl1w2,dncl2w2,dncl3w2,dncl4w2,dncl5w2,dncl6w2,\"+\\\n",
    "                            \"dncl7w2,dncl8w2,dncl14w2,pncl3w2,pncl4w2,pncl5w2,pncl6w2,cilw2,cflw2,\"+\\\n",
    "                            \"cmosw2,cbiw2,cgiw2,tomeew2,tomempw2,tomergw2,\"+\\\n",
    "                            \"tomerbw2,tomemfw2,tomepmw2,tomethpw2,tomerew2,tomesgw2\"\\\n",
    "                                                                     .replace(\"w2\",trs)).split(\",\")]\n",
    "    cat3_positive_vars = [col+str(i) for col in [(str(col).upper())+\"_DUMMY\" for col in \\\n",
    "                          (\"infdw2,infcw2\".replace(\"w2\",trs))\\\n",
    "                                                 .split(\",\")] for i in range(1,3)]\n",
    "    cat4_positive_vars = [col+str(i) for col in [(str(col).upper())+\"_DUMMY\" for col in \\\n",
    "                          (\"dn9w2,dn10w2,dn11w2,dn12w2\".replace(\"w2\",trs))\\\n",
    "                                                 .split(\",\")] for i in range(1,4)]\n",
    "    cat4_negative_vars = [col+str(i) for col in [(str(col).upper())+\"_DUMMY\" for col in \\\n",
    "                          (\"dn14w2,dn1w2,dn2w2,dn3w2,dn4w2,dn5w2,dn6w2,dn7w2,dn8w2\".replace(\"w2\",trs))\\\n",
    "                                                 .split(\",\")]\\\n",
    "                           for i in range(1,4)]\n",
    "    cat5_positive_vars = [col+str(i) for col in [(str(col).upper())+\"_DUMMY\" for col in \\\n",
    "                          (\"pn1w2,pn2w2,pn10w2,pn11w2,pn12w2,pn13w2\".replace(\"w2\",trs)).split(\",\")]\\\n",
    "                          for i in range(1,5)]\n",
    "    cat5_negative_vars = [col+str(i) for col in [(str(col).upper())+\"_DUMMY\" for col in \\\n",
    "                          (\"pn3w2,pn4w2,pn5w2,pn6w2,pn7w2,pn9w2\".replace(\"w2\",trs)).split(\",\")]\\\n",
    "                           for i in range(1,5)]\n",
    "    #cat3_negative_vars: none\n",
    "\n",
    "    full_df[\"binary_vars\"] = full_df.loc[:,binary_positive_vars]\\\n",
    "    .sum(axis=1) - full_df.loc[:,binary_negative_vars].sum(axis=1)\n",
    "\n",
    "    full_df[\"composite_conflict_score\"] = full_df[\"binary_vars\"] - \\\n",
    "    (full_df[\"DE_sum\"] * 0.25)\n",
    "\n",
    "    return full_df"
   ]
  },
  {
   "cell_type": "markdown",
   "id": "a0677a49-831f-459d-a2b9-32d9b6b12747",
   "metadata": {},
   "source": [
    "# TODO: Add 2< cat variables"
   ]
  },
  {
   "cell_type": "code",
   "execution_count": null,
   "id": "4a7fe0ea-2a0f-4803-9972-67c98c59ebac",
   "metadata": {},
   "outputs": [],
   "source": [
    "response_comp_df1 = create_composite_vars(response_vars_df1)\n",
    "response_comp_df1.shape"
   ]
  },
  {
   "cell_type": "code",
   "execution_count": null,
   "id": "df2a9fda-85e3-4bfb-9373-81e2b0a1e776",
   "metadata": {},
   "outputs": [],
   "source": [
    "response_comp_df1[\"binary_vars\"].hist()\n",
    "plt.show()"
   ]
  },
  {
   "cell_type": "code",
   "execution_count": null,
   "id": "95fd9416-0b4f-4737-99da-108c108a7a32",
   "metadata": {},
   "outputs": [],
   "source": [
    "response_comp_df1[\"DE_sum\"].describe()"
   ]
  },
  {
   "cell_type": "code",
   "execution_count": null,
   "id": "0e86a7b3-ef28-453b-bee5-ab6d880c6682",
   "metadata": {},
   "outputs": [],
   "source": [
    "response_comp_df1[\"DE_sum\"].hist(bins=50)\n",
    "plt.show()"
   ]
  },
  {
   "cell_type": "code",
   "execution_count": null,
   "id": "3b25bc50-4208-4f02-8380-dfe8ccb6f673",
   "metadata": {},
   "outputs": [],
   "source": [
    "response_comp_df1[\"composite_conflict_score\"].hist(bins=50)\n",
    "plt.show()"
   ]
  },
  {
   "cell_type": "code",
   "execution_count": null,
   "id": "010743c7-ae6d-4c2f-9040-321cdd0e5ef2",
   "metadata": {},
   "outputs": [],
   "source": [
    "#(response_comp_df1[\"composite_conflict_score\"]).to_csv(\"data/imputed_response_composite_iter1.csv\")"
   ]
  },
  {
   "cell_type": "code",
   "execution_count": null,
   "id": "fdffdc53-9abd-4d7e-8ce9-b1d67c82ef71",
   "metadata": {},
   "outputs": [],
   "source": [
    "response_comp_df1[\"composite_conflict_score\"].isna().value_counts()"
   ]
  },
  {
   "cell_type": "code",
   "execution_count": null,
   "id": "22464f63-8ac1-4ba5-b6cc-f950ab9bbae4",
   "metadata": {},
   "outputs": [],
   "source": [
    "school_grouped_predictors = pd.get_dummies(original_sample[[\"SCHID\",\"SCHTREAT\",\"AGEC_NEW\",\"GENDER\",\n",
    "                                \"GR\",\"COLL\",\"CELL\",\"FSCH\",\"RTSM1\",\"RTSM2\",\"RTSM3\",\"RTSM4\",\"RTSM5\",\n",
    "                                                           \"RTSM6\",\"RTSM7\",\"RTSM8\",\"RTSM9\"]],\n",
    "               drop_first=True).groupby(\"SCHID\",as_index=False).mean()\n",
    "response_comp_df1[\"SCHID\"] = original_sample[\"SCHID\"]\n",
    "school_grouped_response = pd.DataFrame(response_comp_df1.groupby(\"SCHID\",as_index=False)[\"composite_conflict_score\"].mean())\n",
    "\n",
    "tenth_initial_df = school_grouped_predictors.merge(school_grouped_response)\n",
    "tenth_initial_df.to_csv(\"data/noncompliance_school_level_data.csv\")\n",
    "tenth_initial_df.corr()[\"SCHTREAT_(1) Treatment school (Roots meetings 2012-2013)\"]"
   ]
  },
  {
   "cell_type": "code",
   "execution_count": null,
   "id": "d02b005c-6289-4bec-b64d-37e63a994ebe",
   "metadata": {},
   "outputs": [],
   "source": [
    "student_lvl_predictors = pd.get_dummies(original_sample[[\"SCHID\",\"SCHTREAT\",\"AGEC_NEW\",\n",
    "                                                         \"GENDER\",\"GR\",\"COLL\",\"CELL\",\"FSCH\",\"TREAT\",\n",
    "                                                         \"RTSM1\",\"RTSM2\",\"RTSM3\",\"RTSM4\",\"RTSM5\",\n",
    "                                                           \"RTSM6\",\"RTSM7\",\"RTSM8\",\"RTSM9\"]])\n",
    "student_lvl_predictors[\"Composite_Conflict_Score\"] = response_comp_df1[\"composite_conflict_score\"]\n",
    "student_lvl_predictors.to_csv(\"data/noncompliance_student_level_data.csv\")\n",
    "#"
   ]
  },
  {
   "cell_type": "code",
   "execution_count": null,
   "id": "f2cab9a6-2ceb-42c1-aa98-3904d7c18ea8",
   "metadata": {},
   "outputs": [],
   "source": [
    "student_lvl_predictors.shape"
   ]
  },
  {
   "cell_type": "code",
   "execution_count": null,
   "id": "75ef6d46-d88f-49b6-8e50-d989cb8799a3",
   "metadata": {},
   "outputs": [],
   "source": [
    "predictor_comp_df1 = create_composite_vars(predictor_vars_df1,predictor=True)"
   ]
  },
  {
   "cell_type": "code",
   "execution_count": null,
   "id": "0f013150-a81e-4c0b-bd74-eb70a267c160",
   "metadata": {},
   "outputs": [],
   "source": []
  }
 ],
 "metadata": {
  "kernelspec": {
   "display_name": "Python 3 (ipykernel)",
   "language": "python",
   "name": "python3"
  },
  "language_info": {
   "codemirror_mode": {
    "name": "ipython",
    "version": 3
   },
   "file_extension": ".py",
   "mimetype": "text/x-python",
   "name": "python",
   "nbconvert_exporter": "python",
   "pygments_lexer": "ipython3",
   "version": "3.9.7"
  }
 },
 "nbformat": 4,
 "nbformat_minor": 5
}
